{
 "cells": [
  {
   "cell_type": "code",
   "execution_count": 3,
   "id": "7a0933e4",
   "metadata": {},
   "outputs": [],
   "source": [
    "import seaborn as sns\n",
    "import matplotlib.pyplot as plt"
   ]
  },
  {
   "cell_type": "code",
   "execution_count": 4,
   "id": "cfcf6134",
   "metadata": {},
   "outputs": [],
   "source": [
    "df = sns.load_dataset(\"titanic\")"
   ]
  },
  {
   "cell_type": "code",
   "execution_count": 5,
   "id": "1c09fe5b",
   "metadata": {},
   "outputs": [
    {
     "data": {
      "text/html": [
       "<div>\n",
       "<style scoped>\n",
       "    .dataframe tbody tr th:only-of-type {\n",
       "        vertical-align: middle;\n",
       "    }\n",
       "\n",
       "    .dataframe tbody tr th {\n",
       "        vertical-align: top;\n",
       "    }\n",
       "\n",
       "    .dataframe thead th {\n",
       "        text-align: right;\n",
       "    }\n",
       "</style>\n",
       "<table border=\"1\" class=\"dataframe\">\n",
       "  <thead>\n",
       "    <tr style=\"text-align: right;\">\n",
       "      <th></th>\n",
       "      <th>survived</th>\n",
       "      <th>pclass</th>\n",
       "      <th>sex</th>\n",
       "      <th>age</th>\n",
       "      <th>sibsp</th>\n",
       "      <th>parch</th>\n",
       "      <th>fare</th>\n",
       "      <th>embarked</th>\n",
       "      <th>class</th>\n",
       "      <th>who</th>\n",
       "      <th>adult_male</th>\n",
       "      <th>deck</th>\n",
       "      <th>embark_town</th>\n",
       "      <th>alive</th>\n",
       "      <th>alone</th>\n",
       "    </tr>\n",
       "  </thead>\n",
       "  <tbody>\n",
       "    <tr>\n",
       "      <th>0</th>\n",
       "      <td>0</td>\n",
       "      <td>3</td>\n",
       "      <td>male</td>\n",
       "      <td>22.0</td>\n",
       "      <td>1</td>\n",
       "      <td>0</td>\n",
       "      <td>7.2500</td>\n",
       "      <td>S</td>\n",
       "      <td>Third</td>\n",
       "      <td>man</td>\n",
       "      <td>True</td>\n",
       "      <td>NaN</td>\n",
       "      <td>Southampton</td>\n",
       "      <td>no</td>\n",
       "      <td>False</td>\n",
       "    </tr>\n",
       "    <tr>\n",
       "      <th>1</th>\n",
       "      <td>1</td>\n",
       "      <td>1</td>\n",
       "      <td>female</td>\n",
       "      <td>38.0</td>\n",
       "      <td>1</td>\n",
       "      <td>0</td>\n",
       "      <td>71.2833</td>\n",
       "      <td>C</td>\n",
       "      <td>First</td>\n",
       "      <td>woman</td>\n",
       "      <td>False</td>\n",
       "      <td>C</td>\n",
       "      <td>Cherbourg</td>\n",
       "      <td>yes</td>\n",
       "      <td>False</td>\n",
       "    </tr>\n",
       "    <tr>\n",
       "      <th>2</th>\n",
       "      <td>1</td>\n",
       "      <td>3</td>\n",
       "      <td>female</td>\n",
       "      <td>26.0</td>\n",
       "      <td>0</td>\n",
       "      <td>0</td>\n",
       "      <td>7.9250</td>\n",
       "      <td>S</td>\n",
       "      <td>Third</td>\n",
       "      <td>woman</td>\n",
       "      <td>False</td>\n",
       "      <td>NaN</td>\n",
       "      <td>Southampton</td>\n",
       "      <td>yes</td>\n",
       "      <td>True</td>\n",
       "    </tr>\n",
       "    <tr>\n",
       "      <th>3</th>\n",
       "      <td>1</td>\n",
       "      <td>1</td>\n",
       "      <td>female</td>\n",
       "      <td>35.0</td>\n",
       "      <td>1</td>\n",
       "      <td>0</td>\n",
       "      <td>53.1000</td>\n",
       "      <td>S</td>\n",
       "      <td>First</td>\n",
       "      <td>woman</td>\n",
       "      <td>False</td>\n",
       "      <td>C</td>\n",
       "      <td>Southampton</td>\n",
       "      <td>yes</td>\n",
       "      <td>False</td>\n",
       "    </tr>\n",
       "    <tr>\n",
       "      <th>4</th>\n",
       "      <td>0</td>\n",
       "      <td>3</td>\n",
       "      <td>male</td>\n",
       "      <td>35.0</td>\n",
       "      <td>0</td>\n",
       "      <td>0</td>\n",
       "      <td>8.0500</td>\n",
       "      <td>S</td>\n",
       "      <td>Third</td>\n",
       "      <td>man</td>\n",
       "      <td>True</td>\n",
       "      <td>NaN</td>\n",
       "      <td>Southampton</td>\n",
       "      <td>no</td>\n",
       "      <td>True</td>\n",
       "    </tr>\n",
       "  </tbody>\n",
       "</table>\n",
       "</div>"
      ],
      "text/plain": [
       "   survived  pclass     sex   age  sibsp  parch     fare embarked  class  \\\n",
       "0         0       3    male  22.0      1      0   7.2500        S  Third   \n",
       "1         1       1  female  38.0      1      0  71.2833        C  First   \n",
       "2         1       3  female  26.0      0      0   7.9250        S  Third   \n",
       "3         1       1  female  35.0      1      0  53.1000        S  First   \n",
       "4         0       3    male  35.0      0      0   8.0500        S  Third   \n",
       "\n",
       "     who  adult_male deck  embark_town alive  alone  \n",
       "0    man        True  NaN  Southampton    no  False  \n",
       "1  woman       False    C    Cherbourg   yes  False  \n",
       "2  woman       False  NaN  Southampton   yes   True  \n",
       "3  woman       False    C  Southampton   yes  False  \n",
       "4    man        True  NaN  Southampton    no   True  "
      ]
     },
     "execution_count": 5,
     "metadata": {},
     "output_type": "execute_result"
    }
   ],
   "source": [
    "df.head()"
   ]
  },
  {
   "cell_type": "code",
   "execution_count": 101,
   "id": "7cae27b5",
   "metadata": {},
   "outputs": [
    {
     "data": {
      "text/html": [
       "<div>\n",
       "<style scoped>\n",
       "    .dataframe tbody tr th:only-of-type {\n",
       "        vertical-align: middle;\n",
       "    }\n",
       "\n",
       "    .dataframe tbody tr th {\n",
       "        vertical-align: top;\n",
       "    }\n",
       "\n",
       "    .dataframe thead th {\n",
       "        text-align: right;\n",
       "    }\n",
       "</style>\n",
       "<table border=\"1\" class=\"dataframe\">\n",
       "  <thead>\n",
       "    <tr style=\"text-align: right;\">\n",
       "      <th></th>\n",
       "      <th>survived</th>\n",
       "      <th>pclass</th>\n",
       "      <th>age</th>\n",
       "      <th>sibsp</th>\n",
       "      <th>parch</th>\n",
       "      <th>fare</th>\n",
       "    </tr>\n",
       "  </thead>\n",
       "  <tbody>\n",
       "    <tr>\n",
       "      <th>count</th>\n",
       "      <td>891.000000</td>\n",
       "      <td>891.000000</td>\n",
       "      <td>714.000000</td>\n",
       "      <td>891.000000</td>\n",
       "      <td>891.000000</td>\n",
       "      <td>891.000000</td>\n",
       "    </tr>\n",
       "    <tr>\n",
       "      <th>mean</th>\n",
       "      <td>0.383838</td>\n",
       "      <td>2.308642</td>\n",
       "      <td>29.699118</td>\n",
       "      <td>0.523008</td>\n",
       "      <td>0.381594</td>\n",
       "      <td>32.204208</td>\n",
       "    </tr>\n",
       "    <tr>\n",
       "      <th>std</th>\n",
       "      <td>0.486592</td>\n",
       "      <td>0.836071</td>\n",
       "      <td>14.526497</td>\n",
       "      <td>1.102743</td>\n",
       "      <td>0.806057</td>\n",
       "      <td>49.693429</td>\n",
       "    </tr>\n",
       "    <tr>\n",
       "      <th>min</th>\n",
       "      <td>0.000000</td>\n",
       "      <td>1.000000</td>\n",
       "      <td>0.420000</td>\n",
       "      <td>0.000000</td>\n",
       "      <td>0.000000</td>\n",
       "      <td>0.000000</td>\n",
       "    </tr>\n",
       "    <tr>\n",
       "      <th>25%</th>\n",
       "      <td>0.000000</td>\n",
       "      <td>2.000000</td>\n",
       "      <td>20.125000</td>\n",
       "      <td>0.000000</td>\n",
       "      <td>0.000000</td>\n",
       "      <td>7.910400</td>\n",
       "    </tr>\n",
       "    <tr>\n",
       "      <th>50%</th>\n",
       "      <td>0.000000</td>\n",
       "      <td>3.000000</td>\n",
       "      <td>28.000000</td>\n",
       "      <td>0.000000</td>\n",
       "      <td>0.000000</td>\n",
       "      <td>14.454200</td>\n",
       "    </tr>\n",
       "    <tr>\n",
       "      <th>75%</th>\n",
       "      <td>1.000000</td>\n",
       "      <td>3.000000</td>\n",
       "      <td>38.000000</td>\n",
       "      <td>1.000000</td>\n",
       "      <td>0.000000</td>\n",
       "      <td>31.000000</td>\n",
       "    </tr>\n",
       "    <tr>\n",
       "      <th>max</th>\n",
       "      <td>1.000000</td>\n",
       "      <td>3.000000</td>\n",
       "      <td>80.000000</td>\n",
       "      <td>8.000000</td>\n",
       "      <td>6.000000</td>\n",
       "      <td>512.329200</td>\n",
       "    </tr>\n",
       "  </tbody>\n",
       "</table>\n",
       "</div>"
      ],
      "text/plain": [
       "         survived      pclass         age       sibsp       parch        fare\n",
       "count  891.000000  891.000000  714.000000  891.000000  891.000000  891.000000\n",
       "mean     0.383838    2.308642   29.699118    0.523008    0.381594   32.204208\n",
       "std      0.486592    0.836071   14.526497    1.102743    0.806057   49.693429\n",
       "min      0.000000    1.000000    0.420000    0.000000    0.000000    0.000000\n",
       "25%      0.000000    2.000000   20.125000    0.000000    0.000000    7.910400\n",
       "50%      0.000000    3.000000   28.000000    0.000000    0.000000   14.454200\n",
       "75%      1.000000    3.000000   38.000000    1.000000    0.000000   31.000000\n",
       "max      1.000000    3.000000   80.000000    8.000000    6.000000  512.329200"
      ]
     },
     "execution_count": 101,
     "metadata": {},
     "output_type": "execute_result"
    }
   ],
   "source": [
    "df.describe()"
   ]
  },
  {
   "cell_type": "code",
   "execution_count": 6,
   "id": "791b0b48",
   "metadata": {},
   "outputs": [
    {
     "data": {
      "text/plain": [
       "(891, 15)"
      ]
     },
     "execution_count": 6,
     "metadata": {},
     "output_type": "execute_result"
    }
   ],
   "source": [
    "df.shape"
   ]
  },
  {
   "cell_type": "code",
   "execution_count": 7,
   "id": "d60c3814",
   "metadata": {},
   "outputs": [
    {
     "data": {
      "image/png": "[encoded data removed]",
      "text/plain": [
       "<Figure size 432x288 with 1 Axes>"
      ]
     },
     "metadata": {
      "needs_background": "light"
     },
     "output_type": "display_data"
    }
   ],
   "source": [
    "plt.hist(df.fare)\n",
    "plt.xlabel(\"fare\")\n",
    "plt.ylabel(\"frequency\")\n",
    "plt.show()"
   ]
  },
  {
   "cell_type": "code",
   "execution_count": 11,
   "id": "59eabc43",
   "metadata": {},
   "outputs": [
    {
     "data": {
      "image/png": "[encoded data removed]",
      "text/plain": [
       "<Figure size 1152x720 with 1 Axes>"
      ]
     },
     "metadata": {
      "needs_background": "light"
     },
     "output_type": "display_data"
    }
   ],
   "source": [
    "plt.figure(figsize = (16,10))\n",
    "plt.plot(df.index,df.fare)\n",
    "plt.xlabel(\"Passenger\")\n",
    "plt.ylabel(\"fare\")\n",
    "plt.title(\"Fare for each passenger\")\n",
    "plt.grid(True)\n",
    "plt.show()"
   ]
  },
  {
   "cell_type": "code",
   "execution_count": 12,
   "id": "dda80786",
   "metadata": {},
   "outputs": [
    {
     "data": {
      "text/plain": [
       "<AxesSubplot:xlabel='age'>"
      ]
     },
     "execution_count": 12,
     "metadata": {},
     "output_type": "execute_result"
    },
    {
     "data": {
      "image/png": "[encoded data removed]",
      "text/plain": [
       "<Figure size 432x288 with 1 Axes>"
      ]
     },
     "metadata": {
      "needs_background": "light"
     },
     "output_type": "display_data"
    }
   ],
   "source": [
    "sns.boxplot(x = df.age)"
   ]
  },
  {
   "cell_type": "code",
   "execution_count": 43,
   "id": "bf8663fe",
   "metadata": {},
   "outputs": [
    {
     "data": {
      "image/png": "[encoded data removed]",
      "text/plain": [
       "<Figure size 288x432 with 1 Axes>"
      ]
     },
     "metadata": {
      "needs_background": "light"
     },
     "output_type": "display_data"
    }
   ],
   "source": [
    "plt.figure(figsize = (4,6))\n",
    "plt.hist(df.sex)\n",
    "plt.xlabel(\"Gender\")\n",
    "plt.ylabel(\"frequency\")\n",
    "plt.grid(True)\n",
    "plt.show()"
   ]
  },
  {
   "cell_type": "code",
   "execution_count": 61,
   "id": "6710ec10",
   "metadata": {},
   "outputs": [],
   "source": [
    "# plt.figure(figsize = (4,6))\n",
    "# plt.hist(df.adult_male)\n",
    "# plt.xlabel(\"adult_male\")\n",
    "# plt.ylabel(\"frequency\")\n",
    "# plt.grid(True)\n",
    "# plt.show()"
   ]
  },
  {
   "cell_type": "code",
   "execution_count": 13,
   "id": "8b49b0db",
   "metadata": {},
   "outputs": [
    {
     "data": {
      "image/png": "[encoded data removed]",
      "text/plain": [
       "<Figure size 432x288 with 1 Axes>"
      ]
     },
     "metadata": {},
     "output_type": "display_data"
    }
   ],
   "source": [
    "plt.pie(df[\"sex\"].value_counts(),startangle = 140,labels = df[\"sex\"].unique(), autopct=\"%1.1f%%\")\n",
    "plt.show()"
   ]
  },
  {
   "cell_type": "code",
   "execution_count": 15,
   "id": "fb688922",
   "metadata": {},
   "outputs": [
    {
     "data": {
      "text/plain": [
       "array(['Southampton', 'Cherbourg', 'Queenstown', nan], dtype=object)"
      ]
     },
     "execution_count": 15,
     "metadata": {},
     "output_type": "execute_result"
    }
   ],
   "source": [
    "df.embark_town.unique()"
   ]
  },
  {
   "cell_type": "code",
   "execution_count": 16,
   "id": "72be3717",
   "metadata": {},
   "outputs": [],
   "source": [
    "df.embark_town.fillna('Not specified',inplace = True)"
   ]
  },
  {
   "cell_type": "code",
   "execution_count": 17,
   "id": "614e32ef",
   "metadata": {},
   "outputs": [
    {
     "data": {
      "image/png": "[encoded data removed]",
      "text/plain": [
       "<Figure size 432x288 with 1 Axes>"
      ]
     },
     "metadata": {},
     "output_type": "display_data"
    }
   ],
   "source": [
    "plt.pie(df['embark_town'].value_counts(), labels = df['embark_town'].unique(), autopct='%1.1f%%')\n",
    "plt.show()"
   ]
  },
  {
   "cell_type": "code",
   "execution_count": 18,
   "id": "5178ddec",
   "metadata": {},
   "outputs": [
    {
     "name": "stderr",
     "output_type": "stream",
     "text": [
      "<__array_function__ internals>:180: RuntimeWarning: Converting input from bool to <class 'numpy.uint8'> for compatibility.\n",
      "<__array_function__ internals>:180: RuntimeWarning: Converting input from bool to <class 'numpy.uint8'> for compatibility.\n"
     ]
    },
    {
     "data": {
      "text/plain": [
       "<seaborn.axisgrid.PairGrid at 0x1d2d1d26130>"
      ]
     },
     "execution_count": 18,
     "metadata": {},
     "output_type": "execute_result"
    },
    {
     "data": {
      "image/png": "[encoded data removed]",
      "text/plain": [
       "<Figure size 1440x1440 with 72 Axes>"
      ]
     },
     "metadata": {
      "needs_background": "light"
     },
     "output_type": "display_data"
    }
   ],
   "source": [
    "sns.pairplot(df)"
   ]
  },
  {
   "cell_type": "code",
   "execution_count": 20,
   "id": "5ff5bdc5",
   "metadata": {},
   "outputs": [
    {
     "data": {
      "text/plain": [
       "<AxesSubplot:>"
      ]
     },
     "execution_count": 20,
     "metadata": {},
     "output_type": "execute_result"
    },
    {
     "data": {
      "image/png": "[encoded data removed]",
      "text/plain": [
       "<Figure size 432x288 with 2 Axes>"
      ]
     },
     "metadata": {
      "needs_background": "light"
     },
     "output_type": "display_data"
    }
   ],
   "source": [
    "sns.heatmap(df.corr())"
   ]
  },
  {
   "cell_type": "code",
   "execution_count": 21,
   "id": "59f76779",
   "metadata": {},
   "outputs": [
    {
     "data": {
      "text/plain": [
       "<AxesSubplot:xlabel='survived', ylabel='fare'>"
      ]
     },
     "execution_count": 21,
     "metadata": {},
     "output_type": "execute_result"
    },
    {
     "data": {
      "image/png": "[encoded data removed]",
      "text/plain": [
       "<Figure size 432x288 with 1 Axes>"
      ]
     },
     "metadata": {
      "needs_background": "light"
     },
     "output_type": "display_data"
    }
   ],
   "source": [
    "sns.lineplot(x = df.survived ,y= df.fare)"
   ]
  },
  {
   "cell_type": "code",
   "execution_count": 35,
   "id": "b07ab3fc",
   "metadata": {},
   "outputs": [
    {
     "data": {
      "text/plain": [
       "<AxesSubplot:xlabel='sex', ylabel='age'>"
      ]
     },
     "execution_count": 35,
     "metadata": {},
     "output_type": "execute_result"
    },
    {
     "data": {
      "image/png": "[encoded data removed]",
      "text/plain": [
       "<Figure size 432x288 with 1 Axes>"
      ]
     },
     "metadata": {
      "needs_background": "light"
     },
     "output_type": "display_data"
    }
   ],
   "source": [
    "sns.boxplot(x = df.sex, y = df['age'])"
   ]
  },
  {
   "cell_type": "code",
   "execution_count": 38,
   "id": "206500e0",
   "metadata": {},
   "outputs": [
    {
     "data": {
      "text/plain": [
       "<AxesSubplot:xlabel='sex', ylabel='age'>"
      ]
     },
     "execution_count": 38,
     "metadata": {},
     "output_type": "execute_result"
    },
    {
     "data": {
      "image/png": "[encoded data removed]",
      "text/plain": [
       "<Figure size 432x288 with 1 Axes>"
      ]
     },
     "metadata": {
      "needs_background": "light"
     },
     "output_type": "display_data"
    }
   ],
   "source": [
    "sns.boxplot(x = df.sex, y = df['age'], hue = df.survived)"
   ]
  },
  {
   "cell_type": "code",
   "execution_count": 45,
   "id": "4b7e2654",
   "metadata": {},
   "outputs": [
    {
     "data": {
      "image/png": "[encoded data removed]",
      "text/plain": [
       "<Figure size 432x288 with 1 Axes>"
      ]
     },
     "metadata": {
      "needs_background": "light"
     },
     "output_type": "display_data"
    }
   ],
   "source": [
    "sns.barplot(y = df['survived'], x= df['class'])\n",
    "plt.grid(True)\n",
    "plt.show()"
   ]
  },
  {
   "cell_type": "code",
   "execution_count": 49,
   "id": "56841455",
   "metadata": {},
   "outputs": [
    {
     "name": "stderr",
     "output_type": "stream",
     "text": [
      "D:\\SK\\Programs\\anaconda3\\lib\\site-packages\\seaborn\\_decorators.py:36: FutureWarning: Pass the following variables as keyword args: x, y. From version 0.12, the only valid positional argument will be `data`, and passing other arguments without an explicit keyword will result in an error or misinterpretation.\n",
      "  warnings.warn(\n"
     ]
    },
    {
     "data": {
      "text/plain": [
       "<AxesSubplot:xlabel='age', ylabel='fare'>"
      ]
     },
     "execution_count": 49,
     "metadata": {},
     "output_type": "execute_result"
    },
    {
     "data": {
      "image/png": "[encoded data removed]",
      "text/plain": [
       "<Figure size 432x288 with 1 Axes>"
      ]
     },
     "metadata": {
      "needs_background": "light"
     },
     "output_type": "display_data"
    }
   ],
   "source": [
    "sns.scatterplot(df.age,df.fare,hue = df.age)"
   ]
  },
  {
   "cell_type": "code",
   "execution_count": null,
   "id": "e544de75",
   "metadata": {},
   "outputs": [],
   "source": []
  },
  {
   "cell_type": "code",
   "execution_count": 55,
   "id": "7d6991d4",
   "metadata": {},
   "outputs": [
    {
     "data": {
      "text/plain": [
       "<AxesSubplot:xlabel='age'>"
      ]
     },
     "execution_count": 55,
     "metadata": {},
     "output_type": "execute_result"
    },
    {
     "data": {
      "image/png": "[encoded data removed]",
      "text/plain": [
       "<Figure size 432x288 with 1 Axes>"
      ]
     },
     "metadata": {
      "needs_background": "light"
     },
     "output_type": "display_data"
    }
   ],
   "source": [
    "sns.boxplot(x = df['age'])"
   ]
  },
  {
   "cell_type": "code",
   "execution_count": 56,
   "id": "c5342137",
   "metadata": {},
   "outputs": [
    {
     "data": {
      "text/plain": [
       "<AxesSubplot:xlabel='sex', ylabel='age'>"
      ]
     },
     "execution_count": 56,
     "metadata": {},
     "output_type": "execute_result"
    },
    {
     "data": {
      "image/png": "[encoded data removed]",
      "text/plain": [
       "<Figure size 432x288 with 1 Axes>"
      ]
     },
     "metadata": {
      "needs_background": "light"
     },
     "output_type": "display_data"
    }
   ],
   "source": [
    "sns.boxplot(y = df['age'], x = df['sex'])"
   ]
  },
  {
   "cell_type": "code",
   "execution_count": 58,
   "id": "8c80563e",
   "metadata": {},
   "outputs": [
    {
     "data": {
      "text/plain": [
       "<AxesSubplot:xlabel='sex', ylabel='age'>"
      ]
     },
     "execution_count": 58,
     "metadata": {},
     "output_type": "execute_result"
    },
    {
     "data": {
      "image/png": "[encoded data removed]",
      "text/plain": [
       "<Figure size 432x288 with 1 Axes>"
      ]
     },
     "metadata": {
      "needs_background": "light"
     },
     "output_type": "display_data"
    }
   ],
   "source": [
    "sns.boxplot(x = df['sex'], y = df['age'], hue = df['survived'])"
   ]
  },
  {
   "cell_type": "code",
   "execution_count": null,
   "id": "30fd3348",
   "metadata": {},
   "outputs": [],
   "source": []
  },
  {
   "cell_type": "code",
   "execution_count": 69,
   "id": "21b49010",
   "metadata": {},
   "outputs": [
    {
     "data": {
      "text/plain": [
       "<AxesSubplot:xlabel='sex', ylabel='age'>"
      ]
     },
     "execution_count": 69,
     "metadata": {},
     "output_type": "execute_result"
    },
    {
     "data": {
      "image/png": "[encoded data removed]",
      "text/plain": [
       "<Figure size 432x288 with 1 Axes>"
      ]
     },
     "metadata": {
      "needs_background": "light"
     },
     "output_type": "display_data"
    }
   ],
   "source": [
    "sns.barplot(x = df['sex'], y=df['age'],hue=df['survived'])"
   ]
  },
  {
   "cell_type": "code",
   "execution_count": 97,
   "id": "01f685d0",
   "metadata": {},
   "outputs": [
    {
     "data": {
      "text/plain": [
       "233"
      ]
     },
     "execution_count": 97,
     "metadata": {},
     "output_type": "execute_result"
    }
   ],
   "source": [
    "df[(df['survived'] == 1) & (df['sex'] == 'female')].shape[0]"
   ]
  },
  {
   "cell_type": "code",
   "execution_count": 98,
   "id": "9937fe3f",
   "metadata": {},
   "outputs": [
    {
     "data": {
      "text/plain": [
       "81"
      ]
     },
     "execution_count": 98,
     "metadata": {},
     "output_type": "execute_result"
    }
   ],
   "source": [
    "df[(df['survived'] == 0) & (df['sex'] == 'female')].shape[0]"
   ]
  },
  {
   "cell_type": "code",
   "execution_count": 99,
   "id": "266010de",
   "metadata": {},
   "outputs": [
    {
     "data": {
      "text/plain": [
       "109"
      ]
     },
     "execution_count": 99,
     "metadata": {},
     "output_type": "execute_result"
    }
   ],
   "source": [
    "df[(df['survived'] == 1) & (df['sex'] == 'male')].shape[0]"
   ]
  },
  {
   "cell_type": "code",
   "execution_count": 100,
   "id": "a28982c7",
   "metadata": {},
   "outputs": [
    {
     "data": {
      "text/plain": [
       "468"
      ]
     },
     "execution_count": 100,
     "metadata": {},
     "output_type": "execute_result"
    }
   ],
   "source": [
    "df[(df['survived'] == 0) & (df['sex'] == 'male')].shape[0]"
   ]
  },
  {
   "cell_type": "code",
   "execution_count": 109,
   "id": "17ca929b",
   "metadata": {},
   "outputs": [],
   "source": [
    "import plotly.express as px"
   ]
  },
  {
   "cell_type": "code",
   "execution_count": 107,
   "id": "ff545715",
   "metadata": {},
   "outputs": [
    {
     "name": "stdout",
     "output_type": "stream",
     "text": [
      "Collecting plotly\n",
      "  Downloading plotly-5.22.0-py3-none-any.whl (16.4 MB)\n",
      "Collecting tenacity>=6.2.0\n",
      "  Downloading tenacity-8.3.0-py3-none-any.whl (25 kB)\n",
      "Requirement already satisfied: packaging in d:\\sk\\programs\\anaconda3\\lib\\site-packages (from plotly) (20.9)\n",
      "Requirement already satisfied: pyparsing>=2.0.2 in d:\\sk\\programs\\anaconda3\\lib\\site-packages (from packaging->plotly) (2.4.7)\n",
      "Installing collected packages: tenacity, plotly\n",
      "Successfully installed plotly-5.22.0 tenacity-8.3.0\n",
      "Note: you may need to restart the kernel to use updated packages.\n"
     ]
    }
   ],
   "source": [
    "pip install plotly"
   ]
  },
  {
   "cell_type": "code",
   "execution_count": 112,
   "id": "06c15c3f",
   "metadata": {},
   "outputs": [
    {
     "data": {
      "application/vnd.plotly.v1+json": {
       "config": {
        "plotlyServerURL": "https://plot.ly"
       },
       "data": [
        {
         "hovertemplate": "age=22.0<br>survived=%{x}<br>fare=%{y}<extra></extra>",
         "ids": [
          0,
          0,
          0,
          0,
          1,
          1,
          0,
          0,
          0,
          0,
          1,
          0,
          1,
          1,
          0,
          1,
          0,
          0,
          0,
          0,
          1,
          1,
          1,
          0,
          1,
          1,
          0
         ],
         "legendgroup": "",
         "marker": {
          "color": "#636efa",
          "symbol": "circle"
         },
         "mode": "markers",
         "name": "",
         "orientation": "v",
         "showlegend": false,
         "type": "scatter",
         "x": [
          0,
          0,
          0,
          0,
          1,
          1,
          0,
          0,
          0,
          0,
          1,
          0,
          1,
          1,
          0,
          1,
          0,
          0,
          0,
          0,
          1,
          1,
          1,
          0,
          1,
          1,
          0
         ],
         "xaxis": "x",
         "y": [
          7.25,
          7.2292,
          9,
          8.05,
          7.75,
          66.6,
          7.25,
          9.35,
          7.125,
          7.8958,
          7.75,
          7.25,
          29,
          55,
          135.6333,
          7.25,
          7.7958,
          9.8375,
          7.5208,
          7.8958,
          49.5,
          7.225,
          7.775,
          8.05,
          41.5792,
          151.55,
          10.5167
         ],
         "yaxis": "y"
        }
       ],
       "frames": [
        {
         "data": [
          {
           "hovertemplate": "age=22.0<br>survived=%{x}<br>fare=%{y}<extra></extra>",
           "ids": [
            0,
            0,
            0,
            0,
            1,
            1,
            0,
            0,
            0,
            0,
            1,
            0,
            1,
            1,
            0,
            1,
            0,
            0,
            0,
            0,
            1,
            1,
            1,
            0,
            1,
            1,
            0
           ],
           "legendgroup": "",
           "marker": {
            "color": "#636efa",
            "symbol": "circle"
           },
           "mode": "markers",
           "name": "",
           "orientation": "v",
           "showlegend": false,
           "type": "scatter",
           "x": [
            0,
            0,
            0,
            0,
            1,
            1,
            0,
            0,
            0,
            0,
            1,
            0,
            1,
            1,
            0,
            1,
            0,
            0,
            0,
            0,
            1,
            1,
            1,
            0,
            1,
            1,
            0
           ],
           "xaxis": "x",
           "y": [
            7.25,
            7.2292,
            9,
            8.05,
            7.75,
            66.6,
            7.25,
            9.35,
            7.125,
            7.8958,
            7.75,
            7.25,
            29,
            55,
            135.6333,
            7.25,
            7.7958,
            9.8375,
            7.5208,
            7.8958,
            49.5,
            7.225,
            7.775,
            8.05,
            41.5792,
            151.55,
            10.5167
           ],
           "yaxis": "y"
          }
         ],
         "name": "22.0"
        },
        {
         "data": [
          {
           "hovertemplate": "age=38.0<br>survived=%{x}<br>fare=%{y}<extra></extra>",
           "ids": [
            1,
            1,
            1,
            0,
            1,
            0,
            0,
            0,
            0,
            1,
            0
           ],
           "legendgroup": "",
           "marker": {
            "color": "#636efa",
            "symbol": "circle"
           },
           "mode": "markers",
           "name": "",
           "orientation": "v",
           "showlegend": false,
           "type": "scatter",
           "x": [
            1,
            1,
            1,
            0,
            1,
            0,
            0,
            0,
            0,
            1,
            0
           ],
           "xaxis": "x",
           "y": [
            71.2833,
            31.3875,
            80,
            7.8958,
            90,
            153.4625,
            13,
            7.05,
            8.6625,
            227.525,
            0
           ],
           "yaxis": "y"
          }
         ],
         "name": "38.0"
        },
        {
         "data": [
          {
           "hovertemplate": "age=26.0<br>survived=%{x}<br>fare=%{y}<extra></extra>",
           "ids": [
            1,
            0,
            0,
            0,
            0,
            1,
            1,
            0,
            1,
            0,
            1,
            0,
            0,
            0,
            0,
            0,
            0,
            1
           ],
           "legendgroup": "",
           "marker": {
            "color": "#636efa",
            "symbol": "circle"
           },
           "mode": "markers",
           "name": "",
           "orientation": "v",
           "showlegend": false,
           "type": "scatter",
           "x": [
            1,
            0,
            0,
            0,
            0,
            1,
            1,
            0,
            1,
            0,
            1,
            0,
            0,
            0,
            0,
            0,
            0,
            1
           ],
           "xaxis": "x",
           "y": [
            7.925,
            8.6625,
            14.4542,
            20.575,
            7.775,
            18.7875,
            78.85,
            26,
            7.8542,
            8.05,
            56.4958,
            16.1,
            10.5,
            7.8958,
            7.8542,
            7.8875,
            7.8958,
            30
           ],
           "yaxis": "y"
          }
         ],
         "name": "26.0"
        },
        {
         "data": [
          {
           "hovertemplate": "age=35.0<br>survived=%{x}<br>fare=%{y}<extra></extra>",
           "ids": [
            1,
            0,
            0,
            1,
            1,
            1,
            1,
            1,
            0,
            1,
            1,
            0,
            1,
            0,
            1,
            1,
            0,
            0
           ],
           "legendgroup": "",
           "marker": {
            "color": "#636efa",
            "symbol": "circle"
           },
           "mode": "markers",
           "name": "",
           "orientation": "v",
           "showlegend": false,
           "type": "scatter",
           "x": [
            1,
            0,
            0,
            1,
            1,
            1,
            1,
            1,
            0,
            1,
            1,
            0,
            1,
            0,
            1,
            1,
            0,
            0
           ],
           "xaxis": "x",
           "y": [
            53.1,
            8.05,
            26,
            21,
            83.475,
            512.3292,
            135.6333,
            20.25,
            7.05,
            52,
            90,
            7.125,
            26.55,
            8.05,
            26.2875,
            512.3292,
            10.5,
            7.8958
           ],
           "yaxis": "y"
          }
         ],
         "name": "35.0"
        },
        {
         "data": [
          {
           "hovertemplate": "age=54.0<br>survived=%{x}<br>fare=%{y}<extra></extra>",
           "ids": [
            0,
            0,
            0,
            0,
            1,
            1,
            0,
            1
           ],
           "legendgroup": "",
           "marker": {
            "color": "#636efa",
            "symbol": "circle"
           },
           "mode": "markers",
           "name": "",
           "orientation": "v",
           "showlegend": false,
           "type": "scatter",
           "x": [
            0,
            0,
            0,
            0,
            1,
            1,
            0,
            1
           ],
           "xaxis": "x",
           "y": [
            51.8625,
            77.2875,
            26,
            14,
            78.2667,
            59.4,
            26,
            23
           ],
           "yaxis": "y"
          }
         ],
         "name": "54.0"
        },
        {
         "data": [
          {
           "hovertemplate": "age=2.0<br>survived=%{x}<br>fare=%{y}<extra></extra>",
           "ids": [
            0,
            0,
            0,
            0,
            0,
            1,
            1,
            1,
            0,
            0
           ],
           "legendgroup": "",
           "marker": {
            "color": "#636efa",
            "symbol": "circle"
           },
           "mode": "markers",
           "name": "",
           "orientation": "v",
           "showlegend": false,
           "type": "scatter",
           "x": [
            0,
            0,
            0,
            0,
            0,
            1,
            1,
            1,
            0,
            0
           ],
           "xaxis": "x",
           "y": [
            21.075,
            29.125,
            31.275,
            10.4625,
            151.55,
            26,
            12.2875,
            26,
            27.9,
            39.6875
           ],
           "yaxis": "y"
          }
         ],
         "name": "2.0"
        },
        {
         "data": [
          {
           "hovertemplate": "age=27.0<br>survived=%{x}<br>fare=%{y}<extra></extra>",
           "ids": [
            1,
            0,
            1,
            1,
            0,
            0,
            0,
            0,
            1,
            0,
            1,
            1,
            1,
            1,
            1,
            1,
            1,
            0
           ],
           "legendgroup": "",
           "marker": {
            "color": "#636efa",
            "symbol": "circle"
           },
           "mode": "markers",
           "name": "",
           "orientation": "v",
           "showlegend": false,
           "type": "scatter",
           "x": [
            1,
            0,
            1,
            1,
            0,
            0,
            0,
            0,
            1,
            0,
            1,
            1,
            1,
            1,
            1,
            1,
            1,
            0
           ],
           "xaxis": "x",
           "y": [
            11.1333,
            21,
            7.7958,
            7.925,
            13,
            7.8958,
            211.5,
            26,
            30.5,
            14.4542,
            76.7292,
            10.5,
            53.1,
            6.975,
            8.6625,
            12.475,
            13.8583,
            13
           ],
           "yaxis": "y"
          }
         ],
         "name": "27.0"
        },
        {
         "data": [
          {
           "hovertemplate": "age=14.0<br>survived=%{x}<br>fare=%{y}<extra></extra>",
           "ids": [
            1,
            0,
            1,
            1,
            0,
            0
           ],
           "legendgroup": "",
           "marker": {
            "color": "#636efa",
            "symbol": "circle"
           },
           "mode": "markers",
           "name": "",
           "orientation": "v",
           "showlegend": false,
           "type": "scatter",
           "x": [
            1,
            0,
            1,
            1,
            0,
            0
           ],
           "xaxis": "x",
           "y": [
            30.0708,
            7.8542,
            11.2417,
            120,
            46.9,
            39.6875
           ],
           "yaxis": "y"
          }
         ],
         "name": "14.0"
        },
        {
         "data": [
          {
           "hovertemplate": "age=4.0<br>survived=%{x}<br>fare=%{y}<extra></extra>",
           "ids": [
            1,
            0,
            0,
            1,
            1,
            1,
            1,
            1,
            0,
            1
           ],
           "legendgroup": "",
           "marker": {
            "color": "#636efa",
            "symbol": "circle"
           },
           "mode": "markers",
           "name": "",
           "orientation": "v",
           "showlegend": false,
           "type": "scatter",
           "x": [
            1,
            0,
            0,
            1,
            1,
            1,
            1,
            1,
            0,
            1
           ],
           "xaxis": "x",
           "y": [
            16.7,
            27.9,
            29.125,
            22.025,
            81.8583,
            39,
            13.4167,
            23,
            31.275,
            11.1333
           ],
           "yaxis": "y"
          }
         ],
         "name": "4.0"
        },
        {
         "data": [
          {
           "hovertemplate": "age=58.0<br>survived=%{x}<br>fare=%{y}<extra></extra>",
           "ids": [
            1,
            1,
            1,
            0,
            0
           ],
           "legendgroup": "",
           "marker": {
            "color": "#636efa",
            "symbol": "circle"
           },
           "mode": "markers",
           "name": "",
           "orientation": "v",
           "showlegend": false,
           "type": "scatter",
           "x": [
            1,
            1,
            1,
            0,
            0
           ],
           "xaxis": "x",
           "y": [
            26.55,
            146.5208,
            153.4625,
            29.7,
            113.275
           ],
           "yaxis": "y"
          }
         ],
         "name": "58.0"
        },
        {
         "data": [
          {
           "hovertemplate": "age=20.0<br>survived=%{x}<br>fare=%{y}<extra></extra>",
           "ids": [
            0,
            0,
            0,
            0,
            0,
            0,
            0,
            1,
            0,
            1,
            0,
            0,
            1,
            0,
            0
           ],
           "legendgroup": "",
           "marker": {
            "color": "#636efa",
            "symbol": "circle"
           },
           "mode": "markers",
           "name": "",
           "orientation": "v",
           "showlegend": false,
           "type": "scatter",
           "x": [
            0,
            0,
            0,
            0,
            0,
            0,
            0,
            1,
            0,
            1,
            0,
            0,
            1,
            0,
            0
           ],
           "xaxis": "x",
           "y": [
            8.05,
            7.8542,
            9.825,
            7.05,
            4.0125,
            8.6625,
            9.5,
            15.7417,
            7.8542,
            7.925,
            9.225,
            8.6625,
            7.2292,
            7.925,
            9.8458
           ],
           "yaxis": "y"
          }
         ],
         "name": "20.0"
        },
        {
         "data": [
          {
           "hovertemplate": "age=39.0<br>survived=%{x}<br>fare=%{y}<extra></extra>",
           "ids": [
            0,
            1,
            0,
            1,
            1,
            1,
            0,
            0,
            0,
            0,
            0,
            0,
            1,
            0
           ],
           "legendgroup": "",
           "marker": {
            "color": "#636efa",
            "symbol": "circle"
           },
           "mode": "markers",
           "name": "",
           "orientation": "v",
           "showlegend": false,
           "type": "scatter",
           "x": [
            0,
            1,
            0,
            1,
            1,
            1,
            0,
            0,
            0,
            0,
            0,
            0,
            1,
            0
           ],
           "xaxis": "x",
           "y": [
            31.275,
            7.925,
            7.925,
            79.65,
            55.9,
            110.8833,
            31.275,
            26,
            13,
            0,
            13,
            24.15,
            83.1583,
            29.125
           ],
           "yaxis": "y"
          }
         ],
         "name": "39.0"
        },
        {
         "data": [
          {
           "hovertemplate": "age=55.0<br>survived=%{x}<br>fare=%{y}<extra></extra>",
           "ids": [
            1,
            0
           ],
           "legendgroup": "",
           "marker": {
            "color": "#636efa",
            "symbol": "circle"
           },
           "mode": "markers",
           "name": "",
           "orientation": "v",
           "showlegend": false,
           "type": "scatter",
           "x": [
            1,
            0
           ],
           "xaxis": "x",
           "y": [
            16,
            30.5
           ],
           "yaxis": "y"
          }
         ],
         "name": "55.0"
        },
        {
         "data": [
          {
           "hovertemplate": "age=31.0<br>survived=%{x}<br>fare=%{y}<extra></extra>",
           "ids": [
            0,
            1,
            1,
            1,
            0,
            0,
            0,
            0,
            1,
            1,
            1,
            0,
            1,
            1,
            0,
            0,
            0
           ],
           "legendgroup": "",
           "marker": {
            "color": "#636efa",
            "symbol": "circle"
           },
           "mode": "markers",
           "name": "",
           "orientation": "v",
           "showlegend": false,
           "type": "scatter",
           "x": [
            0,
            1,
            1,
            1,
            0,
            0,
            0,
            0,
            1,
            1,
            1,
            0,
            1,
            1,
            0,
            0,
            0
           ],
           "xaxis": "x",
           "y": [
            18,
            113.275,
            164.8667,
            20.525,
            7.8542,
            10.5,
            26.25,
            52,
            13,
            57,
            7.925,
            7.75,
            8.6833,
            26.25,
            7.775,
            37.0042,
            50.4958
           ],
           "yaxis": "y"
          }
         ],
         "name": "31.0"
        },
        {
         "data": [
          {
           "hovertemplate": "age=34.0<br>survived=%{x}<br>fare=%{y}<extra></extra>",
           "ids": [
            1,
            1,
            0,
            0,
            0,
            1,
            1,
            0,
            0,
            1,
            1,
            0,
            0,
            0,
            0
           ],
           "legendgroup": "",
           "marker": {
            "color": "#636efa",
            "symbol": "circle"
           },
           "mode": "markers",
           "name": "",
           "orientation": "v",
           "showlegend": false,
           "type": "scatter",
           "x": [
            1,
            1,
            0,
            0,
            0,
            1,
            1,
            0,
            0,
            1,
            1,
            0,
            0,
            0,
            0
           ],
           "xaxis": "x",
           "y": [
            13,
            23,
            26,
            6.4958,
            21,
            32.5,
            26.55,
            8.05,
            21,
            10.5,
            13,
            14.4,
            13,
            8.05,
            13
           ],
           "yaxis": "y"
          }
         ],
         "name": "34.0"
        },
        {
         "data": [
          {
           "hovertemplate": "age=15.0<br>survived=%{x}<br>fare=%{y}<extra></extra>",
           "ids": [
            1,
            0,
            1,
            1,
            1
           ],
           "legendgroup": "",
           "marker": {
            "color": "#636efa",
            "symbol": "circle"
           },
           "mode": "markers",
           "name": "",
           "orientation": "v",
           "showlegend": false,
           "type": "scatter",
           "x": [
            1,
            0,
            1,
            1,
            1
           ],
           "xaxis": "x",
           "y": [
            8.0292,
            7.2292,
            211.3375,
            14.4542,
            7.225
           ],
           "yaxis": "y"
          }
         ],
         "name": "15.0"
        },
        {
         "data": [
          {
           "hovertemplate": "age=28.0<br>survived=%{x}<br>fare=%{y}<extra></extra>",
           "ids": [
            1,
            0,
            0,
            0,
            0,
            0,
            0,
            0,
            0,
            0,
            0,
            0,
            1,
            0,
            0,
            1,
            1,
            1,
            0,
            0,
            1,
            0,
            0,
            1,
            0
           ],
           "legendgroup": "",
           "marker": {
            "color": "#636efa",
            "symbol": "circle"
           },
           "mode": "markers",
           "name": "",
           "orientation": "v",
           "showlegend": false,
           "type": "scatter",
           "x": [
            1,
            0,
            0,
            0,
            0,
            0,
            0,
            0,
            0,
            0,
            0,
            0,
            1,
            0,
            0,
            1,
            1,
            1,
            0,
            0,
            1,
            0,
            0,
            1,
            0
           ],
           "xaxis": "x",
           "y": [
            35.5,
            82.1708,
            47.1,
            7.8958,
            7.8958,
            56.4958,
            9.5,
            7.8542,
            7.8958,
            13,
            9.5,
            7.925,
            12.65,
            15.85,
            14.4,
            26,
            26.55,
            13,
            22.525,
            13.5,
            13,
            7.7958,
            33,
            24,
            10.5
           ],
           "yaxis": "y"
          }
         ],
         "name": "28.0"
        },
        {
         "data": [
          {
           "hovertemplate": "age=8.0<br>survived=%{x}<br>fare=%{y}<extra></extra>",
           "ids": [
            0,
            1,
            1,
            0
           ],
           "legendgroup": "",
           "marker": {
            "color": "#636efa",
            "symbol": "circle"
           },
           "mode": "markers",
           "name": "",
           "orientation": "v",
           "showlegend": false,
           "type": "scatter",
           "x": [
            0,
            1,
            1,
            0
           ],
           "xaxis": "x",
           "y": [
            21.075,
            26.25,
            36.75,
            29.125
           ],
           "yaxis": "y"
          }
         ],
         "name": "8.0"
        },
        {
         "data": [
          {
           "hovertemplate": "age=19.0<br>survived=%{x}<br>fare=%{y}<extra></extra>",
           "ids": [
            0,
            1,
            0,
            1,
            0,
            0,
            0,
            1,
            1,
            0,
            1,
            1,
            0,
            0,
            0,
            1,
            1,
            0,
            0,
            0,
            0,
            0,
            0,
            0,
            1
           ],
           "legendgroup": "",
           "marker": {
            "color": "#636efa",
            "symbol": "circle"
           },
           "mode": "markers",
           "name": "",
           "orientation": "v",
           "showlegend": false,
           "type": "scatter",
           "x": [
            0,
            1,
            0,
            1,
            0,
            0,
            0,
            1,
            1,
            0,
            1,
            1,
            0,
            0,
            0,
            1,
            1,
            0,
            0,
            0,
            0,
            0,
            0,
            0,
            1
           ],
           "xaxis": "x",
           "y": [
            263,
            7.8792,
            8.1583,
            26.2833,
            6.75,
            36.75,
            13,
            7.8542,
            10.5,
            10.5,
            8.05,
            91.0792,
            0,
            8.05,
            7.775,
            26,
            26,
            7.8958,
            14.5,
            7.8958,
            10.1708,
            7.65,
            53.1,
            7.8958,
            30
           ],
           "yaxis": "y"
          }
         ],
         "name": "19.0"
        },
        {
         "data": [
          {
           "hovertemplate": "age=40.0<br>survived=%{x}<br>fare=%{y}<extra></extra>",
           "ids": [
            0,
            0,
            1,
            0,
            1,
            0,
            1,
            1,
            0,
            0,
            1,
            0,
            1
           ],
           "legendgroup": "",
           "marker": {
            "color": "#636efa",
            "symbol": "circle"
           },
           "mode": "markers",
           "name": "",
           "orientation": "v",
           "showlegend": false,
           "type": "scatter",
           "x": [
            0,
            0,
            1,
            0,
            1,
            0,
            1,
            1,
            0,
            0,
            1,
            0,
            1
           ],
           "xaxis": "x",
           "y": [
            27.7208,
            9.475,
            15.75,
            15.5,
            31,
            0,
            134.5,
            13,
            27.9,
            7.8958,
            153.4625,
            7.225,
            39
           ],
           "yaxis": "y"
          }
         ],
         "name": "40.0"
        },
        {
         "data": [
          {
           "hovertemplate": "age=66.0<br>survived=%{x}<br>fare=%{y}<extra></extra>",
           "ids": [
            0
           ],
           "legendgroup": "",
           "marker": {
            "color": "#636efa",
            "symbol": "circle"
           },
           "mode": "markers",
           "name": "",
           "orientation": "v",
           "showlegend": false,
           "type": "scatter",
           "x": [
            0
           ],
           "xaxis": "x",
           "y": [
            10.5
           ],
           "yaxis": "y"
          }
         ],
         "name": "66.0"
        },
        {
         "data": [
          {
           "hovertemplate": "age=42.0<br>survived=%{x}<br>fare=%{y}<extra></extra>",
           "ids": [
            0,
            0,
            0,
            0,
            1,
            0,
            1,
            1,
            1,
            0,
            1,
            0,
            1
           ],
           "legendgroup": "",
           "marker": {
            "color": "#636efa",
            "symbol": "circle"
           },
           "mode": "markers",
           "name": "",
           "orientation": "v",
           "showlegend": false,
           "type": "scatter",
           "x": [
            0,
            0,
            0,
            0,
            1,
            0,
            1,
            1,
            1,
            0,
            1,
            0,
            1
           ],
           "xaxis": "x",
           "y": [
            52,
            13,
            8.4042,
            27,
            13,
            8.6625,
            227.525,
            26,
            52.5542,
            7.65,
            26.2875,
            7.55,
            13
           ],
           "yaxis": "y"
          }
         ],
         "name": "42.0"
        },
        {
         "data": [
          {
           "hovertemplate": "age=21.0<br>survived=%{x}<br>fare=%{y}<extra></extra>",
           "ids": [
            0,
            0,
            1,
            0,
            0,
            1,
            0,
            0,
            0,
            1,
            0,
            0,
            0,
            0,
            0,
            0,
            0,
            0,
            0,
            1,
            0,
            1,
            0,
            0
           ],
           "legendgroup": "",
           "marker": {
            "color": "#636efa",
            "symbol": "circle"
           },
           "mode": "markers",
           "name": "",
           "orientation": "v",
           "showlegend": false,
           "type": "scatter",
           "x": [
            0,
            0,
            1,
            0,
            0,
            1,
            0,
            0,
            0,
            1,
            0,
            0,
            0,
            0,
            0,
            0,
            0,
            0,
            0,
            1,
            0,
            1,
            0,
            0
           ],
           "xaxis": "x",
           "y": [
            8.05,
            7.8,
            10.5,
            73.5,
            77.2875,
            7.65,
            7.925,
            73.5,
            7.925,
            7.7958,
            9.825,
            7.775,
            7.7333,
            34.375,
            7.25,
            8.05,
            7.75,
            7.8542,
            16.1,
            77.9583,
            8.4333,
            262.375,
            8.6625,
            11.5
           ],
           "yaxis": "y"
          }
         ],
         "name": "21.0"
        },
        {
         "data": [
          {
           "hovertemplate": "age=18.0<br>survived=%{x}<br>fare=%{y}<extra></extra>",
           "ids": [
            0,
            0,
            0,
            0,
            1,
            0,
            1,
            0,
            0,
            1,
            0,
            0,
            1,
            1,
            0,
            0,
            1,
            0,
            1,
            0,
            0,
            0,
            1,
            0,
            0,
            1
           ],
           "legendgroup": "",
           "marker": {
            "color": "#636efa",
            "symbol": "circle"
           },
           "mode": "markers",
           "name": "",
           "orientation": "v",
           "showlegend": false,
           "type": "scatter",
           "x": [
            0,
            0,
            0,
            0,
            1,
            0,
            1,
            0,
            0,
            1,
            0,
            0,
            1,
            1,
            0,
            0,
            1,
            0,
            1,
            0,
            0,
            0,
            1,
            0,
            0,
            1
           ],
           "xaxis": "x",
           "y": [
            18,
            17.8,
            11.5,
            7.8542,
            8.05,
            13,
            262.375,
            6.4958,
            73.5,
            13,
            20.2125,
            108.9,
            79.65,
            23,
            6.75,
            7.775,
            9.8417,
            7.7958,
            227.525,
            14.4542,
            11.5,
            7.75,
            7.4958,
            7.775,
            8.3,
            9.35
           ],
           "yaxis": "y"
          }
         ],
         "name": "18.0"
        },
        {
         "data": [
          {
           "hovertemplate": "age=3.0<br>survived=%{x}<br>fare=%{y}<extra></extra>",
           "ids": [
            1,
            1,
            1,
            1,
            0,
            1
           ],
           "legendgroup": "",
           "marker": {
            "color": "#636efa",
            "symbol": "circle"
           },
           "mode": "markers",
           "name": "",
           "orientation": "v",
           "showlegend": false,
           "type": "scatter",
           "x": [
            1,
            1,
            1,
            1,
            0,
            1
           ],
           "xaxis": "x",
           "y": [
            41.5792,
            26,
            31.3875,
            15.9,
            21.075,
            18.75
           ],
           "yaxis": "y"
          }
         ],
         "name": "3.0"
        },
        {
         "data": [
          {
           "hovertemplate": "age=7.0<br>survived=%{x}<br>fare=%{y}<extra></extra>",
           "ids": [
            0,
            0,
            1
           ],
           "legendgroup": "",
           "marker": {
            "color": "#636efa",
            "symbol": "circle"
           },
           "mode": "markers",
           "name": "",
           "orientation": "v",
           "showlegend": false,
           "type": "scatter",
           "x": [
            0,
            0,
            1
           ],
           "xaxis": "x",
           "y": [
            39.6875,
            29.125,
            26.25
           ],
           "yaxis": "y"
          }
         ],
         "name": "7.0"
        },
        {
         "data": [
          {
           "hovertemplate": "age=49.0<br>survived=%{x}<br>fare=%{y}<extra></extra>",
           "ids": [
            1,
            1,
            0,
            1,
            0,
            1
           ],
           "legendgroup": "",
           "marker": {
            "color": "#636efa",
            "symbol": "circle"
           },
           "mode": "markers",
           "name": "",
           "orientation": "v",
           "showlegend": false,
           "type": "scatter",
           "x": [
            1,
            1,
            0,
            1,
            0,
            1
           ],
           "xaxis": "x",
           "y": [
            76.7292,
            89.1042,
            0,
            56.9292,
            110.8833,
            25.9292
           ],
           "yaxis": "y"
          }
         ],
         "name": "49.0"
        },
        {
         "data": [
          {
           "hovertemplate": "age=29.0<br>survived=%{x}<br>fare=%{y}<extra></extra>",
           "ids": [
            1,
            1,
            1,
            0,
            0,
            1,
            0,
            0,
            0,
            1,
            0,
            0,
            0,
            1,
            0,
            1,
            0,
            0,
            1,
            0
           ],
           "legendgroup": "",
           "marker": {
            "color": "#636efa",
            "symbol": "circle"
           },
           "mode": "markers",
           "name": "",
           "orientation": "v",
           "showlegend": false,
           "type": "scatter",
           "x": [
            1,
            1,
            1,
            0,
            0,
            1,
            0,
            0,
            0,
            1,
            0,
            0,
            0,
            1,
            0,
            1,
            0,
            0,
            1,
            0
           ],
           "xaxis": "x",
           "y": [
            26,
            10.5,
            9.5,
            8.05,
            21,
            26,
            7.775,
            10.5,
            10.4625,
            15.2458,
            66.6,
            27.7208,
            7.875,
            7.8958,
            7.0458,
            7.75,
            21.075,
            9.4833,
            211.3375,
            30
           ],
           "yaxis": "y"
          }
         ],
         "name": "29.0"
        },
        {
         "data": [
          {
           "hovertemplate": "age=65.0<br>survived=%{x}<br>fare=%{y}<extra></extra>",
           "ids": [
            0,
            0,
            0
           ],
           "legendgroup": "",
           "marker": {
            "color": "#636efa",
            "symbol": "circle"
           },
           "mode": "markers",
           "name": "",
           "orientation": "v",
           "showlegend": false,
           "type": "scatter",
           "x": [
            0,
            0,
            0
           ],
           "xaxis": "x",
           "y": [
            61.9792,
            7.75,
            26.55
           ],
           "yaxis": "y"
          }
         ],
         "name": "65.0"
        },
        {
         "data": [
          {
           "hovertemplate": "age=28.5<br>survived=%{x}<br>fare=%{y}<extra></extra>",
           "ids": [
            0,
            0
           ],
           "legendgroup": "",
           "marker": {
            "color": "#636efa",
            "symbol": "circle"
           },
           "mode": "markers",
           "name": "",
           "orientation": "v",
           "showlegend": false,
           "type": "scatter",
           "x": [
            0,
            0
           ],
           "xaxis": "x",
           "y": [
            7.2292,
            16.1
           ],
           "yaxis": "y"
          }
         ],
         "name": "28.5"
        },
        {
         "data": [
          {
           "hovertemplate": "age=5.0<br>survived=%{x}<br>fare=%{y}<extra></extra>",
           "ids": [
            1,
            1,
            1,
            1
           ],
           "legendgroup": "",
           "marker": {
            "color": "#636efa",
            "symbol": "circle"
           },
           "mode": "markers",
           "name": "",
           "orientation": "v",
           "showlegend": false,
           "type": "scatter",
           "x": [
            1,
            1,
            1,
            1
           ],
           "xaxis": "x",
           "y": [
            27.75,
            31.3875,
            19.2583,
            12.475
           ],
           "yaxis": "y"
          }
         ],
         "name": "5.0"
        },
        {
         "data": [
          {
           "hovertemplate": "age=11.0<br>survived=%{x}<br>fare=%{y}<extra></extra>",
           "ids": [
            0,
            0,
            0,
            1
           ],
           "legendgroup": "",
           "marker": {
            "color": "#636efa",
            "symbol": "circle"
           },
           "mode": "markers",
           "name": "",
           "orientation": "v",
           "showlegend": false,
           "type": "scatter",
           "x": [
            0,
            0,
            0,
            1
           ],
           "xaxis": "x",
           "y": [
            46.9,
            31.275,
            18.7875,
            120
           ],
           "yaxis": "y"
          }
         ],
         "name": "11.0"
        },
        {
         "data": [
          {
           "hovertemplate": "age=45.0<br>survived=%{x}<br>fare=%{y}<extra></extra>",
           "ids": [
            0,
            0,
            0,
            1,
            0,
            1,
            0,
            0,
            1,
            0,
            1,
            1
           ],
           "legendgroup": "",
           "marker": {
            "color": "#636efa",
            "symbol": "circle"
           },
           "mode": "markers",
           "name": "",
           "orientation": "v",
           "showlegend": false,
           "type": "scatter",
           "x": [
            0,
            0,
            0,
            1,
            0,
            1,
            0,
            0,
            1,
            0,
            1,
            1
           ],
           "xaxis": "x",
           "y": [
            83.475,
            6.975,
            27.9,
            26.55,
            7.75,
            8.05,
            35.5,
            14.4542,
            26.25,
            26.55,
            13.5,
            164.8667
           ],
           "yaxis": "y"
          }
         ],
         "name": "45.0"
        },
        {
         "data": [
          {
           "hovertemplate": "age=17.0<br>survived=%{x}<br>fare=%{y}<extra></extra>",
           "ids": [
            1,
            1,
            0,
            0,
            1,
            1,
            0,
            0,
            0,
            1,
            0,
            1,
            0
           ],
           "legendgroup": "",
           "marker": {
            "color": "#636efa",
            "symbol": "circle"
           },
           "mode": "markers",
           "name": "",
           "orientation": "v",
           "showlegend": false,
           "type": "scatter",
           "x": [
            1,
            1,
            0,
            0,
            1,
            1,
            0,
            0,
            0,
            1,
            0,
            1,
            0
           ],
           "xaxis": "x",
           "y": [
            7.925,
            10.5,
            14.4583,
            8.6625,
            108.9,
            12,
            7.125,
            8.6625,
            7.2292,
            110.8833,
            7.0542,
            57,
            8.6625
           ],
           "yaxis": "y"
          }
         ],
         "name": "17.0"
        },
        {
         "data": [
          {
           "hovertemplate": "age=32.0<br>survived=%{x}<br>fare=%{y}<extra></extra>",
           "ids": [
            0,
            1,
            1,
            0,
            1,
            0,
            1,
            0,
            1,
            1,
            1,
            1,
            0,
            0,
            0,
            0,
            1,
            0
           ],
           "legendgroup": "",
           "marker": {
            "color": "#636efa",
            "symbol": "circle"
           },
           "mode": "markers",
           "name": "",
           "orientation": "v",
           "showlegend": false,
           "type": "scatter",
           "x": [
            0,
            1,
            1,
            0,
            1,
            0,
            1,
            0,
            1,
            1,
            1,
            1,
            0,
            0,
            0,
            0,
            1,
            0
           ],
           "xaxis": "x",
           "y": [
            10.5,
            56.4958,
            13,
            15.85,
            76.2917,
            7.925,
            8.05,
            7.8958,
            26,
            7.8542,
            7.925,
            30.5,
            7.925,
            15.5,
            73.5,
            8.3625,
            56.4958,
            7.75
           ],
           "yaxis": "y"
          }
         ],
         "name": "32.0"
        },
        {
         "data": [
          {
           "hovertemplate": "age=16.0<br>survived=%{x}<br>fare=%{y}<extra></extra>",
           "ids": [
            0,
            0,
            0,
            1,
            1,
            1,
            0,
            0,
            1,
            0,
            1,
            0,
            0,
            0,
            0,
            0,
            1
           ],
           "legendgroup": "",
           "marker": {
            "color": "#636efa",
            "symbol": "circle"
           },
           "mode": "markers",
           "name": "",
           "orientation": "v",
           "showlegend": false,
           "type": "scatter",
           "x": [
            0,
            0,
            0,
            1,
            1,
            1,
            0,
            0,
            1,
            0,
            1,
            0,
            0,
            0,
            0,
            0,
            1
           ],
           "xaxis": "x",
           "y": [
            46.9,
            34.375,
            9.2167,
            7.7333,
            7.75,
            8.05,
            39.6875,
            9.5,
            57.9792,
            18,
            86.5,
            8.05,
            20.25,
            7.775,
            26,
            10.5,
            39.4
           ],
           "yaxis": "y"
          }
         ],
         "name": "16.0"
        },
        {
         "data": [
          {
           "hovertemplate": "age=25.0<br>survived=%{x}<br>fare=%{y}<extra></extra>",
           "ids": [
            0,
            0,
            0,
            1,
            1,
            0,
            0,
            1,
            0,
            1,
            0,
            1,
            0,
            0,
            0,
            0,
            0,
            0,
            0,
            0,
            0,
            1,
            0
           ],
           "legendgroup": "",
           "marker": {
            "color": "#636efa",
            "symbol": "circle"
           },
           "mode": "markers",
           "name": "",
           "orientation": "v",
           "showlegend": false,
           "type": "scatter",
           "x": [
            0,
            0,
            0,
            1,
            1,
            0,
            0,
            1,
            0,
            1,
            0,
            1,
            0,
            0,
            0,
            0,
            0,
            0,
            0,
            0,
            0,
            1,
            0
           ],
           "xaxis": "x",
           "y": [
            7.65,
            13,
            7.775,
            7.775,
            0,
            13,
            17.8,
            55.4417,
            7.775,
            91.0792,
            151.55,
            30,
            13,
            41.5792,
            7.225,
            7.7417,
            26,
            7.925,
            7.05,
            7.25,
            7.8958,
            26,
            7.05
           ],
           "yaxis": "y"
          }
         ],
         "name": "25.0"
        },
        {
         "data": [
          {
           "hovertemplate": "age=0.83<br>survived=%{x}<br>fare=%{y}<extra></extra>",
           "ids": [
            1,
            1
           ],
           "legendgroup": "",
           "marker": {
            "color": "#636efa",
            "symbol": "circle"
           },
           "mode": "markers",
           "name": "",
           "orientation": "v",
           "showlegend": false,
           "type": "scatter",
           "x": [
            1,
            1
           ],
           "xaxis": "x",
           "y": [
            29,
            18.75
           ],
           "yaxis": "y"
          }
         ],
         "name": "0.83"
        },
        {
         "data": [
          {
           "hovertemplate": "age=30.0<br>survived=%{x}<br>fare=%{y}<extra></extra>",
           "ids": [
            1,
            0,
            0,
            0,
            0,
            0,
            0,
            1,
            1,
            0,
            1,
            1,
            0,
            0,
            0,
            0,
            1,
            0,
            1,
            0,
            1,
            1,
            0,
            0,
            1
           ],
           "legendgroup": "",
           "marker": {
            "color": "#636efa",
            "symbol": "circle"
           },
           "mode": "markers",
           "name": "",
           "orientation": "v",
           "showlegend": false,
           "type": "scatter",
           "x": [
            1,
            0,
            0,
            0,
            0,
            0,
            0,
            1,
            1,
            0,
            1,
            1,
            0,
            0,
            0,
            0,
            1,
            0,
            1,
            0,
            1,
            1,
            0,
            0,
            1
           ],
           "xaxis": "x",
           "y": [
            12.475,
            8.05,
            13,
            13,
            10.5,
            7.225,
            16.1,
            86.5,
            9.5,
            24,
            56.9292,
            12.35,
            7.25,
            13,
            27.75,
            8.05,
            93.5,
            8.6625,
            106.425,
            7.8958,
            21,
            13,
            7.2292,
            24.15,
            31
           ],
           "yaxis": "y"
          }
         ],
         "name": "30.0"
        },
        {
         "data": [
          {
           "hovertemplate": "age=33.0<br>survived=%{x}<br>fare=%{y}<extra></extra>",
           "ids": [
            1,
            0,
            0,
            0,
            0,
            1,
            1,
            1,
            0,
            0,
            0,
            1,
            1,
            0,
            0
           ],
           "legendgroup": "",
           "marker": {
            "color": "#636efa",
            "symbol": "circle"
           },
           "mode": "markers",
           "name": "",
           "orientation": "v",
           "showlegend": false,
           "type": "scatter",
           "x": [
            1,
            0,
            0,
            0,
            0,
            1,
            1,
            1,
            0,
            0,
            0,
            1,
            1,
            0,
            0
           ],
           "xaxis": "x",
           "y": [
            15.85,
            8.6542,
            7.8958,
            12.275,
            8.6625,
            90,
            27.75,
            26,
            20.525,
            7.775,
            9.5,
            86.5,
            53.1,
            5,
            7.8958
           ],
           "yaxis": "y"
          }
         ],
         "name": "33.0"
        },
        {
         "data": [
          {
           "hovertemplate": "age=23.0<br>survived=%{x}<br>fare=%{y}<extra></extra>",
           "ids": [
            1,
            1,
            0,
            0,
            1,
            0,
            1,
            0,
            1,
            0,
            0,
            0,
            0,
            0,
            0
           ],
           "legendgroup": "",
           "marker": {
            "color": "#636efa",
            "symbol": "circle"
           },
           "mode": "markers",
           "name": "",
           "orientation": "v",
           "showlegend": false,
           "type": "scatter",
           "x": [
            1,
            1,
            0,
            0,
            1,
            0,
            1,
            0,
            1,
            0,
            0,
            0,
            0,
            0,
            0
           ],
           "xaxis": "x",
           "y": [
            263,
            63.3583,
            15.0458,
            9.225,
            113.275,
            10.5,
            13.7917,
            11.5,
            7.55,
            13,
            13,
            13,
            7.8958,
            7.925,
            7.8542
           ],
           "yaxis": "y"
          }
         ],
         "name": "23.0"
        },
        {
         "data": [
          {
           "hovertemplate": "age=24.0<br>survived=%{x}<br>fare=%{y}<extra></extra>",
           "ids": [
            0,
            0,
            1,
            0,
            1,
            0,
            0,
            0,
            1,
            0,
            0,
            1,
            1,
            1,
            1,
            1,
            1,
            1,
            0,
            0,
            0,
            1,
            1,
            1,
            0,
            1,
            0,
            0,
            1,
            0
           ],
           "legendgroup": "",
           "marker": {
            "color": "#636efa",
            "symbol": "circle"
           },
           "mode": "markers",
           "name": "",
           "orientation": "v",
           "showlegend": false,
           "type": "scatter",
           "x": [
            0,
            0,
            1,
            0,
            1,
            0,
            0,
            0,
            1,
            0,
            0,
            1,
            1,
            1,
            1,
            1,
            1,
            1,
            0,
            0,
            0,
            1,
            1,
            1,
            0,
            1,
            0,
            0,
            1,
            0
           ],
           "xaxis": "x",
           "y": [
            8.05,
            247.5208,
            7.1417,
            79.2,
            15.85,
            13,
            7.05,
            10.5,
            14.5,
            8.85,
            7.8958,
            83.1583,
            26,
            263,
            13,
            69.3,
            16.7,
            18.75,
            7.7958,
            7.4958,
            24.15,
            27,
            65,
            69.3,
            73.5,
            49.5042,
            16.1,
            9.5,
            19.2583,
            13
           ],
           "yaxis": "y"
          }
         ],
         "name": "24.0"
        },
        {
         "data": [
          {
           "hovertemplate": "age=46.0<br>survived=%{x}<br>fare=%{y}<extra></extra>",
           "ids": [
            0,
            0,
            0
           ],
           "legendgroup": "",
           "marker": {
            "color": "#636efa",
            "symbol": "circle"
           },
           "mode": "markers",
           "name": "",
           "orientation": "v",
           "showlegend": false,
           "type": "scatter",
           "x": [
            0,
            0,
            0
           ],
           "xaxis": "x",
           "y": [
            61.175,
            26,
            79.2
           ],
           "yaxis": "y"
          }
         ],
         "name": "46.0"
        },
        {
         "data": [
          {
           "hovertemplate": "age=59.0<br>survived=%{x}<br>fare=%{y}<extra></extra>",
           "ids": [
            0,
            0
           ],
           "legendgroup": "",
           "marker": {
            "color": "#636efa",
            "symbol": "circle"
           },
           "mode": "markers",
           "name": "",
           "orientation": "v",
           "showlegend": false,
           "type": "scatter",
           "x": [
            0,
            0
           ],
           "xaxis": "x",
           "y": [
            7.25,
            13.5
           ],
           "yaxis": "y"
          }
         ],
         "name": "59.0"
        },
        {
         "data": [
          {
           "hovertemplate": "age=71.0<br>survived=%{x}<br>fare=%{y}<extra></extra>",
           "ids": [
            0,
            0
           ],
           "legendgroup": "",
           "marker": {
            "color": "#636efa",
            "symbol": "circle"
           },
           "mode": "markers",
           "name": "",
           "orientation": "v",
           "showlegend": false,
           "type": "scatter",
           "x": [
            0,
            0
           ],
           "xaxis": "x",
           "y": [
            34.6542,
            49.5042
           ],
           "yaxis": "y"
          }
         ],
         "name": "71.0"
        },
        {
         "data": [
          {
           "hovertemplate": "age=37.0<br>survived=%{x}<br>fare=%{y}<extra></extra>",
           "ids": [
            0,
            0,
            1,
            0,
            0,
            0
           ],
           "legendgroup": "",
           "marker": {
            "color": "#636efa",
            "symbol": "circle"
           },
           "mode": "markers",
           "name": "",
           "orientation": "v",
           "showlegend": false,
           "type": "scatter",
           "x": [
            0,
            0,
            1,
            0,
            0,
            0
           ],
           "xaxis": "x",
           "y": [
            7.925,
            53.1,
            52.5542,
            29.7,
            9.5875,
            26
           ],
           "yaxis": "y"
          }
         ],
         "name": "37.0"
        },
        {
         "data": [
          {
           "hovertemplate": "age=47.0<br>survived=%{x}<br>fare=%{y}<extra></extra>",
           "ids": [
            0,
            0,
            0,
            0,
            0,
            0,
            0,
            1,
            0
           ],
           "legendgroup": "",
           "marker": {
            "color": "#636efa",
            "symbol": "circle"
           },
           "mode": "markers",
           "name": "",
           "orientation": "v",
           "showlegend": false,
           "type": "scatter",
           "x": [
            0,
            0,
            0,
            0,
            0,
            0,
            0,
            1,
            0
           ],
           "xaxis": "x",
           "y": [
            52,
            14.5,
            38.5,
            34.0208,
            15,
            7.25,
            25.5875,
            52.5542,
            9
           ],
           "yaxis": "y"
          }
         ],
         "name": "47.0"
        },
        {
         "data": [
          {
           "hovertemplate": "age=14.5<br>survived=%{x}<br>fare=%{y}<extra></extra>",
           "ids": [
            0
           ],
           "legendgroup": "",
           "marker": {
            "color": "#636efa",
            "symbol": "circle"
           },
           "mode": "markers",
           "name": "",
           "orientation": "v",
           "showlegend": false,
           "type": "scatter",
           "x": [
            0
           ],
           "xaxis": "x",
           "y": [
            14.4542
           ],
           "yaxis": "y"
          }
         ],
         "name": "14.5"
        },
        {
         "data": [
          {
           "hovertemplate": "age=70.5<br>survived=%{x}<br>fare=%{y}<extra></extra>",
           "ids": [
            0
           ],
           "legendgroup": "",
           "marker": {
            "color": "#636efa",
            "symbol": "circle"
           },
           "mode": "markers",
           "name": "",
           "orientation": "v",
           "showlegend": false,
           "type": "scatter",
           "x": [
            0
           ],
           "xaxis": "x",
           "y": [
            7.75
           ],
           "yaxis": "y"
          }
         ],
         "name": "70.5"
        },
        {
         "data": [
          {
           "hovertemplate": "age=32.5<br>survived=%{x}<br>fare=%{y}<extra></extra>",
           "ids": [
            0,
            1
           ],
           "legendgroup": "",
           "marker": {
            "color": "#636efa",
            "symbol": "circle"
           },
           "mode": "markers",
           "name": "",
           "orientation": "v",
           "showlegend": false,
           "type": "scatter",
           "x": [
            0,
            1
           ],
           "xaxis": "x",
           "y": [
            30.0708,
            13
           ],
           "yaxis": "y"
          }
         ],
         "name": "32.5"
        },
        {
         "data": [
          {
           "hovertemplate": "age=12.0<br>survived=%{x}<br>fare=%{y}<extra></extra>",
           "ids": [
            1
           ],
           "legendgroup": "",
           "marker": {
            "color": "#636efa",
            "symbol": "circle"
           },
           "mode": "markers",
           "name": "",
           "orientation": "v",
           "showlegend": false,
           "type": "scatter",
           "x": [
            1
           ],
           "xaxis": "x",
           "y": [
            11.2417
           ],
           "yaxis": "y"
          }
         ],
         "name": "12.0"
        },
        {
         "data": [
          {
           "hovertemplate": "age=9.0<br>survived=%{x}<br>fare=%{y}<extra></extra>",
           "ids": [
            0,
            1,
            0,
            0,
            1,
            0,
            0,
            0
           ],
           "legendgroup": "",
           "marker": {
            "color": "#636efa",
            "symbol": "circle"
           },
           "mode": "markers",
           "name": "",
           "orientation": "v",
           "showlegend": false,
           "type": "scatter",
           "x": [
            0,
            1,
            0,
            0,
            1,
            0,
            0,
            0
           ],
           "xaxis": "x",
           "y": [
            34.375,
            20.525,
            31.3875,
            46.9,
            15.9,
            31.275,
            27.9,
            15.2458
           ],
           "yaxis": "y"
          }
         ],
         "name": "9.0"
        },
        {
         "data": [
          {
           "hovertemplate": "age=36.5<br>survived=%{x}<br>fare=%{y}<extra></extra>",
           "ids": [
            0
           ],
           "legendgroup": "",
           "marker": {
            "color": "#636efa",
            "symbol": "circle"
           },
           "mode": "markers",
           "name": "",
           "orientation": "v",
           "showlegend": false,
           "type": "scatter",
           "x": [
            0
           ],
           "xaxis": "x",
           "y": [
            26
           ],
           "yaxis": "y"
          }
         ],
         "name": "36.5"
        },
        {
         "data": [
          {
           "hovertemplate": "age=51.0<br>survived=%{x}<br>fare=%{y}<extra></extra>",
           "ids": [
            0,
            0,
            0,
            0,
            0,
            1,
            1
           ],
           "legendgroup": "",
           "marker": {
            "color": "#636efa",
            "symbol": "circle"
           },
           "mode": "markers",
           "name": "",
           "orientation": "v",
           "showlegend": false,
           "type": "scatter",
           "x": [
            0,
            0,
            0,
            0,
            0,
            1,
            1
           ],
           "xaxis": "x",
           "y": [
            12.525,
            61.3792,
            8.05,
            7.75,
            7.0542,
            77.9583,
            26.55
           ],
           "yaxis": "y"
          }
         ],
         "name": "51.0"
        },
        {
         "data": [
          {
           "hovertemplate": "age=55.5<br>survived=%{x}<br>fare=%{y}<extra></extra>",
           "ids": [
            0
           ],
           "legendgroup": "",
           "marker": {
            "color": "#636efa",
            "symbol": "circle"
           },
           "mode": "markers",
           "name": "",
           "orientation": "v",
           "showlegend": false,
           "type": "scatter",
           "x": [
            0
           ],
           "xaxis": "x",
           "y": [
            8.05
           ],
           "yaxis": "y"
          }
         ],
         "name": "55.5"
        },
        {
         "data": [
          {
           "hovertemplate": "age=40.5<br>survived=%{x}<br>fare=%{y}<extra></extra>",
           "ids": [
            0,
            0
           ],
           "legendgroup": "",
           "marker": {
            "color": "#636efa",
            "symbol": "circle"
           },
           "mode": "markers",
           "name": "",
           "orientation": "v",
           "showlegend": false,
           "type": "scatter",
           "x": [
            0,
            0
           ],
           "xaxis": "x",
           "y": [
            14.5,
            7.75
           ],
           "yaxis": "y"
          }
         ],
         "name": "40.5"
        },
        {
         "data": [
          {
           "hovertemplate": "age=44.0<br>survived=%{x}<br>fare=%{y}<extra></extra>",
           "ids": [
            0,
            1,
            0,
            0,
            1,
            1,
            0,
            0,
            0
           ],
           "legendgroup": "",
           "marker": {
            "color": "#636efa",
            "symbol": "circle"
           },
           "mode": "markers",
           "name": "",
           "orientation": "v",
           "showlegend": false,
           "type": "scatter",
           "x": [
            0,
            1,
            0,
            0,
            1,
            1,
            0,
            0,
            0
           ],
           "xaxis": "x",
           "y": [
            16.1,
            27.7208,
            26,
            90,
            7.925,
            57.9792,
            8.05,
            8.05,
            26
           ],
           "yaxis": "y"
          }
         ],
         "name": "44.0"
        },
        {
         "data": [
          {
           "hovertemplate": "age=1.0<br>survived=%{x}<br>fare=%{y}<extra></extra>",
           "ids": [
            0,
            1,
            1,
            1,
            0,
            1,
            1
           ],
           "legendgroup": "",
           "marker": {
            "color": "#636efa",
            "symbol": "circle"
           },
           "mode": "markers",
           "name": "",
           "orientation": "v",
           "showlegend": false,
           "type": "scatter",
           "x": [
            0,
            1,
            1,
            1,
            0,
            1,
            1
           ],
           "xaxis": "x",
           "y": [
            39.6875,
            11.1333,
            39,
            15.7417,
            46.9,
            20.575,
            37.0042
           ],
           "yaxis": "y"
          }
         ],
         "name": "1.0"
        },
        {
         "data": [
          {
           "hovertemplate": "age=61.0<br>survived=%{x}<br>fare=%{y}<extra></extra>",
           "ids": [
            0,
            0,
            0
           ],
           "legendgroup": "",
           "marker": {
            "color": "#636efa",
            "symbol": "circle"
           },
           "mode": "markers",
           "name": "",
           "orientation": "v",
           "showlegend": false,
           "type": "scatter",
           "x": [
            0,
            0,
            0
           ],
           "xaxis": "x",
           "y": [
            33.5,
            6.2375,
            32.3208
           ],
           "yaxis": "y"
          }
         ],
         "name": "61.0"
        },
        {
         "data": [
          {
           "hovertemplate": "age=56.0<br>survived=%{x}<br>fare=%{y}<extra></extra>",
           "ids": [
            0,
            0,
            1,
            1
           ],
           "legendgroup": "",
           "marker": {
            "color": "#636efa",
            "symbol": "circle"
           },
           "mode": "markers",
           "name": "",
           "orientation": "v",
           "showlegend": false,
           "type": "scatter",
           "x": [
            0,
            0,
            1,
            1
           ],
           "xaxis": "x",
           "y": [
            30.6958,
            26.55,
            35.5,
            83.1583
           ],
           "yaxis": "y"
          }
         ],
         "name": "56.0"
        },
        {
         "data": [
          {
           "hovertemplate": "age=50.0<br>survived=%{x}<br>fare=%{y}<extra></extra>",
           "ids": [
            0,
            1,
            1,
            0,
            1,
            0,
            1,
            0,
            1,
            0
           ],
           "legendgroup": "",
           "marker": {
            "color": "#636efa",
            "symbol": "circle"
           },
           "mode": "markers",
           "name": "",
           "orientation": "v",
           "showlegend": false,
           "type": "scatter",
           "x": [
            0,
            1,
            1,
            0,
            1,
            0,
            1,
            0,
            1,
            0
           ],
           "xaxis": "x",
           "y": [
            28.7125,
            26,
            247.5208,
            55.9,
            10.5,
            8.05,
            10.5,
            106.425,
            133.65,
            13
           ],
           "yaxis": "y"
          }
         ],
         "name": "50.0"
        },
        {
         "data": [
          {
           "hovertemplate": "age=36.0<br>survived=%{x}<br>fare=%{y}<extra></extra>",
           "ids": [
            0,
            0,
            0,
            0,
            1,
            1,
            0,
            1,
            1,
            0,
            1,
            1,
            1,
            1,
            1,
            0,
            0,
            0,
            0,
            1,
            0,
            1
           ],
           "legendgroup": "",
           "marker": {
            "color": "#636efa",
            "symbol": "circle"
           },
           "mode": "markers",
           "name": "",
           "orientation": "v",
           "showlegend": false,
           "type": "scatter",
           "x": [
            0,
            0,
            0,
            0,
            1,
            1,
            0,
            1,
            1,
            0,
            1,
            1,
            1,
            1,
            1,
            0,
            0,
            0,
            0,
            1,
            0,
            1
           ],
           "xaxis": "x",
           "y": [
            0,
            7.8958,
            10.5,
            12.875,
            135.6333,
            13,
            13,
            13,
            120,
            27.75,
            26.2875,
            26,
            71,
            17.4,
            26.3875,
            40.125,
            24.15,
            15.55,
            7.4958,
            512.3292,
            78.85,
            120
           ],
           "yaxis": "y"
          }
         ],
         "name": "36.0"
        },
        {
         "data": [
          {
           "hovertemplate": "age=45.5<br>survived=%{x}<br>fare=%{y}<extra></extra>",
           "ids": [
            0,
            0
           ],
           "legendgroup": "",
           "marker": {
            "color": "#636efa",
            "symbol": "circle"
           },
           "mode": "markers",
           "name": "",
           "orientation": "v",
           "showlegend": false,
           "type": "scatter",
           "x": [
            0,
            0
           ],
           "xaxis": "x",
           "y": [
            7.225,
            28.5
           ],
           "yaxis": "y"
          }
         ],
         "name": "45.5"
        },
        {
         "data": [
          {
           "hovertemplate": "age=20.5<br>survived=%{x}<br>fare=%{y}<extra></extra>",
           "ids": [
            0
           ],
           "legendgroup": "",
           "marker": {
            "color": "#636efa",
            "symbol": "circle"
           },
           "mode": "markers",
           "name": "",
           "orientation": "v",
           "showlegend": false,
           "type": "scatter",
           "x": [
            0
           ],
           "xaxis": "x",
           "y": [
            7.25
           ],
           "yaxis": "y"
          }
         ],
         "name": "20.5"
        },
        {
         "data": [
          {
           "hovertemplate": "age=62.0<br>survived=%{x}<br>fare=%{y}<extra></extra>",
           "ids": [
            0,
            0,
            1,
            1
           ],
           "legendgroup": "",
           "marker": {
            "color": "#636efa",
            "symbol": "circle"
           },
           "mode": "markers",
           "name": "",
           "orientation": "v",
           "showlegend": false,
           "type": "scatter",
           "x": [
            0,
            0,
            1,
            1
           ],
           "xaxis": "x",
           "y": [
            26.55,
            26.55,
            10.5,
            80
           ],
           "yaxis": "y"
          }
         ],
         "name": "62.0"
        },
        {
         "data": [
          {
           "hovertemplate": "age=41.0<br>survived=%{x}<br>fare=%{y}<extra></extra>",
           "ids": [
            0,
            1,
            1,
            0,
            0,
            0
           ],
           "legendgroup": "",
           "marker": {
            "color": "#636efa",
            "symbol": "circle"
           },
           "mode": "markers",
           "name": "",
           "orientation": "v",
           "showlegend": false,
           "type": "scatter",
           "x": [
            0,
            1,
            1,
            0,
            0,
            0
           ],
           "xaxis": "x",
           "y": [
            20.2125,
            19.5,
            134.5,
            39.6875,
            7.125,
            14.1083
           ],
           "yaxis": "y"
          }
         ],
         "name": "41.0"
        },
        {
         "data": [
          {
           "hovertemplate": "age=52.0<br>survived=%{x}<br>fare=%{y}<extra></extra>",
           "ids": [
            0,
            1,
            1,
            0,
            0,
            1
           ],
           "legendgroup": "",
           "marker": {
            "color": "#636efa",
            "symbol": "circle"
           },
           "mode": "markers",
           "name": "",
           "orientation": "v",
           "showlegend": false,
           "type": "scatter",
           "x": [
            0,
            1,
            1,
            0,
            0,
            1
           ],
           "xaxis": "x",
           "y": [
            79.65,
            30.5,
            78.2667,
            13.5,
            13,
            93.5
           ],
           "yaxis": "y"
          }
         ],
         "name": "52.0"
        },
        {
         "data": [
          {
           "hovertemplate": "age=63.0<br>survived=%{x}<br>fare=%{y}<extra></extra>",
           "ids": [
            1,
            1
           ],
           "legendgroup": "",
           "marker": {
            "color": "#636efa",
            "symbol": "circle"
           },
           "mode": "markers",
           "name": "",
           "orientation": "v",
           "showlegend": false,
           "type": "scatter",
           "x": [
            1,
            1
           ],
           "xaxis": "x",
           "y": [
            77.9583,
            9.5875
           ],
           "yaxis": "y"
          }
         ],
         "name": "63.0"
        },
        {
         "data": [
          {
           "hovertemplate": "age=23.5<br>survived=%{x}<br>fare=%{y}<extra></extra>",
           "ids": [
            0
           ],
           "legendgroup": "",
           "marker": {
            "color": "#636efa",
            "symbol": "circle"
           },
           "mode": "markers",
           "name": "",
           "orientation": "v",
           "showlegend": false,
           "type": "scatter",
           "x": [
            0
           ],
           "xaxis": "x",
           "y": [
            7.2292
           ],
           "yaxis": "y"
          }
         ],
         "name": "23.5"
        },
        {
         "data": [
          {
           "hovertemplate": "age=0.92<br>survived=%{x}<br>fare=%{y}<extra></extra>",
           "ids": [
            1
           ],
           "legendgroup": "",
           "marker": {
            "color": "#636efa",
            "symbol": "circle"
           },
           "mode": "markers",
           "name": "",
           "orientation": "v",
           "showlegend": false,
           "type": "scatter",
           "x": [
            1
           ],
           "xaxis": "x",
           "y": [
            151.55
           ],
           "yaxis": "y"
          }
         ],
         "name": "0.92"
        },
        {
         "data": [
          {
           "hovertemplate": "age=43.0<br>survived=%{x}<br>fare=%{y}<extra></extra>",
           "ids": [
            0,
            0,
            0,
            1,
            0
           ],
           "legendgroup": "",
           "marker": {
            "color": "#636efa",
            "symbol": "circle"
           },
           "mode": "markers",
           "name": "",
           "orientation": "v",
           "showlegend": false,
           "type": "scatter",
           "x": [
            0,
            0,
            0,
            1,
            0
           ],
           "xaxis": "x",
           "y": [
            26.25,
            8.05,
            46.9,
            211.3375,
            6.45
           ],
           "yaxis": "y"
          }
         ],
         "name": "43.0"
        },
        {
         "data": [
          {
           "hovertemplate": "age=60.0<br>survived=%{x}<br>fare=%{y}<extra></extra>",
           "ids": [
            1,
            1,
            0,
            0
           ],
           "legendgroup": "",
           "marker": {
            "color": "#636efa",
            "symbol": "circle"
           },
           "mode": "markers",
           "name": "",
           "orientation": "v",
           "showlegend": false,
           "type": "scatter",
           "x": [
            1,
            1,
            0,
            0
           ],
           "xaxis": "x",
           "y": [
            75.25,
            79.2,
            39,
            26.55
           ],
           "yaxis": "y"
          }
         ],
         "name": "60.0"
        },
        {
         "data": [
          {
           "hovertemplate": "age=10.0<br>survived=%{x}<br>fare=%{y}<extra></extra>",
           "ids": [
            0,
            0
           ],
           "legendgroup": "",
           "marker": {
            "color": "#636efa",
            "symbol": "circle"
           },
           "mode": "markers",
           "name": "",
           "orientation": "v",
           "showlegend": false,
           "type": "scatter",
           "x": [
            0,
            0
           ],
           "xaxis": "x",
           "y": [
            24.15,
            27.9
           ],
           "yaxis": "y"
          }
         ],
         "name": "10.0"
        },
        {
         "data": [
          {
           "hovertemplate": "age=64.0<br>survived=%{x}<br>fare=%{y}<extra></extra>",
           "ids": [
            0,
            0
           ],
           "legendgroup": "",
           "marker": {
            "color": "#636efa",
            "symbol": "circle"
           },
           "mode": "markers",
           "name": "",
           "orientation": "v",
           "showlegend": false,
           "type": "scatter",
           "x": [
            0,
            0
           ],
           "xaxis": "x",
           "y": [
            263,
            26
           ],
           "yaxis": "y"
          }
         ],
         "name": "64.0"
        },
        {
         "data": [
          {
           "hovertemplate": "age=13.0<br>survived=%{x}<br>fare=%{y}<extra></extra>",
           "ids": [
            1,
            1
           ],
           "legendgroup": "",
           "marker": {
            "color": "#636efa",
            "symbol": "circle"
           },
           "mode": "markers",
           "name": "",
           "orientation": "v",
           "showlegend": false,
           "type": "scatter",
           "x": [
            1,
            1
           ],
           "xaxis": "x",
           "y": [
            19.5,
            7.2292
           ],
           "yaxis": "y"
          }
         ],
         "name": "13.0"
        },
        {
         "data": [
          {
           "hovertemplate": "age=48.0<br>survived=%{x}<br>fare=%{y}<extra></extra>",
           "ids": [
            1,
            0,
            1,
            1,
            1,
            0,
            1,
            0,
            1
           ],
           "legendgroup": "",
           "marker": {
            "color": "#636efa",
            "symbol": "circle"
           },
           "mode": "markers",
           "name": "",
           "orientation": "v",
           "showlegend": false,
           "type": "scatter",
           "x": [
            1,
            0,
            1,
            1,
            1,
            0,
            1,
            0,
            1
           ],
           "xaxis": "x",
           "y": [
            26.55,
            13,
            39.6,
            76.7292,
            52,
            34.375,
            65,
            7.8542,
            25.9292
           ],
           "yaxis": "y"
          }
         ],
         "name": "48.0"
        },
        {
         "data": [
          {
           "hovertemplate": "age=0.75<br>survived=%{x}<br>fare=%{y}<extra></extra>",
           "ids": [
            1,
            1
           ],
           "legendgroup": "",
           "marker": {
            "color": "#636efa",
            "symbol": "circle"
           },
           "mode": "markers",
           "name": "",
           "orientation": "v",
           "showlegend": false,
           "type": "scatter",
           "x": [
            1,
            1
           ],
           "xaxis": "x",
           "y": [
            19.2583,
            19.2583
           ],
           "yaxis": "y"
          }
         ],
         "name": "0.75"
        },
        {
         "data": [
          {
           "hovertemplate": "age=53.0<br>survived=%{x}<br>fare=%{y}<extra></extra>",
           "ids": [
            1
           ],
           "legendgroup": "",
           "marker": {
            "color": "#636efa",
            "symbol": "circle"
           },
           "mode": "markers",
           "name": "",
           "orientation": "v",
           "showlegend": false,
           "type": "scatter",
           "x": [
            1
           ],
           "xaxis": "x",
           "y": [
            51.4792
           ],
           "yaxis": "y"
          }
         ],
         "name": "53.0"
        },
        {
         "data": [
          {
           "hovertemplate": "age=57.0<br>survived=%{x}<br>fare=%{y}<extra></extra>",
           "ids": [
            0,
            0
           ],
           "legendgroup": "",
           "marker": {
            "color": "#636efa",
            "symbol": "circle"
           },
           "mode": "markers",
           "name": "",
           "orientation": "v",
           "showlegend": false,
           "type": "scatter",
           "x": [
            0,
            0
           ],
           "xaxis": "x",
           "y": [
            12.35,
            10.5
           ],
           "yaxis": "y"
          }
         ],
         "name": "57.0"
        },
        {
         "data": [
          {
           "hovertemplate": "age=80.0<br>survived=%{x}<br>fare=%{y}<extra></extra>",
           "ids": [
            1
           ],
           "legendgroup": "",
           "marker": {
            "color": "#636efa",
            "symbol": "circle"
           },
           "mode": "markers",
           "name": "",
           "orientation": "v",
           "showlegend": false,
           "type": "scatter",
           "x": [
            1
           ],
           "xaxis": "x",
           "y": [
            30
           ],
           "yaxis": "y"
          }
         ],
         "name": "80.0"
        },
        {
         "data": [
          {
           "hovertemplate": "age=70.0<br>survived=%{x}<br>fare=%{y}<extra></extra>",
           "ids": [
            0,
            0
           ],
           "legendgroup": "",
           "marker": {
            "color": "#636efa",
            "symbol": "circle"
           },
           "mode": "markers",
           "name": "",
           "orientation": "v",
           "showlegend": false,
           "type": "scatter",
           "x": [
            0,
            0
           ],
           "xaxis": "x",
           "y": [
            10.5,
            71
           ],
           "yaxis": "y"
          }
         ],
         "name": "70.0"
        },
        {
         "data": [
          {
           "hovertemplate": "age=24.5<br>survived=%{x}<br>fare=%{y}<extra></extra>",
           "ids": [
            0
           ],
           "legendgroup": "",
           "marker": {
            "color": "#636efa",
            "symbol": "circle"
           },
           "mode": "markers",
           "name": "",
           "orientation": "v",
           "showlegend": false,
           "type": "scatter",
           "x": [
            0
           ],
           "xaxis": "x",
           "y": [
            8.05
           ],
           "yaxis": "y"
          }
         ],
         "name": "24.5"
        },
        {
         "data": [
          {
           "hovertemplate": "age=6.0<br>survived=%{x}<br>fare=%{y}<extra></extra>",
           "ids": [
            1,
            1,
            0
           ],
           "legendgroup": "",
           "marker": {
            "color": "#636efa",
            "symbol": "circle"
           },
           "mode": "markers",
           "name": "",
           "orientation": "v",
           "showlegend": false,
           "type": "scatter",
           "x": [
            1,
            1,
            0
           ],
           "xaxis": "x",
           "y": [
            33,
            12.475,
            31.275
           ],
           "yaxis": "y"
          }
         ],
         "name": "6.0"
        },
        {
         "data": [
          {
           "hovertemplate": "age=0.67<br>survived=%{x}<br>fare=%{y}<extra></extra>",
           "ids": [
            1
           ],
           "legendgroup": "",
           "marker": {
            "color": "#636efa",
            "symbol": "circle"
           },
           "mode": "markers",
           "name": "",
           "orientation": "v",
           "showlegend": false,
           "type": "scatter",
           "x": [
            1
           ],
           "xaxis": "x",
           "y": [
            14.5
           ],
           "yaxis": "y"
          }
         ],
         "name": "0.67"
        },
        {
         "data": [
          {
           "hovertemplate": "age=30.5<br>survived=%{x}<br>fare=%{y}<extra></extra>",
           "ids": [
            0,
            0
           ],
           "legendgroup": "",
           "marker": {
            "color": "#636efa",
            "symbol": "circle"
           },
           "mode": "markers",
           "name": "",
           "orientation": "v",
           "showlegend": false,
           "type": "scatter",
           "x": [
            0,
            0
           ],
           "xaxis": "x",
           "y": [
            7.75,
            8.05
           ],
           "yaxis": "y"
          }
         ],
         "name": "30.5"
        },
        {
         "data": [
          {
           "hovertemplate": "age=0.42<br>survived=%{x}<br>fare=%{y}<extra></extra>",
           "ids": [
            1
           ],
           "legendgroup": "",
           "marker": {
            "color": "#636efa",
            "symbol": "circle"
           },
           "mode": "markers",
           "name": "",
           "orientation": "v",
           "showlegend": false,
           "type": "scatter",
           "x": [
            1
           ],
           "xaxis": "x",
           "y": [
            8.5167
           ],
           "yaxis": "y"
          }
         ],
         "name": "0.42"
        },
        {
         "data": [
          {
           "hovertemplate": "age=34.5<br>survived=%{x}<br>fare=%{y}<extra></extra>",
           "ids": [
            0
           ],
           "legendgroup": "",
           "marker": {
            "color": "#636efa",
            "symbol": "circle"
           },
           "mode": "markers",
           "name": "",
           "orientation": "v",
           "showlegend": false,
           "type": "scatter",
           "x": [
            0
           ],
           "xaxis": "x",
           "y": [
            6.4375
           ],
           "yaxis": "y"
          }
         ],
         "name": "34.5"
        },
        {
         "data": [
          {
           "hovertemplate": "age=74.0<br>survived=%{x}<br>fare=%{y}<extra></extra>",
           "ids": [
            0
           ],
           "legendgroup": "",
           "marker": {
            "color": "#636efa",
            "symbol": "circle"
           },
           "mode": "markers",
           "name": "",
           "orientation": "v",
           "showlegend": false,
           "type": "scatter",
           "x": [
            0
           ],
           "xaxis": "x",
           "y": [
            7.775
           ],
           "yaxis": "y"
          }
         ],
         "name": "74.0"
        }
       ],
       "layout": {
        "legend": {
         "tracegroupgap": 0
        },
        "margin": {
         "t": 60
        },
        "sliders": [
         {
          "active": 0,
          "currentvalue": {
           "prefix": "age="
          },
          "len": 0.9,
          "pad": {
           "b": 10,
           "t": 60
          },
          "steps": [
           {
            "args": [
             [
              "22.0"
             ],
             {
              "frame": {
               "duration": 0,
               "redraw": false
              },
              "fromcurrent": true,
              "mode": "immediate",
              "transition": {
               "duration": 0,
               "easing": "linear"
              }
             }
            ],
            "label": "22.0",
            "method": "animate"
           },
           {
            "args": [
             [
              "38.0"
             ],
             {
              "frame": {
               "duration": 0,
               "redraw": false
              },
              "fromcurrent": true,
              "mode": "immediate",
              "transition": {
               "duration": 0,
               "easing": "linear"
              }
             }
            ],
            "label": "38.0",
            "method": "animate"
           },
           {
            "args": [
             [
              "26.0"
             ],
             {
              "frame": {
               "duration": 0,
               "redraw": false
              },
              "fromcurrent": true,
              "mode": "immediate",
              "transition": {
               "duration": 0,
               "easing": "linear"
              }
             }
            ],
            "label": "26.0",
            "method": "animate"
           },
           {
            "args": [
             [
              "35.0"
             ],
             {
              "frame": {
               "duration": 0,
               "redraw": false
              },
              "fromcurrent": true,
              "mode": "immediate",
              "transition": {
               "duration": 0,
               "easing": "linear"
              }
             }
            ],
            "label": "35.0",
            "method": "animate"
           },
           {
            "args": [
             [
              "54.0"
             ],
             {
              "frame": {
               "duration": 0,
               "redraw": false
              },
              "fromcurrent": true,
              "mode": "immediate",
              "transition": {
               "duration": 0,
               "easing": "linear"
              }
             }
            ],
            "label": "54.0",
            "method": "animate"
           },
           {
            "args": [
             [
              "2.0"
             ],
             {
              "frame": {
               "duration": 0,
               "redraw": false
              },
              "fromcurrent": true,
              "mode": "immediate",
              "transition": {
               "duration": 0,
               "easing": "linear"
              }
             }
            ],
            "label": "2.0",
            "method": "animate"
           },
           {
            "args": [
             [
              "27.0"
             ],
             {
              "frame": {
               "duration": 0,
               "redraw": false
              },
              "fromcurrent": true,
              "mode": "immediate",
              "transition": {
               "duration": 0,
               "easing": "linear"
              }
             }
            ],
            "label": "27.0",
            "method": "animate"
           },
           {
            "args": [
             [
              "14.0"
             ],
             {
              "frame": {
               "duration": 0,
               "redraw": false
              },
              "fromcurrent": true,
              "mode": "immediate",
              "transition": {
               "duration": 0,
               "easing": "linear"
              }
             }
            ],
            "label": "14.0",
            "method": "animate"
           },
           {
            "args": [
             [
              "4.0"
             ],
             {
              "frame": {
               "duration": 0,
               "redraw": false
              },
              "fromcurrent": true,
              "mode": "immediate",
              "transition": {
               "duration": 0,
               "easing": "linear"
              }
             }
            ],
            "label": "4.0",
            "method": "animate"
           },
           {
            "args": [
             [
              "58.0"
             ],
             {
              "frame": {
               "duration": 0,
               "redraw": false
              },
              "fromcurrent": true,
              "mode": "immediate",
              "transition": {
               "duration": 0,
               "easing": "linear"
              }
             }
            ],
            "label": "58.0",
            "method": "animate"
           },
           {
            "args": [
             [
              "20.0"
             ],
             {
              "frame": {
               "duration": 0,
               "redraw": false
              },
              "fromcurrent": true,
              "mode": "immediate",
              "transition": {
               "duration": 0,
               "easing": "linear"
              }
             }
            ],
            "label": "20.0",
            "method": "animate"
           },
           {
            "args": [
             [
              "39.0"
             ],
             {
              "frame": {
               "duration": 0,
               "redraw": false
              },
              "fromcurrent": true,
              "mode": "immediate",
              "transition": {
               "duration": 0,
               "easing": "linear"
              }
             }
            ],
            "label": "39.0",
            "method": "animate"
           },
           {
            "args": [
             [
              "55.0"
             ],
             {
              "frame": {
               "duration": 0,
               "redraw": false
              },
              "fromcurrent": true,
              "mode": "immediate",
              "transition": {
               "duration": 0,
               "easing": "linear"
              }
             }
            ],
            "label": "55.0",
            "method": "animate"
           },
           {
            "args": [
             [
              "31.0"
             ],
             {
              "frame": {
               "duration": 0,
               "redraw": false
              },
              "fromcurrent": true,
              "mode": "immediate",
              "transition": {
               "duration": 0,
               "easing": "linear"
              }
             }
            ],
            "label": "31.0",
            "method": "animate"
           },
           {
            "args": [
             [
              "34.0"
             ],
             {
              "frame": {
               "duration": 0,
               "redraw": false
              },
              "fromcurrent": true,
              "mode": "immediate",
              "transition": {
               "duration": 0,
               "easing": "linear"
              }
             }
            ],
            "label": "34.0",
            "method": "animate"
           },
           {
            "args": [
             [
              "15.0"
             ],
             {
              "frame": {
               "duration": 0,
               "redraw": false
              },
              "fromcurrent": true,
              "mode": "immediate",
              "transition": {
               "duration": 0,
               "easing": "linear"
              }
             }
            ],
            "label": "15.0",
            "method": "animate"
           },
           {
            "args": [
             [
              "28.0"
             ],
             {
              "frame": {
               "duration": 0,
               "redraw": false
              },
              "fromcurrent": true,
              "mode": "immediate",
              "transition": {
               "duration": 0,
               "easing": "linear"
              }
             }
            ],
            "label": "28.0",
            "method": "animate"
           },
           {
            "args": [
             [
              "8.0"
             ],
             {
              "frame": {
               "duration": 0,
               "redraw": false
              },
              "fromcurrent": true,
              "mode": "immediate",
              "transition": {
               "duration": 0,
               "easing": "linear"
              }
             }
            ],
            "label": "8.0",
            "method": "animate"
           },
           {
            "args": [
             [
              "19.0"
             ],
             {
              "frame": {
               "duration": 0,
               "redraw": false
              },
              "fromcurrent": true,
              "mode": "immediate",
              "transition": {
               "duration": 0,
               "easing": "linear"
              }
             }
            ],
            "label": "19.0",
            "method": "animate"
           },
           {
            "args": [
             [
              "40.0"
             ],
             {
              "frame": {
               "duration": 0,
               "redraw": false
              },
              "fromcurrent": true,
              "mode": "immediate",
              "transition": {
               "duration": 0,
               "easing": "linear"
              }
             }
            ],
            "label": "40.0",
            "method": "animate"
           },
           {
            "args": [
             [
              "66.0"
             ],
             {
              "frame": {
               "duration": 0,
               "redraw": false
              },
              "fromcurrent": true,
              "mode": "immediate",
              "transition": {
               "duration": 0,
               "easing": "linear"
              }
             }
            ],
            "label": "66.0",
            "method": "animate"
           },
           {
            "args": [
             [
              "42.0"
             ],
             {
              "frame": {
               "duration": 0,
               "redraw": false
              },
              "fromcurrent": true,
              "mode": "immediate",
              "transition": {
               "duration": 0,
               "easing": "linear"
              }
             }
            ],
            "label": "42.0",
            "method": "animate"
           },
           {
            "args": [
             [
              "21.0"
             ],
             {
              "frame": {
               "duration": 0,
               "redraw": false
              },
              "fromcurrent": true,
              "mode": "immediate",
              "transition": {
               "duration": 0,
               "easing": "linear"
              }
             }
            ],
            "label": "21.0",
            "method": "animate"
           },
           {
            "args": [
             [
              "18.0"
             ],
             {
              "frame": {
               "duration": 0,
               "redraw": false
              },
              "fromcurrent": true,
              "mode": "immediate",
              "transition": {
               "duration": 0,
               "easing": "linear"
              }
             }
            ],
            "label": "18.0",
            "method": "animate"
           },
           {
            "args": [
             [
              "3.0"
             ],
             {
              "frame": {
               "duration": 0,
               "redraw": false
              },
              "fromcurrent": true,
              "mode": "immediate",
              "transition": {
               "duration": 0,
               "easing": "linear"
              }
             }
            ],
            "label": "3.0",
            "method": "animate"
           },
           {
            "args": [
             [
              "7.0"
             ],
             {
              "frame": {
               "duration": 0,
               "redraw": false
              },
              "fromcurrent": true,
              "mode": "immediate",
              "transition": {
               "duration": 0,
               "easing": "linear"
              }
             }
            ],
            "label": "7.0",
            "method": "animate"
           },
           {
            "args": [
             [
              "49.0"
             ],
             {
              "frame": {
               "duration": 0,
               "redraw": false
              },
              "fromcurrent": true,
              "mode": "immediate",
              "transition": {
               "duration": 0,
               "easing": "linear"
              }
             }
            ],
            "label": "49.0",
            "method": "animate"
           },
           {
            "args": [
             [
              "29.0"
             ],
             {
              "frame": {
               "duration": 0,
               "redraw": false
              },
              "fromcurrent": true,
              "mode": "immediate",
              "transition": {
               "duration": 0,
               "easing": "linear"
              }
             }
            ],
            "label": "29.0",
            "method": "animate"
           },
           {
            "args": [
             [
              "65.0"
             ],
             {
              "frame": {
               "duration": 0,
               "redraw": false
              },
              "fromcurrent": true,
              "mode": "immediate",
              "transition": {
               "duration": 0,
               "easing": "linear"
              }
             }
            ],
            "label": "65.0",
            "method": "animate"
           },
           {
            "args": [
             [
              "28.5"
             ],
             {
              "frame": {
               "duration": 0,
               "redraw": false
              },
              "fromcurrent": true,
              "mode": "immediate",
              "transition": {
               "duration": 0,
               "easing": "linear"
              }
             }
            ],
            "label": "28.5",
            "method": "animate"
           },
           {
            "args": [
             [
              "5.0"
             ],
             {
              "frame": {
               "duration": 0,
               "redraw": false
              },
              "fromcurrent": true,
              "mode": "immediate",
              "transition": {
               "duration": 0,
               "easing": "linear"
              }
             }
            ],
            "label": "5.0",
            "method": "animate"
           },
           {
            "args": [
             [
              "11.0"
             ],
             {
              "frame": {
               "duration": 0,
               "redraw": false
              },
              "fromcurrent": true,
              "mode": "immediate",
              "transition": {
               "duration": 0,
               "easing": "linear"
              }
             }
            ],
            "label": "11.0",
            "method": "animate"
           },
           {
            "args": [
             [
              "45.0"
             ],
             {
              "frame": {
               "duration": 0,
               "redraw": false
              },
              "fromcurrent": true,
              "mode": "immediate",
              "transition": {
               "duration": 0,
               "easing": "linear"
              }
             }
            ],
            "label": "45.0",
            "method": "animate"
           },
           {
            "args": [
             [
              "17.0"
             ],
             {
              "frame": {
               "duration": 0,
               "redraw": false
              },
              "fromcurrent": true,
              "mode": "immediate",
              "transition": {
               "duration": 0,
               "easing": "linear"
              }
             }
            ],
            "label": "17.0",
            "method": "animate"
           },
           {
            "args": [
             [
              "32.0"
             ],
             {
              "frame": {
               "duration": 0,
               "redraw": false
              },
              "fromcurrent": true,
              "mode": "immediate",
              "transition": {
               "duration": 0,
               "easing": "linear"
              }
             }
            ],
            "label": "32.0",
            "method": "animate"
           },
           {
            "args": [
             [
              "16.0"
             ],
             {
              "frame": {
               "duration": 0,
               "redraw": false
              },
              "fromcurrent": true,
              "mode": "immediate",
              "transition": {
               "duration": 0,
               "easing": "linear"
              }
             }
            ],
            "label": "16.0",
            "method": "animate"
           },
           {
            "args": [
             [
              "25.0"
             ],
             {
              "frame": {
               "duration": 0,
               "redraw": false
              },
              "fromcurrent": true,
              "mode": "immediate",
              "transition": {
               "duration": 0,
               "easing": "linear"
              }
             }
            ],
            "label": "25.0",
            "method": "animate"
           },
           {
            "args": [
             [
              "0.83"
             ],
             {
              "frame": {
               "duration": 0,
               "redraw": false
              },
              "fromcurrent": true,
              "mode": "immediate",
              "transition": {
               "duration": 0,
               "easing": "linear"
              }
             }
            ],
            "label": "0.83",
            "method": "animate"
           },
           {
            "args": [
             [
              "30.0"
             ],
             {
              "frame": {
               "duration": 0,
               "redraw": false
              },
              "fromcurrent": true,
              "mode": "immediate",
              "transition": {
               "duration": 0,
               "easing": "linear"
              }
             }
            ],
            "label": "30.0",
            "method": "animate"
           },
           {
            "args": [
             [
              "33.0"
             ],
             {
              "frame": {
               "duration": 0,
               "redraw": false
              },
              "fromcurrent": true,
              "mode": "immediate",
              "transition": {
               "duration": 0,
               "easing": "linear"
              }
             }
            ],
            "label": "33.0",
            "method": "animate"
           },
           {
            "args": [
             [
              "23.0"
             ],
             {
              "frame": {
               "duration": 0,
               "redraw": false
              },
              "fromcurrent": true,
              "mode": "immediate",
              "transition": {
               "duration": 0,
               "easing": "linear"
              }
             }
            ],
            "label": "23.0",
            "method": "animate"
           },
           {
            "args": [
             [
              "24.0"
             ],
             {
              "frame": {
               "duration": 0,
               "redraw": false
              },
              "fromcurrent": true,
              "mode": "immediate",
              "transition": {
               "duration": 0,
               "easing": "linear"
              }
             }
            ],
            "label": "24.0",
            "method": "animate"
           },
           {
            "args": [
             [
              "46.0"
             ],
             {
              "frame": {
               "duration": 0,
               "redraw": false
              },
              "fromcurrent": true,
              "mode": "immediate",
              "transition": {
               "duration": 0,
               "easing": "linear"
              }
             }
            ],
            "label": "46.0",
            "method": "animate"
           },
           {
            "args": [
             [
              "59.0"
             ],
             {
              "frame": {
               "duration": 0,
               "redraw": false
              },
              "fromcurrent": true,
              "mode": "immediate",
              "transition": {
               "duration": 0,
               "easing": "linear"
              }
             }
            ],
            "label": "59.0",
            "method": "animate"
           },
           {
            "args": [
             [
              "71.0"
             ],
             {
              "frame": {
               "duration": 0,
               "redraw": false
              },
              "fromcurrent": true,
              "mode": "immediate",
              "transition": {
               "duration": 0,
               "easing": "linear"
              }
             }
            ],
            "label": "71.0",
            "method": "animate"
           },
           {
            "args": [
             [
              "37.0"
             ],
             {
              "frame": {
               "duration": 0,
               "redraw": false
              },
              "fromcurrent": true,
              "mode": "immediate",
              "transition": {
               "duration": 0,
               "easing": "linear"
              }
             }
            ],
            "label": "37.0",
            "method": "animate"
           },
           {
            "args": [
             [
              "47.0"
             ],
             {
              "frame": {
               "duration": 0,
               "redraw": false
              },
              "fromcurrent": true,
              "mode": "immediate",
              "transition": {
               "duration": 0,
               "easing": "linear"
              }
             }
            ],
            "label": "47.0",
            "method": "animate"
           },
           {
            "args": [
             [
              "14.5"
             ],
             {
              "frame": {
               "duration": 0,
               "redraw": false
              },
              "fromcurrent": true,
              "mode": "immediate",
              "transition": {
               "duration": 0,
               "easing": "linear"
              }
             }
            ],
            "label": "14.5",
            "method": "animate"
           },
           {
            "args": [
             [
              "70.5"
             ],
             {
              "frame": {
               "duration": 0,
               "redraw": false
              },
              "fromcurrent": true,
              "mode": "immediate",
              "transition": {
               "duration": 0,
               "easing": "linear"
              }
             }
            ],
            "label": "70.5",
            "method": "animate"
           },
           {
            "args": [
             [
              "32.5"
             ],
             {
              "frame": {
               "duration": 0,
               "redraw": false
              },
              "fromcurrent": true,
              "mode": "immediate",
              "transition": {
               "duration": 0,
               "easing": "linear"
              }
             }
            ],
            "label": "32.5",
            "method": "animate"
           },
           {
            "args": [
             [
              "12.0"
             ],
             {
              "frame": {
               "duration": 0,
               "redraw": false
              },
              "fromcurrent": true,
              "mode": "immediate",
              "transition": {
               "duration": 0,
               "easing": "linear"
              }
             }
            ],
            "label": "12.0",
            "method": "animate"
           },
           {
            "args": [
             [
              "9.0"
             ],
             {
              "frame": {
               "duration": 0,
               "redraw": false
              },
              "fromcurrent": true,
              "mode": "immediate",
              "transition": {
               "duration": 0,
               "easing": "linear"
              }
             }
            ],
            "label": "9.0",
            "method": "animate"
           },
           {
            "args": [
             [
              "36.5"
             ],
             {
              "frame": {
               "duration": 0,
               "redraw": false
              },
              "fromcurrent": true,
              "mode": "immediate",
              "transition": {
               "duration": 0,
               "easing": "linear"
              }
             }
            ],
            "label": "36.5",
            "method": "animate"
           },
           {
            "args": [
             [
              "51.0"
             ],
             {
              "frame": {
               "duration": 0,
               "redraw": false
              },
              "fromcurrent": true,
              "mode": "immediate",
              "transition": {
               "duration": 0,
               "easing": "linear"
              }
             }
            ],
            "label": "51.0",
            "method": "animate"
           },
           {
            "args": [
             [
              "55.5"
             ],
             {
              "frame": {
               "duration": 0,
               "redraw": false
              },
              "fromcurrent": true,
              "mode": "immediate",
              "transition": {
               "duration": 0,
               "easing": "linear"
              }
             }
            ],
            "label": "55.5",
            "method": "animate"
           },
           {
            "args": [
             [
              "40.5"
             ],
             {
              "frame": {
               "duration": 0,
               "redraw": false
              },
              "fromcurrent": true,
              "mode": "immediate",
              "transition": {
               "duration": 0,
               "easing": "linear"
              }
             }
            ],
            "label": "40.5",
            "method": "animate"
           },
           {
            "args": [
             [
              "44.0"
             ],
             {
              "frame": {
               "duration": 0,
               "redraw": false
              },
              "fromcurrent": true,
              "mode": "immediate",
              "transition": {
               "duration": 0,
               "easing": "linear"
              }
             }
            ],
            "label": "44.0",
            "method": "animate"
           },
           {
            "args": [
             [
              "1.0"
             ],
             {
              "frame": {
               "duration": 0,
               "redraw": false
              },
              "fromcurrent": true,
              "mode": "immediate",
              "transition": {
               "duration": 0,
               "easing": "linear"
              }
             }
            ],
            "label": "1.0",
            "method": "animate"
           },
           {
            "args": [
             [
              "61.0"
             ],
             {
              "frame": {
               "duration": 0,
               "redraw": false
              },
              "fromcurrent": true,
              "mode": "immediate",
              "transition": {
               "duration": 0,
               "easing": "linear"
              }
             }
            ],
            "label": "61.0",
            "method": "animate"
           },
           {
            "args": [
             [
              "56.0"
             ],
             {
              "frame": {
               "duration": 0,
               "redraw": false
              },
              "fromcurrent": true,
              "mode": "immediate",
              "transition": {
               "duration": 0,
               "easing": "linear"
              }
             }
            ],
            "label": "56.0",
            "method": "animate"
           },
           {
            "args": [
             [
              "50.0"
             ],
             {
              "frame": {
               "duration": 0,
               "redraw": false
              },
              "fromcurrent": true,
              "mode": "immediate",
              "transition": {
               "duration": 0,
               "easing": "linear"
              }
             }
            ],
            "label": "50.0",
            "method": "animate"
           },
           {
            "args": [
             [
              "36.0"
             ],
             {
              "frame": {
               "duration": 0,
               "redraw": false
              },
              "fromcurrent": true,
              "mode": "immediate",
              "transition": {
               "duration": 0,
               "easing": "linear"
              }
             }
            ],
            "label": "36.0",
            "method": "animate"
           },
           {
            "args": [
             [
              "45.5"
             ],
             {
              "frame": {
               "duration": 0,
               "redraw": false
              },
              "fromcurrent": true,
              "mode": "immediate",
              "transition": {
               "duration": 0,
               "easing": "linear"
              }
             }
            ],
            "label": "45.5",
            "method": "animate"
           },
           {
            "args": [
             [
              "20.5"
             ],
             {
              "frame": {
               "duration": 0,
               "redraw": false
              },
              "fromcurrent": true,
              "mode": "immediate",
              "transition": {
               "duration": 0,
               "easing": "linear"
              }
             }
            ],
            "label": "20.5",
            "method": "animate"
           },
           {
            "args": [
             [
              "62.0"
             ],
             {
              "frame": {
               "duration": 0,
               "redraw": false
              },
              "fromcurrent": true,
              "mode": "immediate",
              "transition": {
               "duration": 0,
               "easing": "linear"
              }
             }
            ],
            "label": "62.0",
            "method": "animate"
           },
           {
            "args": [
             [
              "41.0"
             ],
             {
              "frame": {
               "duration": 0,
               "redraw": false
              },
              "fromcurrent": true,
              "mode": "immediate",
              "transition": {
               "duration": 0,
               "easing": "linear"
              }
             }
            ],
            "label": "41.0",
            "method": "animate"
           },
           {
            "args": [
             [
              "52.0"
             ],
             {
              "frame": {
               "duration": 0,
               "redraw": false
              },
              "fromcurrent": true,
              "mode": "immediate",
              "transition": {
               "duration": 0,
               "easing": "linear"
              }
             }
            ],
            "label": "52.0",
            "method": "animate"
           },
           {
            "args": [
             [
              "63.0"
             ],
             {
              "frame": {
               "duration": 0,
               "redraw": false
              },
              "fromcurrent": true,
              "mode": "immediate",
              "transition": {
               "duration": 0,
               "easing": "linear"
              }
             }
            ],
            "label": "63.0",
            "method": "animate"
           },
           {
            "args": [
             [
              "23.5"
             ],
             {
              "frame": {
               "duration": 0,
               "redraw": false
              },
              "fromcurrent": true,
              "mode": "immediate",
              "transition": {
               "duration": 0,
               "easing": "linear"
              }
             }
            ],
            "label": "23.5",
            "method": "animate"
           },
           {
            "args": [
             [
              "0.92"
             ],
             {
              "frame": {
               "duration": 0,
               "redraw": false
              },
              "fromcurrent": true,
              "mode": "immediate",
              "transition": {
               "duration": 0,
               "easing": "linear"
              }
             }
            ],
            "label": "0.92",
            "method": "animate"
           },
           {
            "args": [
             [
              "43.0"
             ],
             {
              "frame": {
               "duration": 0,
               "redraw": false
              },
              "fromcurrent": true,
              "mode": "immediate",
              "transition": {
               "duration": 0,
               "easing": "linear"
              }
             }
            ],
            "label": "43.0",
            "method": "animate"
           },
           {
            "args": [
             [
              "60.0"
             ],
             {
              "frame": {
               "duration": 0,
               "redraw": false
              },
              "fromcurrent": true,
              "mode": "immediate",
              "transition": {
               "duration": 0,
               "easing": "linear"
              }
             }
            ],
            "label": "60.0",
            "method": "animate"
           },
           {
            "args": [
             [
              "10.0"
             ],
             {
              "frame": {
               "duration": 0,
               "redraw": false
              },
              "fromcurrent": true,
              "mode": "immediate",
              "transition": {
               "duration": 0,
               "easing": "linear"
              }
             }
            ],
            "label": "10.0",
            "method": "animate"
           },
           {
            "args": [
             [
              "64.0"
             ],
             {
              "frame": {
               "duration": 0,
               "redraw": false
              },
              "fromcurrent": true,
              "mode": "immediate",
              "transition": {
               "duration": 0,
               "easing": "linear"
              }
             }
            ],
            "label": "64.0",
            "method": "animate"
           },
           {
            "args": [
             [
              "13.0"
             ],
             {
              "frame": {
               "duration": 0,
               "redraw": false
              },
              "fromcurrent": true,
              "mode": "immediate",
              "transition": {
               "duration": 0,
               "easing": "linear"
              }
             }
            ],
            "label": "13.0",
            "method": "animate"
           },
           {
            "args": [
             [
              "48.0"
             ],
             {
              "frame": {
               "duration": 0,
               "redraw": false
              },
              "fromcurrent": true,
              "mode": "immediate",
              "transition": {
               "duration": 0,
               "easing": "linear"
              }
             }
            ],
            "label": "48.0",
            "method": "animate"
           },
           {
            "args": [
             [
              "0.75"
             ],
             {
              "frame": {
               "duration": 0,
               "redraw": false
              },
              "fromcurrent": true,
              "mode": "immediate",
              "transition": {
               "duration": 0,
               "easing": "linear"
              }
             }
            ],
            "label": "0.75",
            "method": "animate"
           },
           {
            "args": [
             [
              "53.0"
             ],
             {
              "frame": {
               "duration": 0,
               "redraw": false
              },
              "fromcurrent": true,
              "mode": "immediate",
              "transition": {
               "duration": 0,
               "easing": "linear"
              }
             }
            ],
            "label": "53.0",
            "method": "animate"
           },
           {
            "args": [
             [
              "57.0"
             ],
             {
              "frame": {
               "duration": 0,
               "redraw": false
              },
              "fromcurrent": true,
              "mode": "immediate",
              "transition": {
               "duration": 0,
               "easing": "linear"
              }
             }
            ],
            "label": "57.0",
            "method": "animate"
           },
           {
            "args": [
             [
              "80.0"
             ],
             {
              "frame": {
               "duration": 0,
               "redraw": false
              },
              "fromcurrent": true,
              "mode": "immediate",
              "transition": {
               "duration": 0,
               "easing": "linear"
              }
             }
            ],
            "label": "80.0",
            "method": "animate"
           },
           {
            "args": [
             [
              "70.0"
             ],
             {
              "frame": {
               "duration": 0,
               "redraw": false
              },
              "fromcurrent": true,
              "mode": "immediate",
              "transition": {
               "duration": 0,
               "easing": "linear"
              }
             }
            ],
            "label": "70.0",
            "method": "animate"
           },
           {
            "args": [
             [
              "24.5"
             ],
             {
              "frame": {
               "duration": 0,
               "redraw": false
              },
              "fromcurrent": true,
              "mode": "immediate",
              "transition": {
               "duration": 0,
               "easing": "linear"
              }
             }
            ],
            "label": "24.5",
            "method": "animate"
           },
           {
            "args": [
             [
              "6.0"
             ],
             {
              "frame": {
               "duration": 0,
               "redraw": false
              },
              "fromcurrent": true,
              "mode": "immediate",
              "transition": {
               "duration": 0,
               "easing": "linear"
              }
             }
            ],
            "label": "6.0",
            "method": "animate"
           },
           {
            "args": [
             [
              "0.67"
             ],
             {
              "frame": {
               "duration": 0,
               "redraw": false
              },
              "fromcurrent": true,
              "mode": "immediate",
              "transition": {
               "duration": 0,
               "easing": "linear"
              }
             }
            ],
            "label": "0.67",
            "method": "animate"
           },
           {
            "args": [
             [
              "30.5"
             ],
             {
              "frame": {
               "duration": 0,
               "redraw": false
              },
              "fromcurrent": true,
              "mode": "immediate",
              "transition": {
               "duration": 0,
               "easing": "linear"
              }
             }
            ],
            "label": "30.5",
            "method": "animate"
           },
           {
            "args": [
             [
              "0.42"
             ],
             {
              "frame": {
               "duration": 0,
               "redraw": false
              },
              "fromcurrent": true,
              "mode": "immediate",
              "transition": {
               "duration": 0,
               "easing": "linear"
              }
             }
            ],
            "label": "0.42",
            "method": "animate"
           },
           {
            "args": [
             [
              "34.5"
             ],
             {
              "frame": {
               "duration": 0,
               "redraw": false
              },
              "fromcurrent": true,
              "mode": "immediate",
              "transition": {
               "duration": 0,
               "easing": "linear"
              }
             }
            ],
            "label": "34.5",
            "method": "animate"
           },
           {
            "args": [
             [
              "74.0"
             ],
             {
              "frame": {
               "duration": 0,
               "redraw": false
              },
              "fromcurrent": true,
              "mode": "immediate",
              "transition": {
               "duration": 0,
               "easing": "linear"
              }
             }
            ],
            "label": "74.0",
            "method": "animate"
           }
          ],
          "x": 0.1,
          "xanchor": "left",
          "y": 0,
          "yanchor": "top"
         }
        ],
        "template": {
         "data": {
          "bar": [
           {
            "error_x": {
             "color": "#2a3f5f"
            },
            "error_y": {
             "color": "#2a3f5f"
            },
            "marker": {
             "line": {
              "color": "#E5ECF6",
              "width": 0.5
             },
             "pattern": {
              "fillmode": "overlay",
              "size": 10,
              "solidity": 0.2
             }
            },
            "type": "bar"
           }
          ],
          "barpolar": [
           {
            "marker": {
             "line": {
              "color": "#E5ECF6",
              "width": 0.5
             },
             "pattern": {
              "fillmode": "overlay",
              "size": 10,
              "solidity": 0.2
             }
            },
            "type": "barpolar"
           }
          ],
          "carpet": [
           {
            "aaxis": {
             "endlinecolor": "#2a3f5f",
             "gridcolor": "white",
             "linecolor": "white",
             "minorgridcolor": "white",
             "startlinecolor": "#2a3f5f"
            },
            "baxis": {
             "endlinecolor": "#2a3f5f",
             "gridcolor": "white",
             "linecolor": "white",
             "minorgridcolor": "white",
             "startlinecolor": "#2a3f5f"
            },
            "type": "carpet"
           }
          ],
          "choropleth": [
           {
            "colorbar": {
             "outlinewidth": 0,
             "ticks": ""
            },
            "type": "choropleth"
           }
          ],
          "contour": [
           {
            "colorbar": {
             "outlinewidth": 0,
             "ticks": ""
            },
            "colorscale": [
             [
              0,
              "#0d0887"
             ],
             [
              0.1111111111111111,
              "#46039f"
             ],
             [
              0.2222222222222222,
              "#7201a8"
             ],
             [
              0.3333333333333333,
              "#9c179e"
             ],
             [
              0.4444444444444444,
              "#bd3786"
             ],
             [
              0.5555555555555556,
              "#d8576b"
             ],
             [
              0.6666666666666666,
              "#ed7953"
             ],
             [
              0.7777777777777778,
              "#fb9f3a"
             ],
             [
              0.8888888888888888,
              "#fdca26"
             ],
             [
              1,
              "#f0f921"
             ]
            ],
            "type": "contour"
           }
          ],
          "contourcarpet": [
           {
            "colorbar": {
             "outlinewidth": 0,
             "ticks": ""
            },
            "type": "contourcarpet"
           }
          ],
          "heatmap": [
           {
            "colorbar": {
             "outlinewidth": 0,
             "ticks": ""
            },
            "colorscale": [
             [
              0,
              "#0d0887"
             ],
             [
              0.1111111111111111,
              "#46039f"
             ],
             [
              0.2222222222222222,
              "#7201a8"
             ],
             [
              0.3333333333333333,
              "#9c179e"
             ],
             [
              0.4444444444444444,
              "#bd3786"
             ],
             [
              0.5555555555555556,
              "#d8576b"
             ],
             [
              0.6666666666666666,
              "#ed7953"
             ],
             [
              0.7777777777777778,
              "#fb9f3a"
             ],
             [
              0.8888888888888888,
              "#fdca26"
             ],
             [
              1,
              "#f0f921"
             ]
            ],
            "type": "heatmap"
           }
          ],
          "heatmapgl": [
           {
            "colorbar": {
             "outlinewidth": 0,
             "ticks": ""
            },
            "colorscale": [
             [
              0,
              "#0d0887"
             ],
             [
              0.1111111111111111,
              "#46039f"
             ],
             [
              0.2222222222222222,
              "#7201a8"
             ],
             [
              0.3333333333333333,
              "#9c179e"
             ],
             [
              0.4444444444444444,
              "#bd3786"
             ],
             [
              0.5555555555555556,
              "#d8576b"
             ],
             [
              0.6666666666666666,
              "#ed7953"
             ],
             [
              0.7777777777777778,
              "#fb9f3a"
             ],
             [
              0.8888888888888888,
              "#fdca26"
             ],
             [
              1,
              "#f0f921"
             ]
            ],
            "type": "heatmapgl"
           }
          ],
          "histogram": [
           {
            "marker": {
             "pattern": {
              "fillmode": "overlay",
              "size": 10,
              "solidity": 0.2
             }
            },
            "type": "histogram"
           }
          ],
          "histogram2d": [
           {
            "colorbar": {
             "outlinewidth": 0,
             "ticks": ""
            },
            "colorscale": [
             [
              0,
              "#0d0887"
             ],
             [
              0.1111111111111111,
              "#46039f"
             ],
             [
              0.2222222222222222,
              "#7201a8"
             ],
             [
              0.3333333333333333,
              "#9c179e"
             ],
             [
              0.4444444444444444,
              "#bd3786"
             ],
             [
              0.5555555555555556,
              "#d8576b"
             ],
             [
              0.6666666666666666,
              "#ed7953"
             ],
             [
              0.7777777777777778,
              "#fb9f3a"
             ],
             [
              0.8888888888888888,
              "#fdca26"
             ],
             [
              1,
              "#f0f921"
             ]
            ],
            "type": "histogram2d"
           }
          ],
          "histogram2dcontour": [
           {
            "colorbar": {
             "outlinewidth": 0,
             "ticks": ""
            },
            "colorscale": [
             [
              0,
              "#0d0887"
             ],
             [
              0.1111111111111111,
              "#46039f"
             ],
             [
              0.2222222222222222,
              "#7201a8"
             ],
             [
              0.3333333333333333,
              "#9c179e"
             ],
             [
              0.4444444444444444,
              "#bd3786"
             ],
             [
              0.5555555555555556,
              "#d8576b"
             ],
             [
              0.6666666666666666,
              "#ed7953"
             ],
             [
              0.7777777777777778,
              "#fb9f3a"
             ],
             [
              0.8888888888888888,
              "#fdca26"
             ],
             [
              1,
              "#f0f921"
             ]
            ],
            "type": "histogram2dcontour"
           }
          ],
          "mesh3d": [
           {
            "colorbar": {
             "outlinewidth": 0,
             "ticks": ""
            },
            "type": "mesh3d"
           }
          ],
          "parcoords": [
           {
            "line": {
             "colorbar": {
              "outlinewidth": 0,
              "ticks": ""
             }
            },
            "type": "parcoords"
           }
          ],
          "pie": [
           {
            "automargin": true,
            "type": "pie"
           }
          ],
          "scatter": [
           {
            "fillpattern": {
             "fillmode": "overlay",
             "size": 10,
             "solidity": 0.2
            },
            "type": "scatter"
           }
          ],
          "scatter3d": [
           {
            "line": {
             "colorbar": {
              "outlinewidth": 0,
              "ticks": ""
             }
            },
            "marker": {
             "colorbar": {
              "outlinewidth": 0,
              "ticks": ""
             }
            },
            "type": "scatter3d"
           }
          ],
          "scattercarpet": [
           {
            "marker": {
             "colorbar": {
              "outlinewidth": 0,
              "ticks": ""
             }
            },
            "type": "scattercarpet"
           }
          ],
          "scattergeo": [
           {
            "marker": {
             "colorbar": {
              "outlinewidth": 0,
              "ticks": ""
             }
            },
            "type": "scattergeo"
           }
          ],
          "scattergl": [
           {
            "marker": {
             "colorbar": {
              "outlinewidth": 0,
              "ticks": ""
             }
            },
            "type": "scattergl"
           }
          ],
          "scattermapbox": [
           {
            "marker": {
             "colorbar": {
              "outlinewidth": 0,
              "ticks": ""
             }
            },
            "type": "scattermapbox"
           }
          ],
          "scatterpolar": [
           {
            "marker": {
             "colorbar": {
              "outlinewidth": 0,
              "ticks": ""
             }
            },
            "type": "scatterpolar"
           }
          ],
          "scatterpolargl": [
           {
            "marker": {
             "colorbar": {
              "outlinewidth": 0,
              "ticks": ""
             }
            },
            "type": "scatterpolargl"
           }
          ],
          "scatterternary": [
           {
            "marker": {
             "colorbar": {
              "outlinewidth": 0,
              "ticks": ""
             }
            },
            "type": "scatterternary"
           }
          ],
          "surface": [
           {
            "colorbar": {
             "outlinewidth": 0,
             "ticks": ""
            },
            "colorscale": [
             [
              0,
              "#0d0887"
             ],
             [
              0.1111111111111111,
              "#46039f"
             ],
             [
              0.2222222222222222,
              "#7201a8"
             ],
             [
              0.3333333333333333,
              "#9c179e"
             ],
             [
              0.4444444444444444,
              "#bd3786"
             ],
             [
              0.5555555555555556,
              "#d8576b"
             ],
             [
              0.6666666666666666,
              "#ed7953"
             ],
             [
              0.7777777777777778,
              "#fb9f3a"
             ],
             [
              0.8888888888888888,
              "#fdca26"
             ],
             [
              1,
              "#f0f921"
             ]
            ],
            "type": "surface"
           }
          ],
          "table": [
           {
            "cells": {
             "fill": {
              "color": "#EBF0F8"
             },
             "line": {
              "color": "white"
             }
            },
            "header": {
             "fill": {
              "color": "#C8D4E3"
             },
             "line": {
              "color": "white"
             }
            },
            "type": "table"
           }
          ]
         },
         "layout": {
          "annotationdefaults": {
           "arrowcolor": "#2a3f5f",
           "arrowhead": 0,
           "arrowwidth": 1
          },
          "autotypenumbers": "strict",
          "coloraxis": {
           "colorbar": {
            "outlinewidth": 0,
            "ticks": ""
           }
          },
          "colorscale": {
           "diverging": [
            [
             0,
             "#8e0152"
            ],
            [
             0.1,
             "#c51b7d"
            ],
            [
             0.2,
             "#de77ae"
            ],
            [
             0.3,
             "#f1b6da"
            ],
            [
             0.4,
             "#fde0ef"
            ],
            [
             0.5,
             "#f7f7f7"
            ],
            [
             0.6,
             "#e6f5d0"
            ],
            [
             0.7,
             "#b8e186"
            ],
            [
             0.8,
             "#7fbc41"
            ],
            [
             0.9,
             "#4d9221"
            ],
            [
             1,
             "#276419"
            ]
           ],
           "sequential": [
            [
             0,
             "#0d0887"
            ],
            [
             0.1111111111111111,
             "#46039f"
            ],
            [
             0.2222222222222222,
             "#7201a8"
            ],
            [
             0.3333333333333333,
             "#9c179e"
            ],
            [
             0.4444444444444444,
             "#bd3786"
            ],
            [
             0.5555555555555556,
             "#d8576b"
            ],
            [
             0.6666666666666666,
             "#ed7953"
            ],
            [
             0.7777777777777778,
             "#fb9f3a"
            ],
            [
             0.8888888888888888,
             "#fdca26"
            ],
            [
             1,
             "#f0f921"
            ]
           ],
           "sequentialminus": [
            [
             0,
             "#0d0887"
            ],
            [
             0.1111111111111111,
             "#46039f"
            ],
            [
             0.2222222222222222,
             "#7201a8"
            ],
            [
             0.3333333333333333,
             "#9c179e"
            ],
            [
             0.4444444444444444,
             "#bd3786"
            ],
            [
             0.5555555555555556,
             "#d8576b"
            ],
            [
             0.6666666666666666,
             "#ed7953"
            ],
            [
             0.7777777777777778,
             "#fb9f3a"
            ],
            [
             0.8888888888888888,
             "#fdca26"
            ],
            [
             1,
             "#f0f921"
            ]
           ]
          },
          "colorway": [
           "#636efa",
           "#EF553B",
           "#00cc96",
           "#ab63fa",
           "#FFA15A",
           "#19d3f3",
           "#FF6692",
           "#B6E880",
           "#FF97FF",
           "#FECB52"
          ],
          "font": {
           "color": "#2a3f5f"
          },
          "geo": {
           "bgcolor": "white",
           "lakecolor": "white",
           "landcolor": "#E5ECF6",
           "showlakes": true,
           "showland": true,
           "subunitcolor": "white"
          },
          "hoverlabel": {
           "align": "left"
          },
          "hovermode": "closest",
          "mapbox": {
           "style": "light"
          },
          "paper_bgcolor": "white",
          "plot_bgcolor": "#E5ECF6",
          "polar": {
           "angularaxis": {
            "gridcolor": "white",
            "linecolor": "white",
            "ticks": ""
           },
           "bgcolor": "#E5ECF6",
           "radialaxis": {
            "gridcolor": "white",
            "linecolor": "white",
            "ticks": ""
           }
          },
          "scene": {
           "xaxis": {
            "backgroundcolor": "#E5ECF6",
            "gridcolor": "white",
            "gridwidth": 2,
            "linecolor": "white",
            "showbackground": true,
            "ticks": "",
            "zerolinecolor": "white"
           },
           "yaxis": {
            "backgroundcolor": "#E5ECF6",
            "gridcolor": "white",
            "gridwidth": 2,
            "linecolor": "white",
            "showbackground": true,
            "ticks": "",
            "zerolinecolor": "white"
           },
           "zaxis": {
            "backgroundcolor": "#E5ECF6",
            "gridcolor": "white",
            "gridwidth": 2,
            "linecolor": "white",
            "showbackground": true,
            "ticks": "",
            "zerolinecolor": "white"
           }
          },
          "shapedefaults": {
           "line": {
            "color": "#2a3f5f"
           }
          },
          "ternary": {
           "aaxis": {
            "gridcolor": "white",
            "linecolor": "white",
            "ticks": ""
           },
           "baxis": {
            "gridcolor": "white",
            "linecolor": "white",
            "ticks": ""
           },
           "bgcolor": "#E5ECF6",
           "caxis": {
            "gridcolor": "white",
            "linecolor": "white",
            "ticks": ""
           }
          },
          "title": {
           "x": 0.05
          },
          "xaxis": {
           "automargin": true,
           "gridcolor": "white",
           "linecolor": "white",
           "ticks": "",
           "title": {
            "standoff": 15
           },
           "zerolinecolor": "white",
           "zerolinewidth": 2
          },
          "yaxis": {
           "automargin": true,
           "gridcolor": "white",
           "linecolor": "white",
           "ticks": "",
           "title": {
            "standoff": 15
           },
           "zerolinecolor": "white",
           "zerolinewidth": 2
          }
         }
        },
        "updatemenus": [
         {
          "buttons": [
           {
            "args": [
             null,
             {
              "frame": {
               "duration": 500,
               "redraw": false
              },
              "fromcurrent": true,
              "mode": "immediate",
              "transition": {
               "duration": 500,
               "easing": "linear"
              }
             }
            ],
            "label": "&#9654;",
            "method": "animate"
           },
           {
            "args": [
             [
              null
             ],
             {
              "frame": {
               "duration": 0,
               "redraw": false
              },
              "fromcurrent": true,
              "mode": "immediate",
              "transition": {
               "duration": 0,
               "easing": "linear"
              }
             }
            ],
            "label": "&#9724;",
            "method": "animate"
           }
          ],
          "direction": "left",
          "pad": {
           "r": 10,
           "t": 70
          },
          "showactive": false,
          "type": "buttons",
          "x": 0.1,
          "xanchor": "right",
          "y": 0,
          "yanchor": "top"
         }
        ],
        "xaxis": {
         "anchor": "y",
         "domain": [
          0,
          1
         ],
         "title": {
          "text": "survived"
         }
        },
        "yaxis": {
         "anchor": "x",
         "domain": [
          0,
          1
         ],
         "title": {
          "text": "fare"
         }
        }
       }
      },
      "text/html": [
       "<div>                            <div id=\"7ec687a9-73f4-4a23-a897-0498eac7899b\" class=\"plotly-graph-div\" style=\"height:525px; width:100%;\"></div>            <script type=\"text/javascript\">                require([\"plotly\"], function(Plotly) {                    window.PLOTLYENV=window.PLOTLYENV || {};                                    if (document.getElementById(\"7ec687a9-73f4-4a23-a897-0498eac7899b\")) {                    Plotly.newPlot(                        \"7ec687a9-73f4-4a23-a897-0498eac7899b\",                        [{\"hovertemplate\":\"age=22.0\\u003cbr\\u003esurvived=%{x}\\u003cbr\\u003efare=%{y}\\u003cextra\\u003e\\u003c\\u002fextra\\u003e\",\"ids\":[0,0,0,0,1,1,0,0,0,0,1,0,1,1,0,1,0,0,0,0,1,1,1,0,1,1,0],\"legendgroup\":\"\",\"marker\":{\"color\":\"#636efa\",\"symbol\":\"circle\"},\"mode\":\"markers\",\"name\":\"\",\"orientation\":\"v\",\"showlegend\":false,\"x\":[0,0,0,0,1,1,0,0,0,0,1,0,1,1,0,1,0,0,0,0,1,1,1,0,1,1,0],\"xaxis\":\"x\",\"y\":[7.25,7.2292,9.0,8.05,7.75,66.6,7.25,9.35,7.125,7.8958,7.75,7.25,29.0,55.0,135.6333,7.25,7.7958,9.8375,7.5208,7.8958,49.5,7.225,7.775,8.05,41.5792,151.55,10.5167],\"yaxis\":\"y\",\"type\":\"scatter\"}],                        {\"template\":{\"data\":{\"histogram2dcontour\":[{\"type\":\"histogram2dcontour\",\"colorbar\":{\"outlinewidth\":0,\"ticks\":\"\"},\"colorscale\":[[0.0,\"#0d0887\"],[0.1111111111111111,\"#46039f\"],[0.2222222222222222,\"#7201a8\"],[0.3333333333333333,\"#9c179e\"],[0.4444444444444444,\"#bd3786\"],[0.5555555555555556,\"#d8576b\"],[0.6666666666666666,\"#ed7953\"],[0.7777777777777778,\"#fb9f3a\"],[0.8888888888888888,\"#fdca26\"],[1.0,\"#f0f921\"]]}],\"choropleth\":[{\"type\":\"choropleth\",\"colorbar\":{\"outlinewidth\":0,\"ticks\":\"\"}}],\"histogram2d\":[{\"type\":\"histogram2d\",\"colorbar\":{\"outlinewidth\":0,\"ticks\":\"\"},\"colorscale\":[[0.0,\"#0d0887\"],[0.1111111111111111,\"#46039f\"],[0.2222222222222222,\"#7201a8\"],[0.3333333333333333,\"#9c179e\"],[0.4444444444444444,\"#bd3786\"],[0.5555555555555556,\"#d8576b\"],[0.6666666666666666,\"#ed7953\"],[0.7777777777777778,\"#fb9f3a\"],[0.8888888888888888,\"#fdca26\"],[1.0,\"#f0f921\"]]}],\"heatmap\":[{\"type\":\"heatmap\",\"colorbar\":{\"outlinewidth\":0,\"ticks\":\"\"},\"colorscale\":[[0.0,\"#0d0887\"],[0.1111111111111111,\"#46039f\"],[0.2222222222222222,\"#7201a8\"],[0.3333333333333333,\"#9c179e\"],[0.4444444444444444,\"#bd3786\"],[0.5555555555555556,\"#d8576b\"],[0.6666666666666666,\"#ed7953\"],[0.7777777777777778,\"#fb9f3a\"],[0.8888888888888888,\"#fdca26\"],[1.0,\"#f0f921\"]]}],\"heatmapgl\":[{\"type\":\"heatmapgl\",\"colorbar\":{\"outlinewidth\":0,\"ticks\":\"\"},\"colorscale\":[[0.0,\"#0d0887\"],[0.1111111111111111,\"#46039f\"],[0.2222222222222222,\"#7201a8\"],[0.3333333333333333,\"#9c179e\"],[0.4444444444444444,\"#bd3786\"],[0.5555555555555556,\"#d8576b\"],[0.6666666666666666,\"#ed7953\"],[0.7777777777777778,\"#fb9f3a\"],[0.8888888888888888,\"#fdca26\"],[1.0,\"#f0f921\"]]}],\"contourcarpet\":[{\"type\":\"contourcarpet\",\"colorbar\":{\"outlinewidth\":0,\"ticks\":\"\"}}],\"contour\":[{\"type\":\"contour\",\"colorbar\":{\"outlinewidth\":0,\"ticks\":\"\"},\"colorscale\":[[0.0,\"#0d0887\"],[0.1111111111111111,\"#46039f\"],[0.2222222222222222,\"#7201a8\"],[0.3333333333333333,\"#9c179e\"],[0.4444444444444444,\"#bd3786\"],[0.5555555555555556,\"#d8576b\"],[0.6666666666666666,\"#ed7953\"],[0.7777777777777778,\"#fb9f3a\"],[0.8888888888888888,\"#fdca26\"],[1.0,\"#f0f921\"]]}],\"surface\":[{\"type\":\"surface\",\"colorbar\":{\"outlinewidth\":0,\"ticks\":\"\"},\"colorscale\":[[0.0,\"#0d0887\"],[0.1111111111111111,\"#46039f\"],[0.2222222222222222,\"#7201a8\"],[0.3333333333333333,\"#9c179e\"],[0.4444444444444444,\"#bd3786\"],[0.5555555555555556,\"#d8576b\"],[0.6666666666666666,\"#ed7953\"],[0.7777777777777778,\"#fb9f3a\"],[0.8888888888888888,\"#fdca26\"],[1.0,\"#f0f921\"]]}],\"mesh3d\":[{\"type\":\"mesh3d\",\"colorbar\":{\"outlinewidth\":0,\"ticks\":\"\"}}],\"scatter\":[{\"fillpattern\":{\"fillmode\":\"overlay\",\"size\":10,\"solidity\":0.2},\"type\":\"scatter\"}],\"parcoords\":[{\"type\":\"parcoords\",\"line\":{\"colorbar\":{\"outlinewidth\":0,\"ticks\":\"\"}}}],\"scatterpolargl\":[{\"type\":\"scatterpolargl\",\"marker\":{\"colorbar\":{\"outlinewidth\":0,\"ticks\":\"\"}}}],\"bar\":[{\"error_x\":{\"color\":\"#2a3f5f\"},\"error_y\":{\"color\":\"#2a3f5f\"},\"marker\":{\"line\":{\"color\":\"#E5ECF6\",\"width\":0.5},\"pattern\":{\"fillmode\":\"overlay\",\"size\":10,\"solidity\":0.2}},\"type\":\"bar\"}],\"scattergeo\":[{\"type\":\"scattergeo\",\"marker\":{\"colorbar\":{\"outlinewidth\":0,\"ticks\":\"\"}}}],\"scatterpolar\":[{\"type\":\"scatterpolar\",\"marker\":{\"colorbar\":{\"outlinewidth\":0,\"ticks\":\"\"}}}],\"histogram\":[{\"marker\":{\"pattern\":{\"fillmode\":\"overlay\",\"size\":10,\"solidity\":0.2}},\"type\":\"histogram\"}],\"scattergl\":[{\"type\":\"scattergl\",\"marker\":{\"colorbar\":{\"outlinewidth\":0,\"ticks\":\"\"}}}],\"scatter3d\":[{\"type\":\"scatter3d\",\"line\":{\"colorbar\":{\"outlinewidth\":0,\"ticks\":\"\"}},\"marker\":{\"colorbar\":{\"outlinewidth\":0,\"ticks\":\"\"}}}],\"scattermapbox\":[{\"type\":\"scattermapbox\",\"marker\":{\"colorbar\":{\"outlinewidth\":0,\"ticks\":\"\"}}}],\"scatterternary\":[{\"type\":\"scatterternary\",\"marker\":{\"colorbar\":{\"outlinewidth\":0,\"ticks\":\"\"}}}],\"scattercarpet\":[{\"type\":\"scattercarpet\",\"marker\":{\"colorbar\":{\"outlinewidth\":0,\"ticks\":\"\"}}}],\"carpet\":[{\"aaxis\":{\"endlinecolor\":\"#2a3f5f\",\"gridcolor\":\"white\",\"linecolor\":\"white\",\"minorgridcolor\":\"white\",\"startlinecolor\":\"#2a3f5f\"},\"baxis\":{\"endlinecolor\":\"#2a3f5f\",\"gridcolor\":\"white\",\"linecolor\":\"white\",\"minorgridcolor\":\"white\",\"startlinecolor\":\"#2a3f5f\"},\"type\":\"carpet\"}],\"table\":[{\"cells\":{\"fill\":{\"color\":\"#EBF0F8\"},\"line\":{\"color\":\"white\"}},\"header\":{\"fill\":{\"color\":\"#C8D4E3\"},\"line\":{\"color\":\"white\"}},\"type\":\"table\"}],\"barpolar\":[{\"marker\":{\"line\":{\"color\":\"#E5ECF6\",\"width\":0.5},\"pattern\":{\"fillmode\":\"overlay\",\"size\":10,\"solidity\":0.2}},\"type\":\"barpolar\"}],\"pie\":[{\"automargin\":true,\"type\":\"pie\"}]},\"layout\":{\"autotypenumbers\":\"strict\",\"colorway\":[\"#636efa\",\"#EF553B\",\"#00cc96\",\"#ab63fa\",\"#FFA15A\",\"#19d3f3\",\"#FF6692\",\"#B6E880\",\"#FF97FF\",\"#FECB52\"],\"font\":{\"color\":\"#2a3f5f\"},\"hovermode\":\"closest\",\"hoverlabel\":{\"align\":\"left\"},\"paper_bgcolor\":\"white\",\"plot_bgcolor\":\"#E5ECF6\",\"polar\":{\"bgcolor\":\"#E5ECF6\",\"angularaxis\":{\"gridcolor\":\"white\",\"linecolor\":\"white\",\"ticks\":\"\"},\"radialaxis\":{\"gridcolor\":\"white\",\"linecolor\":\"white\",\"ticks\":\"\"}},\"ternary\":{\"bgcolor\":\"#E5ECF6\",\"aaxis\":{\"gridcolor\":\"white\",\"linecolor\":\"white\",\"ticks\":\"\"},\"baxis\":{\"gridcolor\":\"white\",\"linecolor\":\"white\",\"ticks\":\"\"},\"caxis\":{\"gridcolor\":\"white\",\"linecolor\":\"white\",\"ticks\":\"\"}},\"coloraxis\":{\"colorbar\":{\"outlinewidth\":0,\"ticks\":\"\"}},\"colorscale\":{\"sequential\":[[0.0,\"#0d0887\"],[0.1111111111111111,\"#46039f\"],[0.2222222222222222,\"#7201a8\"],[0.3333333333333333,\"#9c179e\"],[0.4444444444444444,\"#bd3786\"],[0.5555555555555556,\"#d8576b\"],[0.6666666666666666,\"#ed7953\"],[0.7777777777777778,\"#fb9f3a\"],[0.8888888888888888,\"#fdca26\"],[1.0,\"#f0f921\"]],\"sequentialminus\":[[0.0,\"#0d0887\"],[0.1111111111111111,\"#46039f\"],[0.2222222222222222,\"#7201a8\"],[0.3333333333333333,\"#9c179e\"],[0.4444444444444444,\"#bd3786\"],[0.5555555555555556,\"#d8576b\"],[0.6666666666666666,\"#ed7953\"],[0.7777777777777778,\"#fb9f3a\"],[0.8888888888888888,\"#fdca26\"],[1.0,\"#f0f921\"]],\"diverging\":[[0,\"#8e0152\"],[0.1,\"#c51b7d\"],[0.2,\"#de77ae\"],[0.3,\"#f1b6da\"],[0.4,\"#fde0ef\"],[0.5,\"#f7f7f7\"],[0.6,\"#e6f5d0\"],[0.7,\"#b8e186\"],[0.8,\"#7fbc41\"],[0.9,\"#4d9221\"],[1,\"#276419\"]]},\"xaxis\":{\"gridcolor\":\"white\",\"linecolor\":\"white\",\"ticks\":\"\",\"title\":{\"standoff\":15},\"zerolinecolor\":\"white\",\"automargin\":true,\"zerolinewidth\":2},\"yaxis\":{\"gridcolor\":\"white\",\"linecolor\":\"white\",\"ticks\":\"\",\"title\":{\"standoff\":15},\"zerolinecolor\":\"white\",\"automargin\":true,\"zerolinewidth\":2},\"scene\":{\"xaxis\":{\"backgroundcolor\":\"#E5ECF6\",\"gridcolor\":\"white\",\"linecolor\":\"white\",\"showbackground\":true,\"ticks\":\"\",\"zerolinecolor\":\"white\",\"gridwidth\":2},\"yaxis\":{\"backgroundcolor\":\"#E5ECF6\",\"gridcolor\":\"white\",\"linecolor\":\"white\",\"showbackground\":true,\"ticks\":\"\",\"zerolinecolor\":\"white\",\"gridwidth\":2},\"zaxis\":{\"backgroundcolor\":\"#E5ECF6\",\"gridcolor\":\"white\",\"linecolor\":\"white\",\"showbackground\":true,\"ticks\":\"\",\"zerolinecolor\":\"white\",\"gridwidth\":2}},\"shapedefaults\":{\"line\":{\"color\":\"#2a3f5f\"}},\"annotationdefaults\":{\"arrowcolor\":\"#2a3f5f\",\"arrowhead\":0,\"arrowwidth\":1},\"geo\":{\"bgcolor\":\"white\",\"landcolor\":\"#E5ECF6\",\"subunitcolor\":\"white\",\"showland\":true,\"showlakes\":true,\"lakecolor\":\"white\"},\"title\":{\"x\":0.05},\"mapbox\":{\"style\":\"light\"}}},\"xaxis\":{\"anchor\":\"y\",\"domain\":[0.0,1.0],\"title\":{\"text\":\"survived\"}},\"yaxis\":{\"anchor\":\"x\",\"domain\":[0.0,1.0],\"title\":{\"text\":\"fare\"}},\"legend\":{\"tracegroupgap\":0},\"margin\":{\"t\":60},\"updatemenus\":[{\"buttons\":[{\"args\":[null,{\"frame\":{\"duration\":500,\"redraw\":false},\"mode\":\"immediate\",\"fromcurrent\":true,\"transition\":{\"duration\":500,\"easing\":\"linear\"}}],\"label\":\"&#9654;\",\"method\":\"animate\"},{\"args\":[[null],{\"frame\":{\"duration\":0,\"redraw\":false},\"mode\":\"immediate\",\"fromcurrent\":true,\"transition\":{\"duration\":0,\"easing\":\"linear\"}}],\"label\":\"&#9724;\",\"method\":\"animate\"}],\"direction\":\"left\",\"pad\":{\"r\":10,\"t\":70},\"showactive\":false,\"type\":\"buttons\",\"x\":0.1,\"xanchor\":\"right\",\"y\":0,\"yanchor\":\"top\"}],\"sliders\":[{\"active\":0,\"currentvalue\":{\"prefix\":\"age=\"},\"len\":0.9,\"pad\":{\"b\":10,\"t\":60},\"steps\":[{\"args\":[[\"22.0\"],{\"frame\":{\"duration\":0,\"redraw\":false},\"mode\":\"immediate\",\"fromcurrent\":true,\"transition\":{\"duration\":0,\"easing\":\"linear\"}}],\"label\":\"22.0\",\"method\":\"animate\"},{\"args\":[[\"38.0\"],{\"frame\":{\"duration\":0,\"redraw\":false},\"mode\":\"immediate\",\"fromcurrent\":true,\"transition\":{\"duration\":0,\"easing\":\"linear\"}}],\"label\":\"38.0\",\"method\":\"animate\"},{\"args\":[[\"26.0\"],{\"frame\":{\"duration\":0,\"redraw\":false},\"mode\":\"immediate\",\"fromcurrent\":true,\"transition\":{\"duration\":0,\"easing\":\"linear\"}}],\"label\":\"26.0\",\"method\":\"animate\"},{\"args\":[[\"35.0\"],{\"frame\":{\"duration\":0,\"redraw\":false},\"mode\":\"immediate\",\"fromcurrent\":true,\"transition\":{\"duration\":0,\"easing\":\"linear\"}}],\"label\":\"35.0\",\"method\":\"animate\"},{\"args\":[[\"54.0\"],{\"frame\":{\"duration\":0,\"redraw\":false},\"mode\":\"immediate\",\"fromcurrent\":true,\"transition\":{\"duration\":0,\"easing\":\"linear\"}}],\"label\":\"54.0\",\"method\":\"animate\"},{\"args\":[[\"2.0\"],{\"frame\":{\"duration\":0,\"redraw\":false},\"mode\":\"immediate\",\"fromcurrent\":true,\"transition\":{\"duration\":0,\"easing\":\"linear\"}}],\"label\":\"2.0\",\"method\":\"animate\"},{\"args\":[[\"27.0\"],{\"frame\":{\"duration\":0,\"redraw\":false},\"mode\":\"immediate\",\"fromcurrent\":true,\"transition\":{\"duration\":0,\"easing\":\"linear\"}}],\"label\":\"27.0\",\"method\":\"animate\"},{\"args\":[[\"14.0\"],{\"frame\":{\"duration\":0,\"redraw\":false},\"mode\":\"immediate\",\"fromcurrent\":true,\"transition\":{\"duration\":0,\"easing\":\"linear\"}}],\"label\":\"14.0\",\"method\":\"animate\"},{\"args\":[[\"4.0\"],{\"frame\":{\"duration\":0,\"redraw\":false},\"mode\":\"immediate\",\"fromcurrent\":true,\"transition\":{\"duration\":0,\"easing\":\"linear\"}}],\"label\":\"4.0\",\"method\":\"animate\"},{\"args\":[[\"58.0\"],{\"frame\":{\"duration\":0,\"redraw\":false},\"mode\":\"immediate\",\"fromcurrent\":true,\"transition\":{\"duration\":0,\"easing\":\"linear\"}}],\"label\":\"58.0\",\"method\":\"animate\"},{\"args\":[[\"20.0\"],{\"frame\":{\"duration\":0,\"redraw\":false},\"mode\":\"immediate\",\"fromcurrent\":true,\"transition\":{\"duration\":0,\"easing\":\"linear\"}}],\"label\":\"20.0\",\"method\":\"animate\"},{\"args\":[[\"39.0\"],{\"frame\":{\"duration\":0,\"redraw\":false},\"mode\":\"immediate\",\"fromcurrent\":true,\"transition\":{\"duration\":0,\"easing\":\"linear\"}}],\"label\":\"39.0\",\"method\":\"animate\"},{\"args\":[[\"55.0\"],{\"frame\":{\"duration\":0,\"redraw\":false},\"mode\":\"immediate\",\"fromcurrent\":true,\"transition\":{\"duration\":0,\"easing\":\"linear\"}}],\"label\":\"55.0\",\"method\":\"animate\"},{\"args\":[[\"31.0\"],{\"frame\":{\"duration\":0,\"redraw\":false},\"mode\":\"immediate\",\"fromcurrent\":true,\"transition\":{\"duration\":0,\"easing\":\"linear\"}}],\"label\":\"31.0\",\"method\":\"animate\"},{\"args\":[[\"34.0\"],{\"frame\":{\"duration\":0,\"redraw\":false},\"mode\":\"immediate\",\"fromcurrent\":true,\"transition\":{\"duration\":0,\"easing\":\"linear\"}}],\"label\":\"34.0\",\"method\":\"animate\"},{\"args\":[[\"15.0\"],{\"frame\":{\"duration\":0,\"redraw\":false},\"mode\":\"immediate\",\"fromcurrent\":true,\"transition\":{\"duration\":0,\"easing\":\"linear\"}}],\"label\":\"15.0\",\"method\":\"animate\"},{\"args\":[[\"28.0\"],{\"frame\":{\"duration\":0,\"redraw\":false},\"mode\":\"immediate\",\"fromcurrent\":true,\"transition\":{\"duration\":0,\"easing\":\"linear\"}}],\"label\":\"28.0\",\"method\":\"animate\"},{\"args\":[[\"8.0\"],{\"frame\":{\"duration\":0,\"redraw\":false},\"mode\":\"immediate\",\"fromcurrent\":true,\"transition\":{\"duration\":0,\"easing\":\"linear\"}}],\"label\":\"8.0\",\"method\":\"animate\"},{\"args\":[[\"19.0\"],{\"frame\":{\"duration\":0,\"redraw\":false},\"mode\":\"immediate\",\"fromcurrent\":true,\"transition\":{\"duration\":0,\"easing\":\"linear\"}}],\"label\":\"19.0\",\"method\":\"animate\"},{\"args\":[[\"40.0\"],{\"frame\":{\"duration\":0,\"redraw\":false},\"mode\":\"immediate\",\"fromcurrent\":true,\"transition\":{\"duration\":0,\"easing\":\"linear\"}}],\"label\":\"40.0\",\"method\":\"animate\"},{\"args\":[[\"66.0\"],{\"frame\":{\"duration\":0,\"redraw\":false},\"mode\":\"immediate\",\"fromcurrent\":true,\"transition\":{\"duration\":0,\"easing\":\"linear\"}}],\"label\":\"66.0\",\"method\":\"animate\"},{\"args\":[[\"42.0\"],{\"frame\":{\"duration\":0,\"redraw\":false},\"mode\":\"immediate\",\"fromcurrent\":true,\"transition\":{\"duration\":0,\"easing\":\"linear\"}}],\"label\":\"42.0\",\"method\":\"animate\"},{\"args\":[[\"21.0\"],{\"frame\":{\"duration\":0,\"redraw\":false},\"mode\":\"immediate\",\"fromcurrent\":true,\"transition\":{\"duration\":0,\"easing\":\"linear\"}}],\"label\":\"21.0\",\"method\":\"animate\"},{\"args\":[[\"18.0\"],{\"frame\":{\"duration\":0,\"redraw\":false},\"mode\":\"immediate\",\"fromcurrent\":true,\"transition\":{\"duration\":0,\"easing\":\"linear\"}}],\"label\":\"18.0\",\"method\":\"animate\"},{\"args\":[[\"3.0\"],{\"frame\":{\"duration\":0,\"redraw\":false},\"mode\":\"immediate\",\"fromcurrent\":true,\"transition\":{\"duration\":0,\"easing\":\"linear\"}}],\"label\":\"3.0\",\"method\":\"animate\"},{\"args\":[[\"7.0\"],{\"frame\":{\"duration\":0,\"redraw\":false},\"mode\":\"immediate\",\"fromcurrent\":true,\"transition\":{\"duration\":0,\"easing\":\"linear\"}}],\"label\":\"7.0\",\"method\":\"animate\"},{\"args\":[[\"49.0\"],{\"frame\":{\"duration\":0,\"redraw\":false},\"mode\":\"immediate\",\"fromcurrent\":true,\"transition\":{\"duration\":0,\"easing\":\"linear\"}}],\"label\":\"49.0\",\"method\":\"animate\"},{\"args\":[[\"29.0\"],{\"frame\":{\"duration\":0,\"redraw\":false},\"mode\":\"immediate\",\"fromcurrent\":true,\"transition\":{\"duration\":0,\"easing\":\"linear\"}}],\"label\":\"29.0\",\"method\":\"animate\"},{\"args\":[[\"65.0\"],{\"frame\":{\"duration\":0,\"redraw\":false},\"mode\":\"immediate\",\"fromcurrent\":true,\"transition\":{\"duration\":0,\"easing\":\"linear\"}}],\"label\":\"65.0\",\"method\":\"animate\"},{\"args\":[[\"28.5\"],{\"frame\":{\"duration\":0,\"redraw\":false},\"mode\":\"immediate\",\"fromcurrent\":true,\"transition\":{\"duration\":0,\"easing\":\"linear\"}}],\"label\":\"28.5\",\"method\":\"animate\"},{\"args\":[[\"5.0\"],{\"frame\":{\"duration\":0,\"redraw\":false},\"mode\":\"immediate\",\"fromcurrent\":true,\"transition\":{\"duration\":0,\"easing\":\"linear\"}}],\"label\":\"5.0\",\"method\":\"animate\"},{\"args\":[[\"11.0\"],{\"frame\":{\"duration\":0,\"redraw\":false},\"mode\":\"immediate\",\"fromcurrent\":true,\"transition\":{\"duration\":0,\"easing\":\"linear\"}}],\"label\":\"11.0\",\"method\":\"animate\"},{\"args\":[[\"45.0\"],{\"frame\":{\"duration\":0,\"redraw\":false},\"mode\":\"immediate\",\"fromcurrent\":true,\"transition\":{\"duration\":0,\"easing\":\"linear\"}}],\"label\":\"45.0\",\"method\":\"animate\"},{\"args\":[[\"17.0\"],{\"frame\":{\"duration\":0,\"redraw\":false},\"mode\":\"immediate\",\"fromcurrent\":true,\"transition\":{\"duration\":0,\"easing\":\"linear\"}}],\"label\":\"17.0\",\"method\":\"animate\"},{\"args\":[[\"32.0\"],{\"frame\":{\"duration\":0,\"redraw\":false},\"mode\":\"immediate\",\"fromcurrent\":true,\"transition\":{\"duration\":0,\"easing\":\"linear\"}}],\"label\":\"32.0\",\"method\":\"animate\"},{\"args\":[[\"16.0\"],{\"frame\":{\"duration\":0,\"redraw\":false},\"mode\":\"immediate\",\"fromcurrent\":true,\"transition\":{\"duration\":0,\"easing\":\"linear\"}}],\"label\":\"16.0\",\"method\":\"animate\"},{\"args\":[[\"25.0\"],{\"frame\":{\"duration\":0,\"redraw\":false},\"mode\":\"immediate\",\"fromcurrent\":true,\"transition\":{\"duration\":0,\"easing\":\"linear\"}}],\"label\":\"25.0\",\"method\":\"animate\"},{\"args\":[[\"0.83\"],{\"frame\":{\"duration\":0,\"redraw\":false},\"mode\":\"immediate\",\"fromcurrent\":true,\"transition\":{\"duration\":0,\"easing\":\"linear\"}}],\"label\":\"0.83\",\"method\":\"animate\"},{\"args\":[[\"30.0\"],{\"frame\":{\"duration\":0,\"redraw\":false},\"mode\":\"immediate\",\"fromcurrent\":true,\"transition\":{\"duration\":0,\"easing\":\"linear\"}}],\"label\":\"30.0\",\"method\":\"animate\"},{\"args\":[[\"33.0\"],{\"frame\":{\"duration\":0,\"redraw\":false},\"mode\":\"immediate\",\"fromcurrent\":true,\"transition\":{\"duration\":0,\"easing\":\"linear\"}}],\"label\":\"33.0\",\"method\":\"animate\"},{\"args\":[[\"23.0\"],{\"frame\":{\"duration\":0,\"redraw\":false},\"mode\":\"immediate\",\"fromcurrent\":true,\"transition\":{\"duration\":0,\"easing\":\"linear\"}}],\"label\":\"23.0\",\"method\":\"animate\"},{\"args\":[[\"24.0\"],{\"frame\":{\"duration\":0,\"redraw\":false},\"mode\":\"immediate\",\"fromcurrent\":true,\"transition\":{\"duration\":0,\"easing\":\"linear\"}}],\"label\":\"24.0\",\"method\":\"animate\"},{\"args\":[[\"46.0\"],{\"frame\":{\"duration\":0,\"redraw\":false},\"mode\":\"immediate\",\"fromcurrent\":true,\"transition\":{\"duration\":0,\"easing\":\"linear\"}}],\"label\":\"46.0\",\"method\":\"animate\"},{\"args\":[[\"59.0\"],{\"frame\":{\"duration\":0,\"redraw\":false},\"mode\":\"immediate\",\"fromcurrent\":true,\"transition\":{\"duration\":0,\"easing\":\"linear\"}}],\"label\":\"59.0\",\"method\":\"animate\"},{\"args\":[[\"71.0\"],{\"frame\":{\"duration\":0,\"redraw\":false},\"mode\":\"immediate\",\"fromcurrent\":true,\"transition\":{\"duration\":0,\"easing\":\"linear\"}}],\"label\":\"71.0\",\"method\":\"animate\"},{\"args\":[[\"37.0\"],{\"frame\":{\"duration\":0,\"redraw\":false},\"mode\":\"immediate\",\"fromcurrent\":true,\"transition\":{\"duration\":0,\"easing\":\"linear\"}}],\"label\":\"37.0\",\"method\":\"animate\"},{\"args\":[[\"47.0\"],{\"frame\":{\"duration\":0,\"redraw\":false},\"mode\":\"immediate\",\"fromcurrent\":true,\"transition\":{\"duration\":0,\"easing\":\"linear\"}}],\"label\":\"47.0\",\"method\":\"animate\"},{\"args\":[[\"14.5\"],{\"frame\":{\"duration\":0,\"redraw\":false},\"mode\":\"immediate\",\"fromcurrent\":true,\"transition\":{\"duration\":0,\"easing\":\"linear\"}}],\"label\":\"14.5\",\"method\":\"animate\"},{\"args\":[[\"70.5\"],{\"frame\":{\"duration\":0,\"redraw\":false},\"mode\":\"immediate\",\"fromcurrent\":true,\"transition\":{\"duration\":0,\"easing\":\"linear\"}}],\"label\":\"70.5\",\"method\":\"animate\"},{\"args\":[[\"32.5\"],{\"frame\":{\"duration\":0,\"redraw\":false},\"mode\":\"immediate\",\"fromcurrent\":true,\"transition\":{\"duration\":0,\"easing\":\"linear\"}}],\"label\":\"32.5\",\"method\":\"animate\"},{\"args\":[[\"12.0\"],{\"frame\":{\"duration\":0,\"redraw\":false},\"mode\":\"immediate\",\"fromcurrent\":true,\"transition\":{\"duration\":0,\"easing\":\"linear\"}}],\"label\":\"12.0\",\"method\":\"animate\"},{\"args\":[[\"9.0\"],{\"frame\":{\"duration\":0,\"redraw\":false},\"mode\":\"immediate\",\"fromcurrent\":true,\"transition\":{\"duration\":0,\"easing\":\"linear\"}}],\"label\":\"9.0\",\"method\":\"animate\"},{\"args\":[[\"36.5\"],{\"frame\":{\"duration\":0,\"redraw\":false},\"mode\":\"immediate\",\"fromcurrent\":true,\"transition\":{\"duration\":0,\"easing\":\"linear\"}}],\"label\":\"36.5\",\"method\":\"animate\"},{\"args\":[[\"51.0\"],{\"frame\":{\"duration\":0,\"redraw\":false},\"mode\":\"immediate\",\"fromcurrent\":true,\"transition\":{\"duration\":0,\"easing\":\"linear\"}}],\"label\":\"51.0\",\"method\":\"animate\"},{\"args\":[[\"55.5\"],{\"frame\":{\"duration\":0,\"redraw\":false},\"mode\":\"immediate\",\"fromcurrent\":true,\"transition\":{\"duration\":0,\"easing\":\"linear\"}}],\"label\":\"55.5\",\"method\":\"animate\"},{\"args\":[[\"40.5\"],{\"frame\":{\"duration\":0,\"redraw\":false},\"mode\":\"immediate\",\"fromcurrent\":true,\"transition\":{\"duration\":0,\"easing\":\"linear\"}}],\"label\":\"40.5\",\"method\":\"animate\"},{\"args\":[[\"44.0\"],{\"frame\":{\"duration\":0,\"redraw\":false},\"mode\":\"immediate\",\"fromcurrent\":true,\"transition\":{\"duration\":0,\"easing\":\"linear\"}}],\"label\":\"44.0\",\"method\":\"animate\"},{\"args\":[[\"1.0\"],{\"frame\":{\"duration\":0,\"redraw\":false},\"mode\":\"immediate\",\"fromcurrent\":true,\"transition\":{\"duration\":0,\"easing\":\"linear\"}}],\"label\":\"1.0\",\"method\":\"animate\"},{\"args\":[[\"61.0\"],{\"frame\":{\"duration\":0,\"redraw\":false},\"mode\":\"immediate\",\"fromcurrent\":true,\"transition\":{\"duration\":0,\"easing\":\"linear\"}}],\"label\":\"61.0\",\"method\":\"animate\"},{\"args\":[[\"56.0\"],{\"frame\":{\"duration\":0,\"redraw\":false},\"mode\":\"immediate\",\"fromcurrent\":true,\"transition\":{\"duration\":0,\"easing\":\"linear\"}}],\"label\":\"56.0\",\"method\":\"animate\"},{\"args\":[[\"50.0\"],{\"frame\":{\"duration\":0,\"redraw\":false},\"mode\":\"immediate\",\"fromcurrent\":true,\"transition\":{\"duration\":0,\"easing\":\"linear\"}}],\"label\":\"50.0\",\"method\":\"animate\"},{\"args\":[[\"36.0\"],{\"frame\":{\"duration\":0,\"redraw\":false},\"mode\":\"immediate\",\"fromcurrent\":true,\"transition\":{\"duration\":0,\"easing\":\"linear\"}}],\"label\":\"36.0\",\"method\":\"animate\"},{\"args\":[[\"45.5\"],{\"frame\":{\"duration\":0,\"redraw\":false},\"mode\":\"immediate\",\"fromcurrent\":true,\"transition\":{\"duration\":0,\"easing\":\"linear\"}}],\"label\":\"45.5\",\"method\":\"animate\"},{\"args\":[[\"20.5\"],{\"frame\":{\"duration\":0,\"redraw\":false},\"mode\":\"immediate\",\"fromcurrent\":true,\"transition\":{\"duration\":0,\"easing\":\"linear\"}}],\"label\":\"20.5\",\"method\":\"animate\"},{\"args\":[[\"62.0\"],{\"frame\":{\"duration\":0,\"redraw\":false},\"mode\":\"immediate\",\"fromcurrent\":true,\"transition\":{\"duration\":0,\"easing\":\"linear\"}}],\"label\":\"62.0\",\"method\":\"animate\"},{\"args\":[[\"41.0\"],{\"frame\":{\"duration\":0,\"redraw\":false},\"mode\":\"immediate\",\"fromcurrent\":true,\"transition\":{\"duration\":0,\"easing\":\"linear\"}}],\"label\":\"41.0\",\"method\":\"animate\"},{\"args\":[[\"52.0\"],{\"frame\":{\"duration\":0,\"redraw\":false},\"mode\":\"immediate\",\"fromcurrent\":true,\"transition\":{\"duration\":0,\"easing\":\"linear\"}}],\"label\":\"52.0\",\"method\":\"animate\"},{\"args\":[[\"63.0\"],{\"frame\":{\"duration\":0,\"redraw\":false},\"mode\":\"immediate\",\"fromcurrent\":true,\"transition\":{\"duration\":0,\"easing\":\"linear\"}}],\"label\":\"63.0\",\"method\":\"animate\"},{\"args\":[[\"23.5\"],{\"frame\":{\"duration\":0,\"redraw\":false},\"mode\":\"immediate\",\"fromcurrent\":true,\"transition\":{\"duration\":0,\"easing\":\"linear\"}}],\"label\":\"23.5\",\"method\":\"animate\"},{\"args\":[[\"0.92\"],{\"frame\":{\"duration\":0,\"redraw\":false},\"mode\":\"immediate\",\"fromcurrent\":true,\"transition\":{\"duration\":0,\"easing\":\"linear\"}}],\"label\":\"0.92\",\"method\":\"animate\"},{\"args\":[[\"43.0\"],{\"frame\":{\"duration\":0,\"redraw\":false},\"mode\":\"immediate\",\"fromcurrent\":true,\"transition\":{\"duration\":0,\"easing\":\"linear\"}}],\"label\":\"43.0\",\"method\":\"animate\"},{\"args\":[[\"60.0\"],{\"frame\":{\"duration\":0,\"redraw\":false},\"mode\":\"immediate\",\"fromcurrent\":true,\"transition\":{\"duration\":0,\"easing\":\"linear\"}}],\"label\":\"60.0\",\"method\":\"animate\"},{\"args\":[[\"10.0\"],{\"frame\":{\"duration\":0,\"redraw\":false},\"mode\":\"immediate\",\"fromcurrent\":true,\"transition\":{\"duration\":0,\"easing\":\"linear\"}}],\"label\":\"10.0\",\"method\":\"animate\"},{\"args\":[[\"64.0\"],{\"frame\":{\"duration\":0,\"redraw\":false},\"mode\":\"immediate\",\"fromcurrent\":true,\"transition\":{\"duration\":0,\"easing\":\"linear\"}}],\"label\":\"64.0\",\"method\":\"animate\"},{\"args\":[[\"13.0\"],{\"frame\":{\"duration\":0,\"redraw\":false},\"mode\":\"immediate\",\"fromcurrent\":true,\"transition\":{\"duration\":0,\"easing\":\"linear\"}}],\"label\":\"13.0\",\"method\":\"animate\"},{\"args\":[[\"48.0\"],{\"frame\":{\"duration\":0,\"redraw\":false},\"mode\":\"immediate\",\"fromcurrent\":true,\"transition\":{\"duration\":0,\"easing\":\"linear\"}}],\"label\":\"48.0\",\"method\":\"animate\"},{\"args\":[[\"0.75\"],{\"frame\":{\"duration\":0,\"redraw\":false},\"mode\":\"immediate\",\"fromcurrent\":true,\"transition\":{\"duration\":0,\"easing\":\"linear\"}}],\"label\":\"0.75\",\"method\":\"animate\"},{\"args\":[[\"53.0\"],{\"frame\":{\"duration\":0,\"redraw\":false},\"mode\":\"immediate\",\"fromcurrent\":true,\"transition\":{\"duration\":0,\"easing\":\"linear\"}}],\"label\":\"53.0\",\"method\":\"animate\"},{\"args\":[[\"57.0\"],{\"frame\":{\"duration\":0,\"redraw\":false},\"mode\":\"immediate\",\"fromcurrent\":true,\"transition\":{\"duration\":0,\"easing\":\"linear\"}}],\"label\":\"57.0\",\"method\":\"animate\"},{\"args\":[[\"80.0\"],{\"frame\":{\"duration\":0,\"redraw\":false},\"mode\":\"immediate\",\"fromcurrent\":true,\"transition\":{\"duration\":0,\"easing\":\"linear\"}}],\"label\":\"80.0\",\"method\":\"animate\"},{\"args\":[[\"70.0\"],{\"frame\":{\"duration\":0,\"redraw\":false},\"mode\":\"immediate\",\"fromcurrent\":true,\"transition\":{\"duration\":0,\"easing\":\"linear\"}}],\"label\":\"70.0\",\"method\":\"animate\"},{\"args\":[[\"24.5\"],{\"frame\":{\"duration\":0,\"redraw\":false},\"mode\":\"immediate\",\"fromcurrent\":true,\"transition\":{\"duration\":0,\"easing\":\"linear\"}}],\"label\":\"24.5\",\"method\":\"animate\"},{\"args\":[[\"6.0\"],{\"frame\":{\"duration\":0,\"redraw\":false},\"mode\":\"immediate\",\"fromcurrent\":true,\"transition\":{\"duration\":0,\"easing\":\"linear\"}}],\"label\":\"6.0\",\"method\":\"animate\"},{\"args\":[[\"0.67\"],{\"frame\":{\"duration\":0,\"redraw\":false},\"mode\":\"immediate\",\"fromcurrent\":true,\"transition\":{\"duration\":0,\"easing\":\"linear\"}}],\"label\":\"0.67\",\"method\":\"animate\"},{\"args\":[[\"30.5\"],{\"frame\":{\"duration\":0,\"redraw\":false},\"mode\":\"immediate\",\"fromcurrent\":true,\"transition\":{\"duration\":0,\"easing\":\"linear\"}}],\"label\":\"30.5\",\"method\":\"animate\"},{\"args\":[[\"0.42\"],{\"frame\":{\"duration\":0,\"redraw\":false},\"mode\":\"immediate\",\"fromcurrent\":true,\"transition\":{\"duration\":0,\"easing\":\"linear\"}}],\"label\":\"0.42\",\"method\":\"animate\"},{\"args\":[[\"34.5\"],{\"frame\":{\"duration\":0,\"redraw\":false},\"mode\":\"immediate\",\"fromcurrent\":true,\"transition\":{\"duration\":0,\"easing\":\"linear\"}}],\"label\":\"34.5\",\"method\":\"animate\"},{\"args\":[[\"74.0\"],{\"frame\":{\"duration\":0,\"redraw\":false},\"mode\":\"immediate\",\"fromcurrent\":true,\"transition\":{\"duration\":0,\"easing\":\"linear\"}}],\"label\":\"74.0\",\"method\":\"animate\"}],\"x\":0.1,\"xanchor\":\"left\",\"y\":0,\"yanchor\":\"top\"}]},                        {\"responsive\": true}                    ).then(function(){\n",
       "                            Plotly.addFrames('7ec687a9-73f4-4a23-a897-0498eac7899b', [{\"data\":[{\"hovertemplate\":\"age=22.0\\u003cbr\\u003esurvived=%{x}\\u003cbr\\u003efare=%{y}\\u003cextra\\u003e\\u003c\\u002fextra\\u003e\",\"ids\":[0,0,0,0,1,1,0,0,0,0,1,0,1,1,0,1,0,0,0,0,1,1,1,0,1,1,0],\"legendgroup\":\"\",\"marker\":{\"color\":\"#636efa\",\"symbol\":\"circle\"},\"mode\":\"markers\",\"name\":\"\",\"orientation\":\"v\",\"showlegend\":false,\"x\":[0,0,0,0,1,1,0,0,0,0,1,0,1,1,0,1,0,0,0,0,1,1,1,0,1,1,0],\"xaxis\":\"x\",\"y\":[7.25,7.2292,9.0,8.05,7.75,66.6,7.25,9.35,7.125,7.8958,7.75,7.25,29.0,55.0,135.6333,7.25,7.7958,9.8375,7.5208,7.8958,49.5,7.225,7.775,8.05,41.5792,151.55,10.5167],\"yaxis\":\"y\",\"type\":\"scatter\"}],\"name\":\"22.0\"},{\"data\":[{\"hovertemplate\":\"age=38.0\\u003cbr\\u003esurvived=%{x}\\u003cbr\\u003efare=%{y}\\u003cextra\\u003e\\u003c\\u002fextra\\u003e\",\"ids\":[1,1,1,0,1,0,0,0,0,1,0],\"legendgroup\":\"\",\"marker\":{\"color\":\"#636efa\",\"symbol\":\"circle\"},\"mode\":\"markers\",\"name\":\"\",\"orientation\":\"v\",\"showlegend\":false,\"x\":[1,1,1,0,1,0,0,0,0,1,0],\"xaxis\":\"x\",\"y\":[71.2833,31.3875,80.0,7.8958,90.0,153.4625,13.0,7.05,8.6625,227.525,0.0],\"yaxis\":\"y\",\"type\":\"scatter\"}],\"name\":\"38.0\"},{\"data\":[{\"hovertemplate\":\"age=26.0\\u003cbr\\u003esurvived=%{x}\\u003cbr\\u003efare=%{y}\\u003cextra\\u003e\\u003c\\u002fextra\\u003e\",\"ids\":[1,0,0,0,0,1,1,0,1,0,1,0,0,0,0,0,0,1],\"legendgroup\":\"\",\"marker\":{\"color\":\"#636efa\",\"symbol\":\"circle\"},\"mode\":\"markers\",\"name\":\"\",\"orientation\":\"v\",\"showlegend\":false,\"x\":[1,0,0,0,0,1,1,0,1,0,1,0,0,0,0,0,0,1],\"xaxis\":\"x\",\"y\":[7.925,8.6625,14.4542,20.575,7.775,18.7875,78.85,26.0,7.8542,8.05,56.4958,16.1,10.5,7.8958,7.8542,7.8875,7.8958,30.0],\"yaxis\":\"y\",\"type\":\"scatter\"}],\"name\":\"26.0\"},{\"data\":[{\"hovertemplate\":\"age=35.0\\u003cbr\\u003esurvived=%{x}\\u003cbr\\u003efare=%{y}\\u003cextra\\u003e\\u003c\\u002fextra\\u003e\",\"ids\":[1,0,0,1,1,1,1,1,0,1,1,0,1,0,1,1,0,0],\"legendgroup\":\"\",\"marker\":{\"color\":\"#636efa\",\"symbol\":\"circle\"},\"mode\":\"markers\",\"name\":\"\",\"orientation\":\"v\",\"showlegend\":false,\"x\":[1,0,0,1,1,1,1,1,0,1,1,0,1,0,1,1,0,0],\"xaxis\":\"x\",\"y\":[53.1,8.05,26.0,21.0,83.475,512.3292,135.6333,20.25,7.05,52.0,90.0,7.125,26.55,8.05,26.2875,512.3292,10.5,7.8958],\"yaxis\":\"y\",\"type\":\"scatter\"}],\"name\":\"35.0\"},{\"data\":[{\"hovertemplate\":\"age=54.0\\u003cbr\\u003esurvived=%{x}\\u003cbr\\u003efare=%{y}\\u003cextra\\u003e\\u003c\\u002fextra\\u003e\",\"ids\":[0,0,0,0,1,1,0,1],\"legendgroup\":\"\",\"marker\":{\"color\":\"#636efa\",\"symbol\":\"circle\"},\"mode\":\"markers\",\"name\":\"\",\"orientation\":\"v\",\"showlegend\":false,\"x\":[0,0,0,0,1,1,0,1],\"xaxis\":\"x\",\"y\":[51.8625,77.2875,26.0,14.0,78.2667,59.4,26.0,23.0],\"yaxis\":\"y\",\"type\":\"scatter\"}],\"name\":\"54.0\"},{\"data\":[{\"hovertemplate\":\"age=2.0\\u003cbr\\u003esurvived=%{x}\\u003cbr\\u003efare=%{y}\\u003cextra\\u003e\\u003c\\u002fextra\\u003e\",\"ids\":[0,0,0,0,0,1,1,1,0,0],\"legendgroup\":\"\",\"marker\":{\"color\":\"#636efa\",\"symbol\":\"circle\"},\"mode\":\"markers\",\"name\":\"\",\"orientation\":\"v\",\"showlegend\":false,\"x\":[0,0,0,0,0,1,1,1,0,0],\"xaxis\":\"x\",\"y\":[21.075,29.125,31.275,10.4625,151.55,26.0,12.2875,26.0,27.9,39.6875],\"yaxis\":\"y\",\"type\":\"scatter\"}],\"name\":\"2.0\"},{\"data\":[{\"hovertemplate\":\"age=27.0\\u003cbr\\u003esurvived=%{x}\\u003cbr\\u003efare=%{y}\\u003cextra\\u003e\\u003c\\u002fextra\\u003e\",\"ids\":[1,0,1,1,0,0,0,0,1,0,1,1,1,1,1,1,1,0],\"legendgroup\":\"\",\"marker\":{\"color\":\"#636efa\",\"symbol\":\"circle\"},\"mode\":\"markers\",\"name\":\"\",\"orientation\":\"v\",\"showlegend\":false,\"x\":[1,0,1,1,0,0,0,0,1,0,1,1,1,1,1,1,1,0],\"xaxis\":\"x\",\"y\":[11.1333,21.0,7.7958,7.925,13.0,7.8958,211.5,26.0,30.5,14.4542,76.7292,10.5,53.1,6.975,8.6625,12.475,13.8583,13.0],\"yaxis\":\"y\",\"type\":\"scatter\"}],\"name\":\"27.0\"},{\"data\":[{\"hovertemplate\":\"age=14.0\\u003cbr\\u003esurvived=%{x}\\u003cbr\\u003efare=%{y}\\u003cextra\\u003e\\u003c\\u002fextra\\u003e\",\"ids\":[1,0,1,1,0,0],\"legendgroup\":\"\",\"marker\":{\"color\":\"#636efa\",\"symbol\":\"circle\"},\"mode\":\"markers\",\"name\":\"\",\"orientation\":\"v\",\"showlegend\":false,\"x\":[1,0,1,1,0,0],\"xaxis\":\"x\",\"y\":[30.0708,7.8542,11.2417,120.0,46.9,39.6875],\"yaxis\":\"y\",\"type\":\"scatter\"}],\"name\":\"14.0\"},{\"data\":[{\"hovertemplate\":\"age=4.0\\u003cbr\\u003esurvived=%{x}\\u003cbr\\u003efare=%{y}\\u003cextra\\u003e\\u003c\\u002fextra\\u003e\",\"ids\":[1,0,0,1,1,1,1,1,0,1],\"legendgroup\":\"\",\"marker\":{\"color\":\"#636efa\",\"symbol\":\"circle\"},\"mode\":\"markers\",\"name\":\"\",\"orientation\":\"v\",\"showlegend\":false,\"x\":[1,0,0,1,1,1,1,1,0,1],\"xaxis\":\"x\",\"y\":[16.7,27.9,29.125,22.025,81.8583,39.0,13.4167,23.0,31.275,11.1333],\"yaxis\":\"y\",\"type\":\"scatter\"}],\"name\":\"4.0\"},{\"data\":[{\"hovertemplate\":\"age=58.0\\u003cbr\\u003esurvived=%{x}\\u003cbr\\u003efare=%{y}\\u003cextra\\u003e\\u003c\\u002fextra\\u003e\",\"ids\":[1,1,1,0,0],\"legendgroup\":\"\",\"marker\":{\"color\":\"#636efa\",\"symbol\":\"circle\"},\"mode\":\"markers\",\"name\":\"\",\"orientation\":\"v\",\"showlegend\":false,\"x\":[1,1,1,0,0],\"xaxis\":\"x\",\"y\":[26.55,146.5208,153.4625,29.7,113.275],\"yaxis\":\"y\",\"type\":\"scatter\"}],\"name\":\"58.0\"},{\"data\":[{\"hovertemplate\":\"age=20.0\\u003cbr\\u003esurvived=%{x}\\u003cbr\\u003efare=%{y}\\u003cextra\\u003e\\u003c\\u002fextra\\u003e\",\"ids\":[0,0,0,0,0,0,0,1,0,1,0,0,1,0,0],\"legendgroup\":\"\",\"marker\":{\"color\":\"#636efa\",\"symbol\":\"circle\"},\"mode\":\"markers\",\"name\":\"\",\"orientation\":\"v\",\"showlegend\":false,\"x\":[0,0,0,0,0,0,0,1,0,1,0,0,1,0,0],\"xaxis\":\"x\",\"y\":[8.05,7.8542,9.825,7.05,4.0125,8.6625,9.5,15.7417,7.8542,7.925,9.225,8.6625,7.2292,7.925,9.8458],\"yaxis\":\"y\",\"type\":\"scatter\"}],\"name\":\"20.0\"},{\"data\":[{\"hovertemplate\":\"age=39.0\\u003cbr\\u003esurvived=%{x}\\u003cbr\\u003efare=%{y}\\u003cextra\\u003e\\u003c\\u002fextra\\u003e\",\"ids\":[0,1,0,1,1,1,0,0,0,0,0,0,1,0],\"legendgroup\":\"\",\"marker\":{\"color\":\"#636efa\",\"symbol\":\"circle\"},\"mode\":\"markers\",\"name\":\"\",\"orientation\":\"v\",\"showlegend\":false,\"x\":[0,1,0,1,1,1,0,0,0,0,0,0,1,0],\"xaxis\":\"x\",\"y\":[31.275,7.925,7.925,79.65,55.9,110.8833,31.275,26.0,13.0,0.0,13.0,24.15,83.1583,29.125],\"yaxis\":\"y\",\"type\":\"scatter\"}],\"name\":\"39.0\"},{\"data\":[{\"hovertemplate\":\"age=55.0\\u003cbr\\u003esurvived=%{x}\\u003cbr\\u003efare=%{y}\\u003cextra\\u003e\\u003c\\u002fextra\\u003e\",\"ids\":[1,0],\"legendgroup\":\"\",\"marker\":{\"color\":\"#636efa\",\"symbol\":\"circle\"},\"mode\":\"markers\",\"name\":\"\",\"orientation\":\"v\",\"showlegend\":false,\"x\":[1,0],\"xaxis\":\"x\",\"y\":[16.0,30.5],\"yaxis\":\"y\",\"type\":\"scatter\"}],\"name\":\"55.0\"},{\"data\":[{\"hovertemplate\":\"age=31.0\\u003cbr\\u003esurvived=%{x}\\u003cbr\\u003efare=%{y}\\u003cextra\\u003e\\u003c\\u002fextra\\u003e\",\"ids\":[0,1,1,1,0,0,0,0,1,1,1,0,1,1,0,0,0],\"legendgroup\":\"\",\"marker\":{\"color\":\"#636efa\",\"symbol\":\"circle\"},\"mode\":\"markers\",\"name\":\"\",\"orientation\":\"v\",\"showlegend\":false,\"x\":[0,1,1,1,0,0,0,0,1,1,1,0,1,1,0,0,0],\"xaxis\":\"x\",\"y\":[18.0,113.275,164.8667,20.525,7.8542,10.5,26.25,52.0,13.0,57.0,7.925,7.75,8.6833,26.25,7.775,37.0042,50.4958],\"yaxis\":\"y\",\"type\":\"scatter\"}],\"name\":\"31.0\"},{\"data\":[{\"hovertemplate\":\"age=34.0\\u003cbr\\u003esurvived=%{x}\\u003cbr\\u003efare=%{y}\\u003cextra\\u003e\\u003c\\u002fextra\\u003e\",\"ids\":[1,1,0,0,0,1,1,0,0,1,1,0,0,0,0],\"legendgroup\":\"\",\"marker\":{\"color\":\"#636efa\",\"symbol\":\"circle\"},\"mode\":\"markers\",\"name\":\"\",\"orientation\":\"v\",\"showlegend\":false,\"x\":[1,1,0,0,0,1,1,0,0,1,1,0,0,0,0],\"xaxis\":\"x\",\"y\":[13.0,23.0,26.0,6.4958,21.0,32.5,26.55,8.05,21.0,10.5,13.0,14.4,13.0,8.05,13.0],\"yaxis\":\"y\",\"type\":\"scatter\"}],\"name\":\"34.0\"},{\"data\":[{\"hovertemplate\":\"age=15.0\\u003cbr\\u003esurvived=%{x}\\u003cbr\\u003efare=%{y}\\u003cextra\\u003e\\u003c\\u002fextra\\u003e\",\"ids\":[1,0,1,1,1],\"legendgroup\":\"\",\"marker\":{\"color\":\"#636efa\",\"symbol\":\"circle\"},\"mode\":\"markers\",\"name\":\"\",\"orientation\":\"v\",\"showlegend\":false,\"x\":[1,0,1,1,1],\"xaxis\":\"x\",\"y\":[8.0292,7.2292,211.3375,14.4542,7.225],\"yaxis\":\"y\",\"type\":\"scatter\"}],\"name\":\"15.0\"},{\"data\":[{\"hovertemplate\":\"age=28.0\\u003cbr\\u003esurvived=%{x}\\u003cbr\\u003efare=%{y}\\u003cextra\\u003e\\u003c\\u002fextra\\u003e\",\"ids\":[1,0,0,0,0,0,0,0,0,0,0,0,1,0,0,1,1,1,0,0,1,0,0,1,0],\"legendgroup\":\"\",\"marker\":{\"color\":\"#636efa\",\"symbol\":\"circle\"},\"mode\":\"markers\",\"name\":\"\",\"orientation\":\"v\",\"showlegend\":false,\"x\":[1,0,0,0,0,0,0,0,0,0,0,0,1,0,0,1,1,1,0,0,1,0,0,1,0],\"xaxis\":\"x\",\"y\":[35.5,82.1708,47.1,7.8958,7.8958,56.4958,9.5,7.8542,7.8958,13.0,9.5,7.925,12.65,15.85,14.4,26.0,26.55,13.0,22.525,13.5,13.0,7.7958,33.0,24.0,10.5],\"yaxis\":\"y\",\"type\":\"scatter\"}],\"name\":\"28.0\"},{\"data\":[{\"hovertemplate\":\"age=8.0\\u003cbr\\u003esurvived=%{x}\\u003cbr\\u003efare=%{y}\\u003cextra\\u003e\\u003c\\u002fextra\\u003e\",\"ids\":[0,1,1,0],\"legendgroup\":\"\",\"marker\":{\"color\":\"#636efa\",\"symbol\":\"circle\"},\"mode\":\"markers\",\"name\":\"\",\"orientation\":\"v\",\"showlegend\":false,\"x\":[0,1,1,0],\"xaxis\":\"x\",\"y\":[21.075,26.25,36.75,29.125],\"yaxis\":\"y\",\"type\":\"scatter\"}],\"name\":\"8.0\"},{\"data\":[{\"hovertemplate\":\"age=19.0\\u003cbr\\u003esurvived=%{x}\\u003cbr\\u003efare=%{y}\\u003cextra\\u003e\\u003c\\u002fextra\\u003e\",\"ids\":[0,1,0,1,0,0,0,1,1,0,1,1,0,0,0,1,1,0,0,0,0,0,0,0,1],\"legendgroup\":\"\",\"marker\":{\"color\":\"#636efa\",\"symbol\":\"circle\"},\"mode\":\"markers\",\"name\":\"\",\"orientation\":\"v\",\"showlegend\":false,\"x\":[0,1,0,1,0,0,0,1,1,0,1,1,0,0,0,1,1,0,0,0,0,0,0,0,1],\"xaxis\":\"x\",\"y\":[263.0,7.8792,8.1583,26.2833,6.75,36.75,13.0,7.8542,10.5,10.5,8.05,91.0792,0.0,8.05,7.775,26.0,26.0,7.8958,14.5,7.8958,10.1708,7.65,53.1,7.8958,30.0],\"yaxis\":\"y\",\"type\":\"scatter\"}],\"name\":\"19.0\"},{\"data\":[{\"hovertemplate\":\"age=40.0\\u003cbr\\u003esurvived=%{x}\\u003cbr\\u003efare=%{y}\\u003cextra\\u003e\\u003c\\u002fextra\\u003e\",\"ids\":[0,0,1,0,1,0,1,1,0,0,1,0,1],\"legendgroup\":\"\",\"marker\":{\"color\":\"#636efa\",\"symbol\":\"circle\"},\"mode\":\"markers\",\"name\":\"\",\"orientation\":\"v\",\"showlegend\":false,\"x\":[0,0,1,0,1,0,1,1,0,0,1,0,1],\"xaxis\":\"x\",\"y\":[27.7208,9.475,15.75,15.5,31.0,0.0,134.5,13.0,27.9,7.8958,153.4625,7.225,39.0],\"yaxis\":\"y\",\"type\":\"scatter\"}],\"name\":\"40.0\"},{\"data\":[{\"hovertemplate\":\"age=66.0\\u003cbr\\u003esurvived=%{x}\\u003cbr\\u003efare=%{y}\\u003cextra\\u003e\\u003c\\u002fextra\\u003e\",\"ids\":[0],\"legendgroup\":\"\",\"marker\":{\"color\":\"#636efa\",\"symbol\":\"circle\"},\"mode\":\"markers\",\"name\":\"\",\"orientation\":\"v\",\"showlegend\":false,\"x\":[0],\"xaxis\":\"x\",\"y\":[10.5],\"yaxis\":\"y\",\"type\":\"scatter\"}],\"name\":\"66.0\"},{\"data\":[{\"hovertemplate\":\"age=42.0\\u003cbr\\u003esurvived=%{x}\\u003cbr\\u003efare=%{y}\\u003cextra\\u003e\\u003c\\u002fextra\\u003e\",\"ids\":[0,0,0,0,1,0,1,1,1,0,1,0,1],\"legendgroup\":\"\",\"marker\":{\"color\":\"#636efa\",\"symbol\":\"circle\"},\"mode\":\"markers\",\"name\":\"\",\"orientation\":\"v\",\"showlegend\":false,\"x\":[0,0,0,0,1,0,1,1,1,0,1,0,1],\"xaxis\":\"x\",\"y\":[52.0,13.0,8.4042,27.0,13.0,8.6625,227.525,26.0,52.5542,7.65,26.2875,7.55,13.0],\"yaxis\":\"y\",\"type\":\"scatter\"}],\"name\":\"42.0\"},{\"data\":[{\"hovertemplate\":\"age=21.0\\u003cbr\\u003esurvived=%{x}\\u003cbr\\u003efare=%{y}\\u003cextra\\u003e\\u003c\\u002fextra\\u003e\",\"ids\":[0,0,1,0,0,1,0,0,0,1,0,0,0,0,0,0,0,0,0,1,0,1,0,0],\"legendgroup\":\"\",\"marker\":{\"color\":\"#636efa\",\"symbol\":\"circle\"},\"mode\":\"markers\",\"name\":\"\",\"orientation\":\"v\",\"showlegend\":false,\"x\":[0,0,1,0,0,1,0,0,0,1,0,0,0,0,0,0,0,0,0,1,0,1,0,0],\"xaxis\":\"x\",\"y\":[8.05,7.8,10.5,73.5,77.2875,7.65,7.925,73.5,7.925,7.7958,9.825,7.775,7.7333,34.375,7.25,8.05,7.75,7.8542,16.1,77.9583,8.4333,262.375,8.6625,11.5],\"yaxis\":\"y\",\"type\":\"scatter\"}],\"name\":\"21.0\"},{\"data\":[{\"hovertemplate\":\"age=18.0\\u003cbr\\u003esurvived=%{x}\\u003cbr\\u003efare=%{y}\\u003cextra\\u003e\\u003c\\u002fextra\\u003e\",\"ids\":[0,0,0,0,1,0,1,0,0,1,0,0,1,1,0,0,1,0,1,0,0,0,1,0,0,1],\"legendgroup\":\"\",\"marker\":{\"color\":\"#636efa\",\"symbol\":\"circle\"},\"mode\":\"markers\",\"name\":\"\",\"orientation\":\"v\",\"showlegend\":false,\"x\":[0,0,0,0,1,0,1,0,0,1,0,0,1,1,0,0,1,0,1,0,0,0,1,0,0,1],\"xaxis\":\"x\",\"y\":[18.0,17.8,11.5,7.8542,8.05,13.0,262.375,6.4958,73.5,13.0,20.2125,108.9,79.65,23.0,6.75,7.775,9.8417,7.7958,227.525,14.4542,11.5,7.75,7.4958,7.775,8.3,9.35],\"yaxis\":\"y\",\"type\":\"scatter\"}],\"name\":\"18.0\"},{\"data\":[{\"hovertemplate\":\"age=3.0\\u003cbr\\u003esurvived=%{x}\\u003cbr\\u003efare=%{y}\\u003cextra\\u003e\\u003c\\u002fextra\\u003e\",\"ids\":[1,1,1,1,0,1],\"legendgroup\":\"\",\"marker\":{\"color\":\"#636efa\",\"symbol\":\"circle\"},\"mode\":\"markers\",\"name\":\"\",\"orientation\":\"v\",\"showlegend\":false,\"x\":[1,1,1,1,0,1],\"xaxis\":\"x\",\"y\":[41.5792,26.0,31.3875,15.9,21.075,18.75],\"yaxis\":\"y\",\"type\":\"scatter\"}],\"name\":\"3.0\"},{\"data\":[{\"hovertemplate\":\"age=7.0\\u003cbr\\u003esurvived=%{x}\\u003cbr\\u003efare=%{y}\\u003cextra\\u003e\\u003c\\u002fextra\\u003e\",\"ids\":[0,0,1],\"legendgroup\":\"\",\"marker\":{\"color\":\"#636efa\",\"symbol\":\"circle\"},\"mode\":\"markers\",\"name\":\"\",\"orientation\":\"v\",\"showlegend\":false,\"x\":[0,0,1],\"xaxis\":\"x\",\"y\":[39.6875,29.125,26.25],\"yaxis\":\"y\",\"type\":\"scatter\"}],\"name\":\"7.0\"},{\"data\":[{\"hovertemplate\":\"age=49.0\\u003cbr\\u003esurvived=%{x}\\u003cbr\\u003efare=%{y}\\u003cextra\\u003e\\u003c\\u002fextra\\u003e\",\"ids\":[1,1,0,1,0,1],\"legendgroup\":\"\",\"marker\":{\"color\":\"#636efa\",\"symbol\":\"circle\"},\"mode\":\"markers\",\"name\":\"\",\"orientation\":\"v\",\"showlegend\":false,\"x\":[1,1,0,1,0,1],\"xaxis\":\"x\",\"y\":[76.7292,89.1042,0.0,56.9292,110.8833,25.9292],\"yaxis\":\"y\",\"type\":\"scatter\"}],\"name\":\"49.0\"},{\"data\":[{\"hovertemplate\":\"age=29.0\\u003cbr\\u003esurvived=%{x}\\u003cbr\\u003efare=%{y}\\u003cextra\\u003e\\u003c\\u002fextra\\u003e\",\"ids\":[1,1,1,0,0,1,0,0,0,1,0,0,0,1,0,1,0,0,1,0],\"legendgroup\":\"\",\"marker\":{\"color\":\"#636efa\",\"symbol\":\"circle\"},\"mode\":\"markers\",\"name\":\"\",\"orientation\":\"v\",\"showlegend\":false,\"x\":[1,1,1,0,0,1,0,0,0,1,0,0,0,1,0,1,0,0,1,0],\"xaxis\":\"x\",\"y\":[26.0,10.5,9.5,8.05,21.0,26.0,7.775,10.5,10.4625,15.2458,66.6,27.7208,7.875,7.8958,7.0458,7.75,21.075,9.4833,211.3375,30.0],\"yaxis\":\"y\",\"type\":\"scatter\"}],\"name\":\"29.0\"},{\"data\":[{\"hovertemplate\":\"age=65.0\\u003cbr\\u003esurvived=%{x}\\u003cbr\\u003efare=%{y}\\u003cextra\\u003e\\u003c\\u002fextra\\u003e\",\"ids\":[0,0,0],\"legendgroup\":\"\",\"marker\":{\"color\":\"#636efa\",\"symbol\":\"circle\"},\"mode\":\"markers\",\"name\":\"\",\"orientation\":\"v\",\"showlegend\":false,\"x\":[0,0,0],\"xaxis\":\"x\",\"y\":[61.9792,7.75,26.55],\"yaxis\":\"y\",\"type\":\"scatter\"}],\"name\":\"65.0\"},{\"data\":[{\"hovertemplate\":\"age=28.5\\u003cbr\\u003esurvived=%{x}\\u003cbr\\u003efare=%{y}\\u003cextra\\u003e\\u003c\\u002fextra\\u003e\",\"ids\":[0,0],\"legendgroup\":\"\",\"marker\":{\"color\":\"#636efa\",\"symbol\":\"circle\"},\"mode\":\"markers\",\"name\":\"\",\"orientation\":\"v\",\"showlegend\":false,\"x\":[0,0],\"xaxis\":\"x\",\"y\":[7.2292,16.1],\"yaxis\":\"y\",\"type\":\"scatter\"}],\"name\":\"28.5\"},{\"data\":[{\"hovertemplate\":\"age=5.0\\u003cbr\\u003esurvived=%{x}\\u003cbr\\u003efare=%{y}\\u003cextra\\u003e\\u003c\\u002fextra\\u003e\",\"ids\":[1,1,1,1],\"legendgroup\":\"\",\"marker\":{\"color\":\"#636efa\",\"symbol\":\"circle\"},\"mode\":\"markers\",\"name\":\"\",\"orientation\":\"v\",\"showlegend\":false,\"x\":[1,1,1,1],\"xaxis\":\"x\",\"y\":[27.75,31.3875,19.2583,12.475],\"yaxis\":\"y\",\"type\":\"scatter\"}],\"name\":\"5.0\"},{\"data\":[{\"hovertemplate\":\"age=11.0\\u003cbr\\u003esurvived=%{x}\\u003cbr\\u003efare=%{y}\\u003cextra\\u003e\\u003c\\u002fextra\\u003e\",\"ids\":[0,0,0,1],\"legendgroup\":\"\",\"marker\":{\"color\":\"#636efa\",\"symbol\":\"circle\"},\"mode\":\"markers\",\"name\":\"\",\"orientation\":\"v\",\"showlegend\":false,\"x\":[0,0,0,1],\"xaxis\":\"x\",\"y\":[46.9,31.275,18.7875,120.0],\"yaxis\":\"y\",\"type\":\"scatter\"}],\"name\":\"11.0\"},{\"data\":[{\"hovertemplate\":\"age=45.0\\u003cbr\\u003esurvived=%{x}\\u003cbr\\u003efare=%{y}\\u003cextra\\u003e\\u003c\\u002fextra\\u003e\",\"ids\":[0,0,0,1,0,1,0,0,1,0,1,1],\"legendgroup\":\"\",\"marker\":{\"color\":\"#636efa\",\"symbol\":\"circle\"},\"mode\":\"markers\",\"name\":\"\",\"orientation\":\"v\",\"showlegend\":false,\"x\":[0,0,0,1,0,1,0,0,1,0,1,1],\"xaxis\":\"x\",\"y\":[83.475,6.975,27.9,26.55,7.75,8.05,35.5,14.4542,26.25,26.55,13.5,164.8667],\"yaxis\":\"y\",\"type\":\"scatter\"}],\"name\":\"45.0\"},{\"data\":[{\"hovertemplate\":\"age=17.0\\u003cbr\\u003esurvived=%{x}\\u003cbr\\u003efare=%{y}\\u003cextra\\u003e\\u003c\\u002fextra\\u003e\",\"ids\":[1,1,0,0,1,1,0,0,0,1,0,1,0],\"legendgroup\":\"\",\"marker\":{\"color\":\"#636efa\",\"symbol\":\"circle\"},\"mode\":\"markers\",\"name\":\"\",\"orientation\":\"v\",\"showlegend\":false,\"x\":[1,1,0,0,1,1,0,0,0,1,0,1,0],\"xaxis\":\"x\",\"y\":[7.925,10.5,14.4583,8.6625,108.9,12.0,7.125,8.6625,7.2292,110.8833,7.0542,57.0,8.6625],\"yaxis\":\"y\",\"type\":\"scatter\"}],\"name\":\"17.0\"},{\"data\":[{\"hovertemplate\":\"age=32.0\\u003cbr\\u003esurvived=%{x}\\u003cbr\\u003efare=%{y}\\u003cextra\\u003e\\u003c\\u002fextra\\u003e\",\"ids\":[0,1,1,0,1,0,1,0,1,1,1,1,0,0,0,0,1,0],\"legendgroup\":\"\",\"marker\":{\"color\":\"#636efa\",\"symbol\":\"circle\"},\"mode\":\"markers\",\"name\":\"\",\"orientation\":\"v\",\"showlegend\":false,\"x\":[0,1,1,0,1,0,1,0,1,1,1,1,0,0,0,0,1,0],\"xaxis\":\"x\",\"y\":[10.5,56.4958,13.0,15.85,76.2917,7.925,8.05,7.8958,26.0,7.8542,7.925,30.5,7.925,15.5,73.5,8.3625,56.4958,7.75],\"yaxis\":\"y\",\"type\":\"scatter\"}],\"name\":\"32.0\"},{\"data\":[{\"hovertemplate\":\"age=16.0\\u003cbr\\u003esurvived=%{x}\\u003cbr\\u003efare=%{y}\\u003cextra\\u003e\\u003c\\u002fextra\\u003e\",\"ids\":[0,0,0,1,1,1,0,0,1,0,1,0,0,0,0,0,1],\"legendgroup\":\"\",\"marker\":{\"color\":\"#636efa\",\"symbol\":\"circle\"},\"mode\":\"markers\",\"name\":\"\",\"orientation\":\"v\",\"showlegend\":false,\"x\":[0,0,0,1,1,1,0,0,1,0,1,0,0,0,0,0,1],\"xaxis\":\"x\",\"y\":[46.9,34.375,9.2167,7.7333,7.75,8.05,39.6875,9.5,57.9792,18.0,86.5,8.05,20.25,7.775,26.0,10.5,39.4],\"yaxis\":\"y\",\"type\":\"scatter\"}],\"name\":\"16.0\"},{\"data\":[{\"hovertemplate\":\"age=25.0\\u003cbr\\u003esurvived=%{x}\\u003cbr\\u003efare=%{y}\\u003cextra\\u003e\\u003c\\u002fextra\\u003e\",\"ids\":[0,0,0,1,1,0,0,1,0,1,0,1,0,0,0,0,0,0,0,0,0,1,0],\"legendgroup\":\"\",\"marker\":{\"color\":\"#636efa\",\"symbol\":\"circle\"},\"mode\":\"markers\",\"name\":\"\",\"orientation\":\"v\",\"showlegend\":false,\"x\":[0,0,0,1,1,0,0,1,0,1,0,1,0,0,0,0,0,0,0,0,0,1,0],\"xaxis\":\"x\",\"y\":[7.65,13.0,7.775,7.775,0.0,13.0,17.8,55.4417,7.775,91.0792,151.55,30.0,13.0,41.5792,7.225,7.7417,26.0,7.925,7.05,7.25,7.8958,26.0,7.05],\"yaxis\":\"y\",\"type\":\"scatter\"}],\"name\":\"25.0\"},{\"data\":[{\"hovertemplate\":\"age=0.83\\u003cbr\\u003esurvived=%{x}\\u003cbr\\u003efare=%{y}\\u003cextra\\u003e\\u003c\\u002fextra\\u003e\",\"ids\":[1,1],\"legendgroup\":\"\",\"marker\":{\"color\":\"#636efa\",\"symbol\":\"circle\"},\"mode\":\"markers\",\"name\":\"\",\"orientation\":\"v\",\"showlegend\":false,\"x\":[1,1],\"xaxis\":\"x\",\"y\":[29.0,18.75],\"yaxis\":\"y\",\"type\":\"scatter\"}],\"name\":\"0.83\"},{\"data\":[{\"hovertemplate\":\"age=30.0\\u003cbr\\u003esurvived=%{x}\\u003cbr\\u003efare=%{y}\\u003cextra\\u003e\\u003c\\u002fextra\\u003e\",\"ids\":[1,0,0,0,0,0,0,1,1,0,1,1,0,0,0,0,1,0,1,0,1,1,0,0,1],\"legendgroup\":\"\",\"marker\":{\"color\":\"#636efa\",\"symbol\":\"circle\"},\"mode\":\"markers\",\"name\":\"\",\"orientation\":\"v\",\"showlegend\":false,\"x\":[1,0,0,0,0,0,0,1,1,0,1,1,0,0,0,0,1,0,1,0,1,1,0,0,1],\"xaxis\":\"x\",\"y\":[12.475,8.05,13.0,13.0,10.5,7.225,16.1,86.5,9.5,24.0,56.9292,12.35,7.25,13.0,27.75,8.05,93.5,8.6625,106.425,7.8958,21.0,13.0,7.2292,24.15,31.0],\"yaxis\":\"y\",\"type\":\"scatter\"}],\"name\":\"30.0\"},{\"data\":[{\"hovertemplate\":\"age=33.0\\u003cbr\\u003esurvived=%{x}\\u003cbr\\u003efare=%{y}\\u003cextra\\u003e\\u003c\\u002fextra\\u003e\",\"ids\":[1,0,0,0,0,1,1,1,0,0,0,1,1,0,0],\"legendgroup\":\"\",\"marker\":{\"color\":\"#636efa\",\"symbol\":\"circle\"},\"mode\":\"markers\",\"name\":\"\",\"orientation\":\"v\",\"showlegend\":false,\"x\":[1,0,0,0,0,1,1,1,0,0,0,1,1,0,0],\"xaxis\":\"x\",\"y\":[15.85,8.6542,7.8958,12.275,8.6625,90.0,27.75,26.0,20.525,7.775,9.5,86.5,53.1,5.0,7.8958],\"yaxis\":\"y\",\"type\":\"scatter\"}],\"name\":\"33.0\"},{\"data\":[{\"hovertemplate\":\"age=23.0\\u003cbr\\u003esurvived=%{x}\\u003cbr\\u003efare=%{y}\\u003cextra\\u003e\\u003c\\u002fextra\\u003e\",\"ids\":[1,1,0,0,1,0,1,0,1,0,0,0,0,0,0],\"legendgroup\":\"\",\"marker\":{\"color\":\"#636efa\",\"symbol\":\"circle\"},\"mode\":\"markers\",\"name\":\"\",\"orientation\":\"v\",\"showlegend\":false,\"x\":[1,1,0,0,1,0,1,0,1,0,0,0,0,0,0],\"xaxis\":\"x\",\"y\":[263.0,63.3583,15.0458,9.225,113.275,10.5,13.7917,11.5,7.55,13.0,13.0,13.0,7.8958,7.925,7.8542],\"yaxis\":\"y\",\"type\":\"scatter\"}],\"name\":\"23.0\"},{\"data\":[{\"hovertemplate\":\"age=24.0\\u003cbr\\u003esurvived=%{x}\\u003cbr\\u003efare=%{y}\\u003cextra\\u003e\\u003c\\u002fextra\\u003e\",\"ids\":[0,0,1,0,1,0,0,0,1,0,0,1,1,1,1,1,1,1,0,0,0,1,1,1,0,1,0,0,1,0],\"legendgroup\":\"\",\"marker\":{\"color\":\"#636efa\",\"symbol\":\"circle\"},\"mode\":\"markers\",\"name\":\"\",\"orientation\":\"v\",\"showlegend\":false,\"x\":[0,0,1,0,1,0,0,0,1,0,0,1,1,1,1,1,1,1,0,0,0,1,1,1,0,1,0,0,1,0],\"xaxis\":\"x\",\"y\":[8.05,247.5208,7.1417,79.2,15.85,13.0,7.05,10.5,14.5,8.85,7.8958,83.1583,26.0,263.0,13.0,69.3,16.7,18.75,7.7958,7.4958,24.15,27.0,65.0,69.3,73.5,49.5042,16.1,9.5,19.2583,13.0],\"yaxis\":\"y\",\"type\":\"scatter\"}],\"name\":\"24.0\"},{\"data\":[{\"hovertemplate\":\"age=46.0\\u003cbr\\u003esurvived=%{x}\\u003cbr\\u003efare=%{y}\\u003cextra\\u003e\\u003c\\u002fextra\\u003e\",\"ids\":[0,0,0],\"legendgroup\":\"\",\"marker\":{\"color\":\"#636efa\",\"symbol\":\"circle\"},\"mode\":\"markers\",\"name\":\"\",\"orientation\":\"v\",\"showlegend\":false,\"x\":[0,0,0],\"xaxis\":\"x\",\"y\":[61.175,26.0,79.2],\"yaxis\":\"y\",\"type\":\"scatter\"}],\"name\":\"46.0\"},{\"data\":[{\"hovertemplate\":\"age=59.0\\u003cbr\\u003esurvived=%{x}\\u003cbr\\u003efare=%{y}\\u003cextra\\u003e\\u003c\\u002fextra\\u003e\",\"ids\":[0,0],\"legendgroup\":\"\",\"marker\":{\"color\":\"#636efa\",\"symbol\":\"circle\"},\"mode\":\"markers\",\"name\":\"\",\"orientation\":\"v\",\"showlegend\":false,\"x\":[0,0],\"xaxis\":\"x\",\"y\":[7.25,13.5],\"yaxis\":\"y\",\"type\":\"scatter\"}],\"name\":\"59.0\"},{\"data\":[{\"hovertemplate\":\"age=71.0\\u003cbr\\u003esurvived=%{x}\\u003cbr\\u003efare=%{y}\\u003cextra\\u003e\\u003c\\u002fextra\\u003e\",\"ids\":[0,0],\"legendgroup\":\"\",\"marker\":{\"color\":\"#636efa\",\"symbol\":\"circle\"},\"mode\":\"markers\",\"name\":\"\",\"orientation\":\"v\",\"showlegend\":false,\"x\":[0,0],\"xaxis\":\"x\",\"y\":[34.6542,49.5042],\"yaxis\":\"y\",\"type\":\"scatter\"}],\"name\":\"71.0\"},{\"data\":[{\"hovertemplate\":\"age=37.0\\u003cbr\\u003esurvived=%{x}\\u003cbr\\u003efare=%{y}\\u003cextra\\u003e\\u003c\\u002fextra\\u003e\",\"ids\":[0,0,1,0,0,0],\"legendgroup\":\"\",\"marker\":{\"color\":\"#636efa\",\"symbol\":\"circle\"},\"mode\":\"markers\",\"name\":\"\",\"orientation\":\"v\",\"showlegend\":false,\"x\":[0,0,1,0,0,0],\"xaxis\":\"x\",\"y\":[7.925,53.1,52.5542,29.7,9.5875,26.0],\"yaxis\":\"y\",\"type\":\"scatter\"}],\"name\":\"37.0\"},{\"data\":[{\"hovertemplate\":\"age=47.0\\u003cbr\\u003esurvived=%{x}\\u003cbr\\u003efare=%{y}\\u003cextra\\u003e\\u003c\\u002fextra\\u003e\",\"ids\":[0,0,0,0,0,0,0,1,0],\"legendgroup\":\"\",\"marker\":{\"color\":\"#636efa\",\"symbol\":\"circle\"},\"mode\":\"markers\",\"name\":\"\",\"orientation\":\"v\",\"showlegend\":false,\"x\":[0,0,0,0,0,0,0,1,0],\"xaxis\":\"x\",\"y\":[52.0,14.5,38.5,34.0208,15.0,7.25,25.5875,52.5542,9.0],\"yaxis\":\"y\",\"type\":\"scatter\"}],\"name\":\"47.0\"},{\"data\":[{\"hovertemplate\":\"age=14.5\\u003cbr\\u003esurvived=%{x}\\u003cbr\\u003efare=%{y}\\u003cextra\\u003e\\u003c\\u002fextra\\u003e\",\"ids\":[0],\"legendgroup\":\"\",\"marker\":{\"color\":\"#636efa\",\"symbol\":\"circle\"},\"mode\":\"markers\",\"name\":\"\",\"orientation\":\"v\",\"showlegend\":false,\"x\":[0],\"xaxis\":\"x\",\"y\":[14.4542],\"yaxis\":\"y\",\"type\":\"scatter\"}],\"name\":\"14.5\"},{\"data\":[{\"hovertemplate\":\"age=70.5\\u003cbr\\u003esurvived=%{x}\\u003cbr\\u003efare=%{y}\\u003cextra\\u003e\\u003c\\u002fextra\\u003e\",\"ids\":[0],\"legendgroup\":\"\",\"marker\":{\"color\":\"#636efa\",\"symbol\":\"circle\"},\"mode\":\"markers\",\"name\":\"\",\"orientation\":\"v\",\"showlegend\":false,\"x\":[0],\"xaxis\":\"x\",\"y\":[7.75],\"yaxis\":\"y\",\"type\":\"scatter\"}],\"name\":\"70.5\"},{\"data\":[{\"hovertemplate\":\"age=32.5\\u003cbr\\u003esurvived=%{x}\\u003cbr\\u003efare=%{y}\\u003cextra\\u003e\\u003c\\u002fextra\\u003e\",\"ids\":[0,1],\"legendgroup\":\"\",\"marker\":{\"color\":\"#636efa\",\"symbol\":\"circle\"},\"mode\":\"markers\",\"name\":\"\",\"orientation\":\"v\",\"showlegend\":false,\"x\":[0,1],\"xaxis\":\"x\",\"y\":[30.0708,13.0],\"yaxis\":\"y\",\"type\":\"scatter\"}],\"name\":\"32.5\"},{\"data\":[{\"hovertemplate\":\"age=12.0\\u003cbr\\u003esurvived=%{x}\\u003cbr\\u003efare=%{y}\\u003cextra\\u003e\\u003c\\u002fextra\\u003e\",\"ids\":[1],\"legendgroup\":\"\",\"marker\":{\"color\":\"#636efa\",\"symbol\":\"circle\"},\"mode\":\"markers\",\"name\":\"\",\"orientation\":\"v\",\"showlegend\":false,\"x\":[1],\"xaxis\":\"x\",\"y\":[11.2417],\"yaxis\":\"y\",\"type\":\"scatter\"}],\"name\":\"12.0\"},{\"data\":[{\"hovertemplate\":\"age=9.0\\u003cbr\\u003esurvived=%{x}\\u003cbr\\u003efare=%{y}\\u003cextra\\u003e\\u003c\\u002fextra\\u003e\",\"ids\":[0,1,0,0,1,0,0,0],\"legendgroup\":\"\",\"marker\":{\"color\":\"#636efa\",\"symbol\":\"circle\"},\"mode\":\"markers\",\"name\":\"\",\"orientation\":\"v\",\"showlegend\":false,\"x\":[0,1,0,0,1,0,0,0],\"xaxis\":\"x\",\"y\":[34.375,20.525,31.3875,46.9,15.9,31.275,27.9,15.2458],\"yaxis\":\"y\",\"type\":\"scatter\"}],\"name\":\"9.0\"},{\"data\":[{\"hovertemplate\":\"age=36.5\\u003cbr\\u003esurvived=%{x}\\u003cbr\\u003efare=%{y}\\u003cextra\\u003e\\u003c\\u002fextra\\u003e\",\"ids\":[0],\"legendgroup\":\"\",\"marker\":{\"color\":\"#636efa\",\"symbol\":\"circle\"},\"mode\":\"markers\",\"name\":\"\",\"orientation\":\"v\",\"showlegend\":false,\"x\":[0],\"xaxis\":\"x\",\"y\":[26.0],\"yaxis\":\"y\",\"type\":\"scatter\"}],\"name\":\"36.5\"},{\"data\":[{\"hovertemplate\":\"age=51.0\\u003cbr\\u003esurvived=%{x}\\u003cbr\\u003efare=%{y}\\u003cextra\\u003e\\u003c\\u002fextra\\u003e\",\"ids\":[0,0,0,0,0,1,1],\"legendgroup\":\"\",\"marker\":{\"color\":\"#636efa\",\"symbol\":\"circle\"},\"mode\":\"markers\",\"name\":\"\",\"orientation\":\"v\",\"showlegend\":false,\"x\":[0,0,0,0,0,1,1],\"xaxis\":\"x\",\"y\":[12.525,61.3792,8.05,7.75,7.0542,77.9583,26.55],\"yaxis\":\"y\",\"type\":\"scatter\"}],\"name\":\"51.0\"},{\"data\":[{\"hovertemplate\":\"age=55.5\\u003cbr\\u003esurvived=%{x}\\u003cbr\\u003efare=%{y}\\u003cextra\\u003e\\u003c\\u002fextra\\u003e\",\"ids\":[0],\"legendgroup\":\"\",\"marker\":{\"color\":\"#636efa\",\"symbol\":\"circle\"},\"mode\":\"markers\",\"name\":\"\",\"orientation\":\"v\",\"showlegend\":false,\"x\":[0],\"xaxis\":\"x\",\"y\":[8.05],\"yaxis\":\"y\",\"type\":\"scatter\"}],\"name\":\"55.5\"},{\"data\":[{\"hovertemplate\":\"age=40.5\\u003cbr\\u003esurvived=%{x}\\u003cbr\\u003efare=%{y}\\u003cextra\\u003e\\u003c\\u002fextra\\u003e\",\"ids\":[0,0],\"legendgroup\":\"\",\"marker\":{\"color\":\"#636efa\",\"symbol\":\"circle\"},\"mode\":\"markers\",\"name\":\"\",\"orientation\":\"v\",\"showlegend\":false,\"x\":[0,0],\"xaxis\":\"x\",\"y\":[14.5,7.75],\"yaxis\":\"y\",\"type\":\"scatter\"}],\"name\":\"40.5\"},{\"data\":[{\"hovertemplate\":\"age=44.0\\u003cbr\\u003esurvived=%{x}\\u003cbr\\u003efare=%{y}\\u003cextra\\u003e\\u003c\\u002fextra\\u003e\",\"ids\":[0,1,0,0,1,1,0,0,0],\"legendgroup\":\"\",\"marker\":{\"color\":\"#636efa\",\"symbol\":\"circle\"},\"mode\":\"markers\",\"name\":\"\",\"orientation\":\"v\",\"showlegend\":false,\"x\":[0,1,0,0,1,1,0,0,0],\"xaxis\":\"x\",\"y\":[16.1,27.7208,26.0,90.0,7.925,57.9792,8.05,8.05,26.0],\"yaxis\":\"y\",\"type\":\"scatter\"}],\"name\":\"44.0\"},{\"data\":[{\"hovertemplate\":\"age=1.0\\u003cbr\\u003esurvived=%{x}\\u003cbr\\u003efare=%{y}\\u003cextra\\u003e\\u003c\\u002fextra\\u003e\",\"ids\":[0,1,1,1,0,1,1],\"legendgroup\":\"\",\"marker\":{\"color\":\"#636efa\",\"symbol\":\"circle\"},\"mode\":\"markers\",\"name\":\"\",\"orientation\":\"v\",\"showlegend\":false,\"x\":[0,1,1,1,0,1,1],\"xaxis\":\"x\",\"y\":[39.6875,11.1333,39.0,15.7417,46.9,20.575,37.0042],\"yaxis\":\"y\",\"type\":\"scatter\"}],\"name\":\"1.0\"},{\"data\":[{\"hovertemplate\":\"age=61.0\\u003cbr\\u003esurvived=%{x}\\u003cbr\\u003efare=%{y}\\u003cextra\\u003e\\u003c\\u002fextra\\u003e\",\"ids\":[0,0,0],\"legendgroup\":\"\",\"marker\":{\"color\":\"#636efa\",\"symbol\":\"circle\"},\"mode\":\"markers\",\"name\":\"\",\"orientation\":\"v\",\"showlegend\":false,\"x\":[0,0,0],\"xaxis\":\"x\",\"y\":[33.5,6.2375,32.3208],\"yaxis\":\"y\",\"type\":\"scatter\"}],\"name\":\"61.0\"},{\"data\":[{\"hovertemplate\":\"age=56.0\\u003cbr\\u003esurvived=%{x}\\u003cbr\\u003efare=%{y}\\u003cextra\\u003e\\u003c\\u002fextra\\u003e\",\"ids\":[0,0,1,1],\"legendgroup\":\"\",\"marker\":{\"color\":\"#636efa\",\"symbol\":\"circle\"},\"mode\":\"markers\",\"name\":\"\",\"orientation\":\"v\",\"showlegend\":false,\"x\":[0,0,1,1],\"xaxis\":\"x\",\"y\":[30.6958,26.55,35.5,83.1583],\"yaxis\":\"y\",\"type\":\"scatter\"}],\"name\":\"56.0\"},{\"data\":[{\"hovertemplate\":\"age=50.0\\u003cbr\\u003esurvived=%{x}\\u003cbr\\u003efare=%{y}\\u003cextra\\u003e\\u003c\\u002fextra\\u003e\",\"ids\":[0,1,1,0,1,0,1,0,1,0],\"legendgroup\":\"\",\"marker\":{\"color\":\"#636efa\",\"symbol\":\"circle\"},\"mode\":\"markers\",\"name\":\"\",\"orientation\":\"v\",\"showlegend\":false,\"x\":[0,1,1,0,1,0,1,0,1,0],\"xaxis\":\"x\",\"y\":[28.7125,26.0,247.5208,55.9,10.5,8.05,10.5,106.425,133.65,13.0],\"yaxis\":\"y\",\"type\":\"scatter\"}],\"name\":\"50.0\"},{\"data\":[{\"hovertemplate\":\"age=36.0\\u003cbr\\u003esurvived=%{x}\\u003cbr\\u003efare=%{y}\\u003cextra\\u003e\\u003c\\u002fextra\\u003e\",\"ids\":[0,0,0,0,1,1,0,1,1,0,1,1,1,1,1,0,0,0,0,1,0,1],\"legendgroup\":\"\",\"marker\":{\"color\":\"#636efa\",\"symbol\":\"circle\"},\"mode\":\"markers\",\"name\":\"\",\"orientation\":\"v\",\"showlegend\":false,\"x\":[0,0,0,0,1,1,0,1,1,0,1,1,1,1,1,0,0,0,0,1,0,1],\"xaxis\":\"x\",\"y\":[0.0,7.8958,10.5,12.875,135.6333,13.0,13.0,13.0,120.0,27.75,26.2875,26.0,71.0,17.4,26.3875,40.125,24.15,15.55,7.4958,512.3292,78.85,120.0],\"yaxis\":\"y\",\"type\":\"scatter\"}],\"name\":\"36.0\"},{\"data\":[{\"hovertemplate\":\"age=45.5\\u003cbr\\u003esurvived=%{x}\\u003cbr\\u003efare=%{y}\\u003cextra\\u003e\\u003c\\u002fextra\\u003e\",\"ids\":[0,0],\"legendgroup\":\"\",\"marker\":{\"color\":\"#636efa\",\"symbol\":\"circle\"},\"mode\":\"markers\",\"name\":\"\",\"orientation\":\"v\",\"showlegend\":false,\"x\":[0,0],\"xaxis\":\"x\",\"y\":[7.225,28.5],\"yaxis\":\"y\",\"type\":\"scatter\"}],\"name\":\"45.5\"},{\"data\":[{\"hovertemplate\":\"age=20.5\\u003cbr\\u003esurvived=%{x}\\u003cbr\\u003efare=%{y}\\u003cextra\\u003e\\u003c\\u002fextra\\u003e\",\"ids\":[0],\"legendgroup\":\"\",\"marker\":{\"color\":\"#636efa\",\"symbol\":\"circle\"},\"mode\":\"markers\",\"name\":\"\",\"orientation\":\"v\",\"showlegend\":false,\"x\":[0],\"xaxis\":\"x\",\"y\":[7.25],\"yaxis\":\"y\",\"type\":\"scatter\"}],\"name\":\"20.5\"},{\"data\":[{\"hovertemplate\":\"age=62.0\\u003cbr\\u003esurvived=%{x}\\u003cbr\\u003efare=%{y}\\u003cextra\\u003e\\u003c\\u002fextra\\u003e\",\"ids\":[0,0,1,1],\"legendgroup\":\"\",\"marker\":{\"color\":\"#636efa\",\"symbol\":\"circle\"},\"mode\":\"markers\",\"name\":\"\",\"orientation\":\"v\",\"showlegend\":false,\"x\":[0,0,1,1],\"xaxis\":\"x\",\"y\":[26.55,26.55,10.5,80.0],\"yaxis\":\"y\",\"type\":\"scatter\"}],\"name\":\"62.0\"},{\"data\":[{\"hovertemplate\":\"age=41.0\\u003cbr\\u003esurvived=%{x}\\u003cbr\\u003efare=%{y}\\u003cextra\\u003e\\u003c\\u002fextra\\u003e\",\"ids\":[0,1,1,0,0,0],\"legendgroup\":\"\",\"marker\":{\"color\":\"#636efa\",\"symbol\":\"circle\"},\"mode\":\"markers\",\"name\":\"\",\"orientation\":\"v\",\"showlegend\":false,\"x\":[0,1,1,0,0,0],\"xaxis\":\"x\",\"y\":[20.2125,19.5,134.5,39.6875,7.125,14.1083],\"yaxis\":\"y\",\"type\":\"scatter\"}],\"name\":\"41.0\"},{\"data\":[{\"hovertemplate\":\"age=52.0\\u003cbr\\u003esurvived=%{x}\\u003cbr\\u003efare=%{y}\\u003cextra\\u003e\\u003c\\u002fextra\\u003e\",\"ids\":[0,1,1,0,0,1],\"legendgroup\":\"\",\"marker\":{\"color\":\"#636efa\",\"symbol\":\"circle\"},\"mode\":\"markers\",\"name\":\"\",\"orientation\":\"v\",\"showlegend\":false,\"x\":[0,1,1,0,0,1],\"xaxis\":\"x\",\"y\":[79.65,30.5,78.2667,13.5,13.0,93.5],\"yaxis\":\"y\",\"type\":\"scatter\"}],\"name\":\"52.0\"},{\"data\":[{\"hovertemplate\":\"age=63.0\\u003cbr\\u003esurvived=%{x}\\u003cbr\\u003efare=%{y}\\u003cextra\\u003e\\u003c\\u002fextra\\u003e\",\"ids\":[1,1],\"legendgroup\":\"\",\"marker\":{\"color\":\"#636efa\",\"symbol\":\"circle\"},\"mode\":\"markers\",\"name\":\"\",\"orientation\":\"v\",\"showlegend\":false,\"x\":[1,1],\"xaxis\":\"x\",\"y\":[77.9583,9.5875],\"yaxis\":\"y\",\"type\":\"scatter\"}],\"name\":\"63.0\"},{\"data\":[{\"hovertemplate\":\"age=23.5\\u003cbr\\u003esurvived=%{x}\\u003cbr\\u003efare=%{y}\\u003cextra\\u003e\\u003c\\u002fextra\\u003e\",\"ids\":[0],\"legendgroup\":\"\",\"marker\":{\"color\":\"#636efa\",\"symbol\":\"circle\"},\"mode\":\"markers\",\"name\":\"\",\"orientation\":\"v\",\"showlegend\":false,\"x\":[0],\"xaxis\":\"x\",\"y\":[7.2292],\"yaxis\":\"y\",\"type\":\"scatter\"}],\"name\":\"23.5\"},{\"data\":[{\"hovertemplate\":\"age=0.92\\u003cbr\\u003esurvived=%{x}\\u003cbr\\u003efare=%{y}\\u003cextra\\u003e\\u003c\\u002fextra\\u003e\",\"ids\":[1],\"legendgroup\":\"\",\"marker\":{\"color\":\"#636efa\",\"symbol\":\"circle\"},\"mode\":\"markers\",\"name\":\"\",\"orientation\":\"v\",\"showlegend\":false,\"x\":[1],\"xaxis\":\"x\",\"y\":[151.55],\"yaxis\":\"y\",\"type\":\"scatter\"}],\"name\":\"0.92\"},{\"data\":[{\"hovertemplate\":\"age=43.0\\u003cbr\\u003esurvived=%{x}\\u003cbr\\u003efare=%{y}\\u003cextra\\u003e\\u003c\\u002fextra\\u003e\",\"ids\":[0,0,0,1,0],\"legendgroup\":\"\",\"marker\":{\"color\":\"#636efa\",\"symbol\":\"circle\"},\"mode\":\"markers\",\"name\":\"\",\"orientation\":\"v\",\"showlegend\":false,\"x\":[0,0,0,1,0],\"xaxis\":\"x\",\"y\":[26.25,8.05,46.9,211.3375,6.45],\"yaxis\":\"y\",\"type\":\"scatter\"}],\"name\":\"43.0\"},{\"data\":[{\"hovertemplate\":\"age=60.0\\u003cbr\\u003esurvived=%{x}\\u003cbr\\u003efare=%{y}\\u003cextra\\u003e\\u003c\\u002fextra\\u003e\",\"ids\":[1,1,0,0],\"legendgroup\":\"\",\"marker\":{\"color\":\"#636efa\",\"symbol\":\"circle\"},\"mode\":\"markers\",\"name\":\"\",\"orientation\":\"v\",\"showlegend\":false,\"x\":[1,1,0,0],\"xaxis\":\"x\",\"y\":[75.25,79.2,39.0,26.55],\"yaxis\":\"y\",\"type\":\"scatter\"}],\"name\":\"60.0\"},{\"data\":[{\"hovertemplate\":\"age=10.0\\u003cbr\\u003esurvived=%{x}\\u003cbr\\u003efare=%{y}\\u003cextra\\u003e\\u003c\\u002fextra\\u003e\",\"ids\":[0,0],\"legendgroup\":\"\",\"marker\":{\"color\":\"#636efa\",\"symbol\":\"circle\"},\"mode\":\"markers\",\"name\":\"\",\"orientation\":\"v\",\"showlegend\":false,\"x\":[0,0],\"xaxis\":\"x\",\"y\":[24.15,27.9],\"yaxis\":\"y\",\"type\":\"scatter\"}],\"name\":\"10.0\"},{\"data\":[{\"hovertemplate\":\"age=64.0\\u003cbr\\u003esurvived=%{x}\\u003cbr\\u003efare=%{y}\\u003cextra\\u003e\\u003c\\u002fextra\\u003e\",\"ids\":[0,0],\"legendgroup\":\"\",\"marker\":{\"color\":\"#636efa\",\"symbol\":\"circle\"},\"mode\":\"markers\",\"name\":\"\",\"orientation\":\"v\",\"showlegend\":false,\"x\":[0,0],\"xaxis\":\"x\",\"y\":[263.0,26.0],\"yaxis\":\"y\",\"type\":\"scatter\"}],\"name\":\"64.0\"},{\"data\":[{\"hovertemplate\":\"age=13.0\\u003cbr\\u003esurvived=%{x}\\u003cbr\\u003efare=%{y}\\u003cextra\\u003e\\u003c\\u002fextra\\u003e\",\"ids\":[1,1],\"legendgroup\":\"\",\"marker\":{\"color\":\"#636efa\",\"symbol\":\"circle\"},\"mode\":\"markers\",\"name\":\"\",\"orientation\":\"v\",\"showlegend\":false,\"x\":[1,1],\"xaxis\":\"x\",\"y\":[19.5,7.2292],\"yaxis\":\"y\",\"type\":\"scatter\"}],\"name\":\"13.0\"},{\"data\":[{\"hovertemplate\":\"age=48.0\\u003cbr\\u003esurvived=%{x}\\u003cbr\\u003efare=%{y}\\u003cextra\\u003e\\u003c\\u002fextra\\u003e\",\"ids\":[1,0,1,1,1,0,1,0,1],\"legendgroup\":\"\",\"marker\":{\"color\":\"#636efa\",\"symbol\":\"circle\"},\"mode\":\"markers\",\"name\":\"\",\"orientation\":\"v\",\"showlegend\":false,\"x\":[1,0,1,1,1,0,1,0,1],\"xaxis\":\"x\",\"y\":[26.55,13.0,39.6,76.7292,52.0,34.375,65.0,7.8542,25.9292],\"yaxis\":\"y\",\"type\":\"scatter\"}],\"name\":\"48.0\"},{\"data\":[{\"hovertemplate\":\"age=0.75\\u003cbr\\u003esurvived=%{x}\\u003cbr\\u003efare=%{y}\\u003cextra\\u003e\\u003c\\u002fextra\\u003e\",\"ids\":[1,1],\"legendgroup\":\"\",\"marker\":{\"color\":\"#636efa\",\"symbol\":\"circle\"},\"mode\":\"markers\",\"name\":\"\",\"orientation\":\"v\",\"showlegend\":false,\"x\":[1,1],\"xaxis\":\"x\",\"y\":[19.2583,19.2583],\"yaxis\":\"y\",\"type\":\"scatter\"}],\"name\":\"0.75\"},{\"data\":[{\"hovertemplate\":\"age=53.0\\u003cbr\\u003esurvived=%{x}\\u003cbr\\u003efare=%{y}\\u003cextra\\u003e\\u003c\\u002fextra\\u003e\",\"ids\":[1],\"legendgroup\":\"\",\"marker\":{\"color\":\"#636efa\",\"symbol\":\"circle\"},\"mode\":\"markers\",\"name\":\"\",\"orientation\":\"v\",\"showlegend\":false,\"x\":[1],\"xaxis\":\"x\",\"y\":[51.4792],\"yaxis\":\"y\",\"type\":\"scatter\"}],\"name\":\"53.0\"},{\"data\":[{\"hovertemplate\":\"age=57.0\\u003cbr\\u003esurvived=%{x}\\u003cbr\\u003efare=%{y}\\u003cextra\\u003e\\u003c\\u002fextra\\u003e\",\"ids\":[0,0],\"legendgroup\":\"\",\"marker\":{\"color\":\"#636efa\",\"symbol\":\"circle\"},\"mode\":\"markers\",\"name\":\"\",\"orientation\":\"v\",\"showlegend\":false,\"x\":[0,0],\"xaxis\":\"x\",\"y\":[12.35,10.5],\"yaxis\":\"y\",\"type\":\"scatter\"}],\"name\":\"57.0\"},{\"data\":[{\"hovertemplate\":\"age=80.0\\u003cbr\\u003esurvived=%{x}\\u003cbr\\u003efare=%{y}\\u003cextra\\u003e\\u003c\\u002fextra\\u003e\",\"ids\":[1],\"legendgroup\":\"\",\"marker\":{\"color\":\"#636efa\",\"symbol\":\"circle\"},\"mode\":\"markers\",\"name\":\"\",\"orientation\":\"v\",\"showlegend\":false,\"x\":[1],\"xaxis\":\"x\",\"y\":[30.0],\"yaxis\":\"y\",\"type\":\"scatter\"}],\"name\":\"80.0\"},{\"data\":[{\"hovertemplate\":\"age=70.0\\u003cbr\\u003esurvived=%{x}\\u003cbr\\u003efare=%{y}\\u003cextra\\u003e\\u003c\\u002fextra\\u003e\",\"ids\":[0,0],\"legendgroup\":\"\",\"marker\":{\"color\":\"#636efa\",\"symbol\":\"circle\"},\"mode\":\"markers\",\"name\":\"\",\"orientation\":\"v\",\"showlegend\":false,\"x\":[0,0],\"xaxis\":\"x\",\"y\":[10.5,71.0],\"yaxis\":\"y\",\"type\":\"scatter\"}],\"name\":\"70.0\"},{\"data\":[{\"hovertemplate\":\"age=24.5\\u003cbr\\u003esurvived=%{x}\\u003cbr\\u003efare=%{y}\\u003cextra\\u003e\\u003c\\u002fextra\\u003e\",\"ids\":[0],\"legendgroup\":\"\",\"marker\":{\"color\":\"#636efa\",\"symbol\":\"circle\"},\"mode\":\"markers\",\"name\":\"\",\"orientation\":\"v\",\"showlegend\":false,\"x\":[0],\"xaxis\":\"x\",\"y\":[8.05],\"yaxis\":\"y\",\"type\":\"scatter\"}],\"name\":\"24.5\"},{\"data\":[{\"hovertemplate\":\"age=6.0\\u003cbr\\u003esurvived=%{x}\\u003cbr\\u003efare=%{y}\\u003cextra\\u003e\\u003c\\u002fextra\\u003e\",\"ids\":[1,1,0],\"legendgroup\":\"\",\"marker\":{\"color\":\"#636efa\",\"symbol\":\"circle\"},\"mode\":\"markers\",\"name\":\"\",\"orientation\":\"v\",\"showlegend\":false,\"x\":[1,1,0],\"xaxis\":\"x\",\"y\":[33.0,12.475,31.275],\"yaxis\":\"y\",\"type\":\"scatter\"}],\"name\":\"6.0\"},{\"data\":[{\"hovertemplate\":\"age=0.67\\u003cbr\\u003esurvived=%{x}\\u003cbr\\u003efare=%{y}\\u003cextra\\u003e\\u003c\\u002fextra\\u003e\",\"ids\":[1],\"legendgroup\":\"\",\"marker\":{\"color\":\"#636efa\",\"symbol\":\"circle\"},\"mode\":\"markers\",\"name\":\"\",\"orientation\":\"v\",\"showlegend\":false,\"x\":[1],\"xaxis\":\"x\",\"y\":[14.5],\"yaxis\":\"y\",\"type\":\"scatter\"}],\"name\":\"0.67\"},{\"data\":[{\"hovertemplate\":\"age=30.5\\u003cbr\\u003esurvived=%{x}\\u003cbr\\u003efare=%{y}\\u003cextra\\u003e\\u003c\\u002fextra\\u003e\",\"ids\":[0,0],\"legendgroup\":\"\",\"marker\":{\"color\":\"#636efa\",\"symbol\":\"circle\"},\"mode\":\"markers\",\"name\":\"\",\"orientation\":\"v\",\"showlegend\":false,\"x\":[0,0],\"xaxis\":\"x\",\"y\":[7.75,8.05],\"yaxis\":\"y\",\"type\":\"scatter\"}],\"name\":\"30.5\"},{\"data\":[{\"hovertemplate\":\"age=0.42\\u003cbr\\u003esurvived=%{x}\\u003cbr\\u003efare=%{y}\\u003cextra\\u003e\\u003c\\u002fextra\\u003e\",\"ids\":[1],\"legendgroup\":\"\",\"marker\":{\"color\":\"#636efa\",\"symbol\":\"circle\"},\"mode\":\"markers\",\"name\":\"\",\"orientation\":\"v\",\"showlegend\":false,\"x\":[1],\"xaxis\":\"x\",\"y\":[8.5167],\"yaxis\":\"y\",\"type\":\"scatter\"}],\"name\":\"0.42\"},{\"data\":[{\"hovertemplate\":\"age=34.5\\u003cbr\\u003esurvived=%{x}\\u003cbr\\u003efare=%{y}\\u003cextra\\u003e\\u003c\\u002fextra\\u003e\",\"ids\":[0],\"legendgroup\":\"\",\"marker\":{\"color\":\"#636efa\",\"symbol\":\"circle\"},\"mode\":\"markers\",\"name\":\"\",\"orientation\":\"v\",\"showlegend\":false,\"x\":[0],\"xaxis\":\"x\",\"y\":[6.4375],\"yaxis\":\"y\",\"type\":\"scatter\"}],\"name\":\"34.5\"},{\"data\":[{\"hovertemplate\":\"age=74.0\\u003cbr\\u003esurvived=%{x}\\u003cbr\\u003efare=%{y}\\u003cextra\\u003e\\u003c\\u002fextra\\u003e\",\"ids\":[0],\"legendgroup\":\"\",\"marker\":{\"color\":\"#636efa\",\"symbol\":\"circle\"},\"mode\":\"markers\",\"name\":\"\",\"orientation\":\"v\",\"showlegend\":false,\"x\":[0],\"xaxis\":\"x\",\"y\":[7.775],\"yaxis\":\"y\",\"type\":\"scatter\"}],\"name\":\"74.0\"}]);\n",
       "                        }).then(function(){\n",
       "                            \n",
       "var gd = document.getElementById('7ec687a9-73f4-4a23-a897-0498eac7899b');\n",
       "var x = new MutationObserver(function (mutations, observer) {{\n",
       "        var display = window.getComputedStyle(gd).display;\n",
       "        if (!display || display === 'none') {{\n",
       "            console.log([gd, 'removed!']);\n",
       "            Plotly.purge(gd);\n",
       "            observer.disconnect();\n",
       "        }}\n",
       "}});\n",
       "\n",
       "// Listen for the removal of the full notebook cells\n",
       "var notebookContainer = gd.closest('#notebook-container');\n",
       "if (notebookContainer) {{\n",
       "    x.observe(notebookContainer, {childList: true});\n",
       "}}\n",
       "\n",
       "// Listen for the clearing of the current output cell\n",
       "var outputEl = gd.closest('.output');\n",
       "if (outputEl) {{\n",
       "    x.observe(outputEl, {childList: true});\n",
       "}}\n",
       "\n",
       "                        })                };                });            </script>        </div>"
      ]
     },
     "metadata": {},
     "output_type": "display_data"
    }
   ],
   "source": [
    "px.scatter(df, x = 'survived', y = 'fare', animation_frame = 'age', animation_group='survived')"
   ]
  },
  {
   "cell_type": "code",
   "execution_count": 103,
   "id": "9b86c6c0",
   "metadata": {},
   "outputs": [
    {
     "data": {
      "text/html": [
       "<div>\n",
       "<style scoped>\n",
       "    .dataframe tbody tr th:only-of-type {\n",
       "        vertical-align: middle;\n",
       "    }\n",
       "\n",
       "    .dataframe tbody tr th {\n",
       "        vertical-align: top;\n",
       "    }\n",
       "\n",
       "    .dataframe thead th {\n",
       "        text-align: right;\n",
       "    }\n",
       "</style>\n",
       "<table border=\"1\" class=\"dataframe\">\n",
       "  <thead>\n",
       "    <tr style=\"text-align: right;\">\n",
       "      <th></th>\n",
       "      <th>survived</th>\n",
       "      <th>pclass</th>\n",
       "      <th>age</th>\n",
       "      <th>sibsp</th>\n",
       "      <th>parch</th>\n",
       "      <th>fare</th>\n",
       "    </tr>\n",
       "  </thead>\n",
       "  <tbody>\n",
       "    <tr>\n",
       "      <th>count</th>\n",
       "      <td>891.000000</td>\n",
       "      <td>891.000000</td>\n",
       "      <td>714.000000</td>\n",
       "      <td>891.000000</td>\n",
       "      <td>891.000000</td>\n",
       "      <td>891.000000</td>\n",
       "    </tr>\n",
       "    <tr>\n",
       "      <th>mean</th>\n",
       "      <td>0.383838</td>\n",
       "      <td>2.308642</td>\n",
       "      <td>29.699118</td>\n",
       "      <td>0.523008</td>\n",
       "      <td>0.381594</td>\n",
       "      <td>32.204208</td>\n",
       "    </tr>\n",
       "    <tr>\n",
       "      <th>std</th>\n",
       "      <td>0.486592</td>\n",
       "      <td>0.836071</td>\n",
       "      <td>14.526497</td>\n",
       "      <td>1.102743</td>\n",
       "      <td>0.806057</td>\n",
       "      <td>49.693429</td>\n",
       "    </tr>\n",
       "    <tr>\n",
       "      <th>min</th>\n",
       "      <td>0.000000</td>\n",
       "      <td>1.000000</td>\n",
       "      <td>0.420000</td>\n",
       "      <td>0.000000</td>\n",
       "      <td>0.000000</td>\n",
       "      <td>0.000000</td>\n",
       "    </tr>\n",
       "    <tr>\n",
       "      <th>25%</th>\n",
       "      <td>0.000000</td>\n",
       "      <td>2.000000</td>\n",
       "      <td>20.125000</td>\n",
       "      <td>0.000000</td>\n",
       "      <td>0.000000</td>\n",
       "      <td>7.910400</td>\n",
       "    </tr>\n",
       "    <tr>\n",
       "      <th>50%</th>\n",
       "      <td>0.000000</td>\n",
       "      <td>3.000000</td>\n",
       "      <td>28.000000</td>\n",
       "      <td>0.000000</td>\n",
       "      <td>0.000000</td>\n",
       "      <td>14.454200</td>\n",
       "    </tr>\n",
       "    <tr>\n",
       "      <th>75%</th>\n",
       "      <td>1.000000</td>\n",
       "      <td>3.000000</td>\n",
       "      <td>38.000000</td>\n",
       "      <td>1.000000</td>\n",
       "      <td>0.000000</td>\n",
       "      <td>31.000000</td>\n",
       "    </tr>\n",
       "    <tr>\n",
       "      <th>max</th>\n",
       "      <td>1.000000</td>\n",
       "      <td>3.000000</td>\n",
       "      <td>80.000000</td>\n",
       "      <td>8.000000</td>\n",
       "      <td>6.000000</td>\n",
       "      <td>512.329200</td>\n",
       "    </tr>\n",
       "  </tbody>\n",
       "</table>\n",
       "</div>"
      ],
      "text/plain": [
       "         survived      pclass         age       sibsp       parch        fare\n",
       "count  891.000000  891.000000  714.000000  891.000000  891.000000  891.000000\n",
       "mean     0.383838    2.308642   29.699118    0.523008    0.381594   32.204208\n",
       "std      0.486592    0.836071   14.526497    1.102743    0.806057   49.693429\n",
       "min      0.000000    1.000000    0.420000    0.000000    0.000000    0.000000\n",
       "25%      0.000000    2.000000   20.125000    0.000000    0.000000    7.910400\n",
       "50%      0.000000    3.000000   28.000000    0.000000    0.000000   14.454200\n",
       "75%      1.000000    3.000000   38.000000    1.000000    0.000000   31.000000\n",
       "max      1.000000    3.000000   80.000000    8.000000    6.000000  512.329200"
      ]
     },
     "execution_count": 103,
     "metadata": {},
     "output_type": "execute_result"
    }
   ],
   "source": [
    "df.describe()"
   ]
  },
  {
   "cell_type": "code",
   "execution_count": 104,
   "id": "059a5b6b",
   "metadata": {},
   "outputs": [
    {
     "data": {
      "text/html": [
       "<div>\n",
       "<style scoped>\n",
       "    .dataframe tbody tr th:only-of-type {\n",
       "        vertical-align: middle;\n",
       "    }\n",
       "\n",
       "    .dataframe tbody tr th {\n",
       "        vertical-align: top;\n",
       "    }\n",
       "\n",
       "    .dataframe thead th {\n",
       "        text-align: right;\n",
       "    }\n",
       "</style>\n",
       "<table border=\"1\" class=\"dataframe\">\n",
       "  <thead>\n",
       "    <tr style=\"text-align: right;\">\n",
       "      <th></th>\n",
       "      <th>survived</th>\n",
       "      <th>pclass</th>\n",
       "      <th>sex</th>\n",
       "      <th>age</th>\n",
       "      <th>sibsp</th>\n",
       "      <th>parch</th>\n",
       "      <th>fare</th>\n",
       "      <th>embarked</th>\n",
       "      <th>class</th>\n",
       "      <th>who</th>\n",
       "      <th>adult_male</th>\n",
       "      <th>deck</th>\n",
       "      <th>embark_town</th>\n",
       "      <th>alive</th>\n",
       "      <th>alone</th>\n",
       "    </tr>\n",
       "  </thead>\n",
       "  <tbody>\n",
       "    <tr>\n",
       "      <th>7</th>\n",
       "      <td>0</td>\n",
       "      <td>3</td>\n",
       "      <td>male</td>\n",
       "      <td>2.00</td>\n",
       "      <td>3</td>\n",
       "      <td>1</td>\n",
       "      <td>21.0750</td>\n",
       "      <td>S</td>\n",
       "      <td>Third</td>\n",
       "      <td>child</td>\n",
       "      <td>False</td>\n",
       "      <td>NaN</td>\n",
       "      <td>Southampton</td>\n",
       "      <td>no</td>\n",
       "      <td>False</td>\n",
       "    </tr>\n",
       "    <tr>\n",
       "      <th>10</th>\n",
       "      <td>1</td>\n",
       "      <td>3</td>\n",
       "      <td>female</td>\n",
       "      <td>4.00</td>\n",
       "      <td>1</td>\n",
       "      <td>1</td>\n",
       "      <td>16.7000</td>\n",
       "      <td>S</td>\n",
       "      <td>Third</td>\n",
       "      <td>child</td>\n",
       "      <td>False</td>\n",
       "      <td>G</td>\n",
       "      <td>Southampton</td>\n",
       "      <td>yes</td>\n",
       "      <td>False</td>\n",
       "    </tr>\n",
       "    <tr>\n",
       "      <th>16</th>\n",
       "      <td>0</td>\n",
       "      <td>3</td>\n",
       "      <td>male</td>\n",
       "      <td>2.00</td>\n",
       "      <td>4</td>\n",
       "      <td>1</td>\n",
       "      <td>29.1250</td>\n",
       "      <td>Q</td>\n",
       "      <td>Third</td>\n",
       "      <td>child</td>\n",
       "      <td>False</td>\n",
       "      <td>NaN</td>\n",
       "      <td>Queenstown</td>\n",
       "      <td>no</td>\n",
       "      <td>False</td>\n",
       "    </tr>\n",
       "    <tr>\n",
       "      <th>24</th>\n",
       "      <td>0</td>\n",
       "      <td>3</td>\n",
       "      <td>female</td>\n",
       "      <td>8.00</td>\n",
       "      <td>3</td>\n",
       "      <td>1</td>\n",
       "      <td>21.0750</td>\n",
       "      <td>S</td>\n",
       "      <td>Third</td>\n",
       "      <td>child</td>\n",
       "      <td>False</td>\n",
       "      <td>NaN</td>\n",
       "      <td>Southampton</td>\n",
       "      <td>no</td>\n",
       "      <td>False</td>\n",
       "    </tr>\n",
       "    <tr>\n",
       "      <th>43</th>\n",
       "      <td>1</td>\n",
       "      <td>2</td>\n",
       "      <td>female</td>\n",
       "      <td>3.00</td>\n",
       "      <td>1</td>\n",
       "      <td>2</td>\n",
       "      <td>41.5792</td>\n",
       "      <td>C</td>\n",
       "      <td>Second</td>\n",
       "      <td>child</td>\n",
       "      <td>False</td>\n",
       "      <td>NaN</td>\n",
       "      <td>Cherbourg</td>\n",
       "      <td>yes</td>\n",
       "      <td>False</td>\n",
       "    </tr>\n",
       "    <tr>\n",
       "      <th>...</th>\n",
       "      <td>...</td>\n",
       "      <td>...</td>\n",
       "      <td>...</td>\n",
       "      <td>...</td>\n",
       "      <td>...</td>\n",
       "      <td>...</td>\n",
       "      <td>...</td>\n",
       "      <td>...</td>\n",
       "      <td>...</td>\n",
       "      <td>...</td>\n",
       "      <td>...</td>\n",
       "      <td>...</td>\n",
       "      <td>...</td>\n",
       "      <td>...</td>\n",
       "      <td>...</td>\n",
       "    </tr>\n",
       "    <tr>\n",
       "      <th>827</th>\n",
       "      <td>1</td>\n",
       "      <td>2</td>\n",
       "      <td>male</td>\n",
       "      <td>1.00</td>\n",
       "      <td>0</td>\n",
       "      <td>2</td>\n",
       "      <td>37.0042</td>\n",
       "      <td>C</td>\n",
       "      <td>Second</td>\n",
       "      <td>child</td>\n",
       "      <td>False</td>\n",
       "      <td>NaN</td>\n",
       "      <td>Cherbourg</td>\n",
       "      <td>yes</td>\n",
       "      <td>False</td>\n",
       "    </tr>\n",
       "    <tr>\n",
       "      <th>831</th>\n",
       "      <td>1</td>\n",
       "      <td>2</td>\n",
       "      <td>male</td>\n",
       "      <td>0.83</td>\n",
       "      <td>1</td>\n",
       "      <td>1</td>\n",
       "      <td>18.7500</td>\n",
       "      <td>S</td>\n",
       "      <td>Second</td>\n",
       "      <td>child</td>\n",
       "      <td>False</td>\n",
       "      <td>NaN</td>\n",
       "      <td>Southampton</td>\n",
       "      <td>yes</td>\n",
       "      <td>False</td>\n",
       "    </tr>\n",
       "    <tr>\n",
       "      <th>850</th>\n",
       "      <td>0</td>\n",
       "      <td>3</td>\n",
       "      <td>male</td>\n",
       "      <td>4.00</td>\n",
       "      <td>4</td>\n",
       "      <td>2</td>\n",
       "      <td>31.2750</td>\n",
       "      <td>S</td>\n",
       "      <td>Third</td>\n",
       "      <td>child</td>\n",
       "      <td>False</td>\n",
       "      <td>NaN</td>\n",
       "      <td>Southampton</td>\n",
       "      <td>no</td>\n",
       "      <td>False</td>\n",
       "    </tr>\n",
       "    <tr>\n",
       "      <th>852</th>\n",
       "      <td>0</td>\n",
       "      <td>3</td>\n",
       "      <td>female</td>\n",
       "      <td>9.00</td>\n",
       "      <td>1</td>\n",
       "      <td>1</td>\n",
       "      <td>15.2458</td>\n",
       "      <td>C</td>\n",
       "      <td>Third</td>\n",
       "      <td>child</td>\n",
       "      <td>False</td>\n",
       "      <td>NaN</td>\n",
       "      <td>Cherbourg</td>\n",
       "      <td>no</td>\n",
       "      <td>False</td>\n",
       "    </tr>\n",
       "    <tr>\n",
       "      <th>869</th>\n",
       "      <td>1</td>\n",
       "      <td>3</td>\n",
       "      <td>male</td>\n",
       "      <td>4.00</td>\n",
       "      <td>1</td>\n",
       "      <td>1</td>\n",
       "      <td>11.1333</td>\n",
       "      <td>S</td>\n",
       "      <td>Third</td>\n",
       "      <td>child</td>\n",
       "      <td>False</td>\n",
       "      <td>NaN</td>\n",
       "      <td>Southampton</td>\n",
       "      <td>yes</td>\n",
       "      <td>False</td>\n",
       "    </tr>\n",
       "  </tbody>\n",
       "</table>\n",
       "<p>62 rows × 15 columns</p>\n",
       "</div>"
      ],
      "text/plain": [
       "     survived  pclass     sex   age  sibsp  parch     fare embarked   class  \\\n",
       "7           0       3    male  2.00      3      1  21.0750        S   Third   \n",
       "10          1       3  female  4.00      1      1  16.7000        S   Third   \n",
       "16          0       3    male  2.00      4      1  29.1250        Q   Third   \n",
       "24          0       3  female  8.00      3      1  21.0750        S   Third   \n",
       "43          1       2  female  3.00      1      2  41.5792        C  Second   \n",
       "..        ...     ...     ...   ...    ...    ...      ...      ...     ...   \n",
       "827         1       2    male  1.00      0      2  37.0042        C  Second   \n",
       "831         1       2    male  0.83      1      1  18.7500        S  Second   \n",
       "850         0       3    male  4.00      4      2  31.2750        S   Third   \n",
       "852         0       3  female  9.00      1      1  15.2458        C   Third   \n",
       "869         1       3    male  4.00      1      1  11.1333        S   Third   \n",
       "\n",
       "       who  adult_male deck  embark_town alive  alone  \n",
       "7    child       False  NaN  Southampton    no  False  \n",
       "10   child       False    G  Southampton   yes  False  \n",
       "16   child       False  NaN   Queenstown    no  False  \n",
       "24   child       False  NaN  Southampton    no  False  \n",
       "43   child       False  NaN    Cherbourg   yes  False  \n",
       "..     ...         ...  ...          ...   ...    ...  \n",
       "827  child       False  NaN    Cherbourg   yes  False  \n",
       "831  child       False  NaN  Southampton   yes  False  \n",
       "850  child       False  NaN  Southampton    no  False  \n",
       "852  child       False  NaN    Cherbourg    no  False  \n",
       "869  child       False  NaN  Southampton   yes  False  \n",
       "\n",
       "[62 rows x 15 columns]"
      ]
     },
     "execution_count": 104,
     "metadata": {},
     "output_type": "execute_result"
    }
   ],
   "source": [
    "df[df['age'] < 10]"
   ]
  }
 ],
 "metadata": {
  "kernelspec": {
   "display_name": "Python 3",
   "language": "python",
   "name": "python3"
  },
  "language_info": {
   "codemirror_mode": {
    "name": "ipython",
    "version": 3
   },
   "file_extension": ".py",
   "mimetype": "text/x-python",
   "name": "python",
   "nbconvert_exporter": "python",
   "pygments_lexer": "ipython3",
   "version": "3.8.8"
  }
 },
 "nbformat": 4,
 "nbformat_minor": 5
}
